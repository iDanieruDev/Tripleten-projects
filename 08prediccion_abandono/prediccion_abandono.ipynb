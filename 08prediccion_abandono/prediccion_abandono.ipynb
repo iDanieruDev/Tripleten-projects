{
 "cells": [
  {
   "cell_type": "markdown",
   "metadata": {},
   "source": [
    "# Descripción del Proyecto\n",
    "Los clientes de Beta Bank se están yendo, cada mes, poco a poco. Los banqueros descubrieron que es más barato salvar a los clientes existentes que atraer nuevos.\n",
    "Necesitamos predecir si un cliente dejará el banco pronto. Tenemos los datos sobre el comportamiento pasado de los clientes y la terminación de contratos con el banco.\n",
    "Crearemos un modelo con el máximo valor F1 posible. Para aprobar la revisión, necesitamos un valor F1 de al menos 0.59.  Verificaremos F1 para el conjunto de prueba.\n",
    "Además, mediremos la métrica AUC-ROC y la compararemos con el valor F1."
   ]
  },
  {
   "cell_type": "markdown",
   "metadata": {
    "toc": true
   },
   "source": [
    "<h1>Tabla de contenidos<span class=\"tocSkip\"></span></h1>\n",
    "<div class=\"toc\"><ul class=\"toc-item\"><li><span><a href=\"#Inicialización\" data-toc-modified-id=\"Inicialización-1\"><span class=\"toc-item-num\">1&nbsp;&nbsp;</span>Inicialización</a></span></li><li><span><a href=\"#Cargar-los-datos\" data-toc-modified-id=\"Cargar-los-datos-2\"><span class=\"toc-item-num\">2&nbsp;&nbsp;</span>Cargar los datos</a></span></li><li><span><a href=\"#Revisión-y-corrección-de-datos\" data-toc-modified-id=\"Revisión-y-corrección-de-datos-3\"><span class=\"toc-item-num\">3&nbsp;&nbsp;</span>Revisión y corrección de datos</a></span></li><li><span><a href=\"#Buscando-el-mejor-modelo\" data-toc-modified-id=\"Buscando-el-mejor-modelo-4\"><span class=\"toc-item-num\">4&nbsp;&nbsp;</span>Buscando el mejor modelo</a></span><ul class=\"toc-item\"><li><span><a href=\"#Configurando-el-set-de-entrenamiento-y-validación\" data-toc-modified-id=\"Configurando-el-set-de-entrenamiento-y-validación-4.1\"><span class=\"toc-item-num\">4.1&nbsp;&nbsp;</span>Configurando el set de entrenamiento y validación</a></span></li><li><span><a href=\"#Modelo-de-Regresión-logistica\" data-toc-modified-id=\"Modelo-de-Regresión-logistica-4.2\"><span class=\"toc-item-num\">4.2&nbsp;&nbsp;</span>Modelo de Regresión logistica</a></span></li><li><span><a href=\"#Desequilibrio-de-clases\" data-toc-modified-id=\"Desequilibrio-de-clases-4.3\"><span class=\"toc-item-num\">4.3&nbsp;&nbsp;</span>Desequilibrio de clases</a></span></li><li><span><a href=\"#Modelo-de-Arbol-de-decisión-(entrenado-con-datos-balanceados)\" data-toc-modified-id=\"Modelo-de-Arbol-de-decisión-(entrenado-con-datos-balanceados)-4.4\"><span class=\"toc-item-num\">4.4&nbsp;&nbsp;</span>Modelo de Arbol de decisión (entrenado con datos balanceados)</a></span></li><li><span><a href=\"#Modelo-de-Bosques-aleatorios-(entrenado-con-datos-balanceados)\" data-toc-modified-id=\"Modelo-de-Bosques-aleatorios-(entrenado-con-datos-balanceados)-4.5\"><span class=\"toc-item-num\">4.5&nbsp;&nbsp;</span>Modelo de Bosques aleatorios (entrenado con datos balanceados)</a></span></li></ul></li><li><span><a href=\"#Metrica-AUC-ROC\" data-toc-modified-id=\"Metrica-AUC-ROC-5\"><span class=\"toc-item-num\">5&nbsp;&nbsp;</span>Metrica AUC-ROC</a></span></li><li><span><a href=\"#Conclusión\" data-toc-modified-id=\"Conclusión-6\"><span class=\"toc-item-num\">6&nbsp;&nbsp;</span>Conclusión</a></span></li></ul></div>"
   ]
  },
  {
   "cell_type": "markdown",
   "metadata": {},
   "source": [
    "## Inicialización"
   ]
  },
  {
   "cell_type": "code",
   "execution_count": 1,
   "metadata": {},
   "outputs": [],
   "source": [
    "# Cargamos todas las librerías a usar\n",
    "import pandas as pd\n",
    "from IPython.display import display, HTML, Image\n",
    "import matplotlib.pyplot as plt\n",
    "from sklearn.utils import shuffle\n",
    "\n",
    "from sklearn.model_selection import train_test_split\n",
    "from sklearn.preprocessing import StandardScaler\n",
    "\n",
    "from sklearn.linear_model import LogisticRegression\n",
    "from sklearn.tree import DecisionTreeClassifier\n",
    "from sklearn.ensemble import RandomForestClassifier\n",
    "\n",
    "from sklearn.metrics import accuracy_score\n",
    "from sklearn.metrics import recall_score\n",
    "from sklearn.metrics import precision_score\n",
    "from sklearn.metrics import f1_score\n",
    "\n",
    "from sklearn.metrics import roc_auc_score\n",
    "from sklearn.metrics import roc_curve"
   ]
  },
  {
   "cell_type": "code",
   "execution_count": 2,
   "metadata": {},
   "outputs": [],
   "source": [
    "#Definimos una función Print que sea visualmente mas amigable\n",
    "def print_mejorado(texto,size):\n",
    "    size=str(size)\n",
    "    display(HTML('<span style=\"font-size: '+size+'px;\">'+texto+'</span>'))  "
   ]
  },
  {
   "cell_type": "markdown",
   "metadata": {},
   "source": [
    "## Cargar los datos"
   ]
  },
  {
   "cell_type": "code",
   "execution_count": 3,
   "metadata": {},
   "outputs": [],
   "source": [
    "# Carga los archivos de datos en diferentes DataFrames\n",
    "data=pd.read_csv('/datasets/Churn.csv')"
   ]
  },
  {
   "cell_type": "markdown",
   "metadata": {},
   "source": [
    "## Revisión y corrección de datos"
   ]
  },
  {
   "cell_type": "code",
   "execution_count": 4,
   "metadata": {},
   "outputs": [
    {
     "name": "stdout",
     "output_type": "stream",
     "text": [
      "<class 'pandas.core.frame.DataFrame'>\n",
      "RangeIndex: 10000 entries, 0 to 9999\n",
      "Data columns (total 14 columns):\n",
      " #   Column           Non-Null Count  Dtype  \n",
      "---  ------           --------------  -----  \n",
      " 0   RowNumber        10000 non-null  int64  \n",
      " 1   CustomerId       10000 non-null  int64  \n",
      " 2   Surname          10000 non-null  object \n",
      " 3   CreditScore      10000 non-null  int64  \n",
      " 4   Geography        10000 non-null  object \n",
      " 5   Gender           10000 non-null  object \n",
      " 6   Age              10000 non-null  int64  \n",
      " 7   Tenure           9091 non-null   float64\n",
      " 8   Balance          10000 non-null  float64\n",
      " 9   NumOfProducts    10000 non-null  int64  \n",
      " 10  HasCrCard        10000 non-null  int64  \n",
      " 11  IsActiveMember   10000 non-null  int64  \n",
      " 12  EstimatedSalary  10000 non-null  float64\n",
      " 13  Exited           10000 non-null  int64  \n",
      "dtypes: float64(3), int64(8), object(3)\n",
      "memory usage: 1.1+ MB\n"
     ]
    }
   ],
   "source": [
    "data.info()"
   ]
  },
  {
   "cell_type": "code",
   "execution_count": 5,
   "metadata": {},
   "outputs": [
    {
     "data": {
      "text/html": [
       "<div>\n",
       "<style scoped>\n",
       "    .dataframe tbody tr th:only-of-type {\n",
       "        vertical-align: middle;\n",
       "    }\n",
       "\n",
       "    .dataframe tbody tr th {\n",
       "        vertical-align: top;\n",
       "    }\n",
       "\n",
       "    .dataframe thead th {\n",
       "        text-align: right;\n",
       "    }\n",
       "</style>\n",
       "<table border=\"1\" class=\"dataframe\">\n",
       "  <thead>\n",
       "    <tr style=\"text-align: right;\">\n",
       "      <th></th>\n",
       "      <th>RowNumber</th>\n",
       "      <th>CustomerId</th>\n",
       "      <th>Surname</th>\n",
       "      <th>CreditScore</th>\n",
       "      <th>Geography</th>\n",
       "      <th>Gender</th>\n",
       "      <th>Age</th>\n",
       "      <th>Tenure</th>\n",
       "      <th>Balance</th>\n",
       "      <th>NumOfProducts</th>\n",
       "      <th>HasCrCard</th>\n",
       "      <th>IsActiveMember</th>\n",
       "      <th>EstimatedSalary</th>\n",
       "      <th>Exited</th>\n",
       "    </tr>\n",
       "  </thead>\n",
       "  <tbody>\n",
       "    <tr>\n",
       "      <th>0</th>\n",
       "      <td>1</td>\n",
       "      <td>15634602</td>\n",
       "      <td>Hargrave</td>\n",
       "      <td>619</td>\n",
       "      <td>France</td>\n",
       "      <td>Female</td>\n",
       "      <td>42</td>\n",
       "      <td>2.0</td>\n",
       "      <td>0.00</td>\n",
       "      <td>1</td>\n",
       "      <td>1</td>\n",
       "      <td>1</td>\n",
       "      <td>101348.88</td>\n",
       "      <td>1</td>\n",
       "    </tr>\n",
       "    <tr>\n",
       "      <th>1</th>\n",
       "      <td>2</td>\n",
       "      <td>15647311</td>\n",
       "      <td>Hill</td>\n",
       "      <td>608</td>\n",
       "      <td>Spain</td>\n",
       "      <td>Female</td>\n",
       "      <td>41</td>\n",
       "      <td>1.0</td>\n",
       "      <td>83807.86</td>\n",
       "      <td>1</td>\n",
       "      <td>0</td>\n",
       "      <td>1</td>\n",
       "      <td>112542.58</td>\n",
       "      <td>0</td>\n",
       "    </tr>\n",
       "    <tr>\n",
       "      <th>2</th>\n",
       "      <td>3</td>\n",
       "      <td>15619304</td>\n",
       "      <td>Onio</td>\n",
       "      <td>502</td>\n",
       "      <td>France</td>\n",
       "      <td>Female</td>\n",
       "      <td>42</td>\n",
       "      <td>8.0</td>\n",
       "      <td>159660.80</td>\n",
       "      <td>3</td>\n",
       "      <td>1</td>\n",
       "      <td>0</td>\n",
       "      <td>113931.57</td>\n",
       "      <td>1</td>\n",
       "    </tr>\n",
       "    <tr>\n",
       "      <th>3</th>\n",
       "      <td>4</td>\n",
       "      <td>15701354</td>\n",
       "      <td>Boni</td>\n",
       "      <td>699</td>\n",
       "      <td>France</td>\n",
       "      <td>Female</td>\n",
       "      <td>39</td>\n",
       "      <td>1.0</td>\n",
       "      <td>0.00</td>\n",
       "      <td>2</td>\n",
       "      <td>0</td>\n",
       "      <td>0</td>\n",
       "      <td>93826.63</td>\n",
       "      <td>0</td>\n",
       "    </tr>\n",
       "    <tr>\n",
       "      <th>4</th>\n",
       "      <td>5</td>\n",
       "      <td>15737888</td>\n",
       "      <td>Mitchell</td>\n",
       "      <td>850</td>\n",
       "      <td>Spain</td>\n",
       "      <td>Female</td>\n",
       "      <td>43</td>\n",
       "      <td>2.0</td>\n",
       "      <td>125510.82</td>\n",
       "      <td>1</td>\n",
       "      <td>1</td>\n",
       "      <td>1</td>\n",
       "      <td>79084.10</td>\n",
       "      <td>0</td>\n",
       "    </tr>\n",
       "    <tr>\n",
       "      <th>5</th>\n",
       "      <td>6</td>\n",
       "      <td>15574012</td>\n",
       "      <td>Chu</td>\n",
       "      <td>645</td>\n",
       "      <td>Spain</td>\n",
       "      <td>Male</td>\n",
       "      <td>44</td>\n",
       "      <td>8.0</td>\n",
       "      <td>113755.78</td>\n",
       "      <td>2</td>\n",
       "      <td>1</td>\n",
       "      <td>0</td>\n",
       "      <td>149756.71</td>\n",
       "      <td>1</td>\n",
       "    </tr>\n",
       "    <tr>\n",
       "      <th>6</th>\n",
       "      <td>7</td>\n",
       "      <td>15592531</td>\n",
       "      <td>Bartlett</td>\n",
       "      <td>822</td>\n",
       "      <td>France</td>\n",
       "      <td>Male</td>\n",
       "      <td>50</td>\n",
       "      <td>7.0</td>\n",
       "      <td>0.00</td>\n",
       "      <td>2</td>\n",
       "      <td>1</td>\n",
       "      <td>1</td>\n",
       "      <td>10062.80</td>\n",
       "      <td>0</td>\n",
       "    </tr>\n",
       "    <tr>\n",
       "      <th>7</th>\n",
       "      <td>8</td>\n",
       "      <td>15656148</td>\n",
       "      <td>Obinna</td>\n",
       "      <td>376</td>\n",
       "      <td>Germany</td>\n",
       "      <td>Female</td>\n",
       "      <td>29</td>\n",
       "      <td>4.0</td>\n",
       "      <td>115046.74</td>\n",
       "      <td>4</td>\n",
       "      <td>1</td>\n",
       "      <td>0</td>\n",
       "      <td>119346.88</td>\n",
       "      <td>1</td>\n",
       "    </tr>\n",
       "    <tr>\n",
       "      <th>8</th>\n",
       "      <td>9</td>\n",
       "      <td>15792365</td>\n",
       "      <td>He</td>\n",
       "      <td>501</td>\n",
       "      <td>France</td>\n",
       "      <td>Male</td>\n",
       "      <td>44</td>\n",
       "      <td>4.0</td>\n",
       "      <td>142051.07</td>\n",
       "      <td>2</td>\n",
       "      <td>0</td>\n",
       "      <td>1</td>\n",
       "      <td>74940.50</td>\n",
       "      <td>0</td>\n",
       "    </tr>\n",
       "    <tr>\n",
       "      <th>9</th>\n",
       "      <td>10</td>\n",
       "      <td>15592389</td>\n",
       "      <td>H?</td>\n",
       "      <td>684</td>\n",
       "      <td>France</td>\n",
       "      <td>Male</td>\n",
       "      <td>27</td>\n",
       "      <td>2.0</td>\n",
       "      <td>134603.88</td>\n",
       "      <td>1</td>\n",
       "      <td>1</td>\n",
       "      <td>1</td>\n",
       "      <td>71725.73</td>\n",
       "      <td>0</td>\n",
       "    </tr>\n",
       "  </tbody>\n",
       "</table>\n",
       "</div>"
      ],
      "text/plain": [
       "   RowNumber  CustomerId   Surname  CreditScore Geography  Gender  Age  \\\n",
       "0          1    15634602  Hargrave          619    France  Female   42   \n",
       "1          2    15647311      Hill          608     Spain  Female   41   \n",
       "2          3    15619304      Onio          502    France  Female   42   \n",
       "3          4    15701354      Boni          699    France  Female   39   \n",
       "4          5    15737888  Mitchell          850     Spain  Female   43   \n",
       "5          6    15574012       Chu          645     Spain    Male   44   \n",
       "6          7    15592531  Bartlett          822    France    Male   50   \n",
       "7          8    15656148    Obinna          376   Germany  Female   29   \n",
       "8          9    15792365        He          501    France    Male   44   \n",
       "9         10    15592389        H?          684    France    Male   27   \n",
       "\n",
       "   Tenure    Balance  NumOfProducts  HasCrCard  IsActiveMember  \\\n",
       "0     2.0       0.00              1          1               1   \n",
       "1     1.0   83807.86              1          0               1   \n",
       "2     8.0  159660.80              3          1               0   \n",
       "3     1.0       0.00              2          0               0   \n",
       "4     2.0  125510.82              1          1               1   \n",
       "5     8.0  113755.78              2          1               0   \n",
       "6     7.0       0.00              2          1               1   \n",
       "7     4.0  115046.74              4          1               0   \n",
       "8     4.0  142051.07              2          0               1   \n",
       "9     2.0  134603.88              1          1               1   \n",
       "\n",
       "   EstimatedSalary  Exited  \n",
       "0        101348.88       1  \n",
       "1        112542.58       0  \n",
       "2        113931.57       1  \n",
       "3         93826.63       0  \n",
       "4         79084.10       0  \n",
       "5        149756.71       1  \n",
       "6         10062.80       0  \n",
       "7        119346.88       1  \n",
       "8         74940.50       0  \n",
       "9         71725.73       0  "
      ]
     },
     "execution_count": 5,
     "metadata": {},
     "output_type": "execute_result"
    }
   ],
   "source": [
    "# Imprimimos una muestra pequeña de nuestros datos\n",
    "data.head(10)"
   ]
  },
  {
   "cell_type": "markdown",
   "metadata": {},
   "source": [
    "<b>Características</b>  \n",
    "- <i>RowNumber</i>: índice de cadena de datos  \n",
    "- <i>CustomerId</i>: identificador de cliente único  \n",
    "- <i>Surnam</i>e: apellido  \n",
    "- <i>CreditScore</i>: valor de crédito  \n",
    "- <i>Geography</i>: país de residencia  \n",
    "- <i>Gender</i>: sexo  \n",
    "- <i>Age</i>: edad  \n",
    "- <i>Tenure</i>: período durante el cual ha madurado el depósito a plazo fijo de un cliente (años)  \n",
    "- <i>Balance</i>: saldo de la cuenta  \n",
    "- <i>NumOfProducts</i>: número de productos bancarios utilizados por el cliente  \n",
    "- <i>HasCrCard</i>: el cliente tiene una tarjeta de crédito (1 - sí; 0 - no)  \n",
    "- <i>IsActiveMember</i>: actividad del cliente (1 - sí; 0 - no)  \n",
    "- <i>EstimatedSalary</i>: salario estimado  \n",
    "\n",
    "<b>Objetivo</b>\n",
    "- <i>Exited</i>: El cliente se ha ido (1 - sí; 0 - no)"
   ]
  },
  {
   "cell_type": "markdown",
   "metadata": {},
   "source": [
    "Vemos que faltan 909 filas (app 10% de los datos) con información para la columna `Tenure`. Podría intentar inferir los valores ausentes, reemplazarlos con el valor promedio o la mediana, sin embargo, no estoy seguro de que forma puede afectar esto al entrenamiento/desempeño de nuestro futuro modelo. Por este motivo, ademas de temas de simplicidad, procederé a eliminar estas filas. "
   ]
  },
  {
   "cell_type": "code",
   "execution_count": 6,
   "metadata": {},
   "outputs": [
    {
     "name": "stdout",
     "output_type": "stream",
     "text": [
      "<class 'pandas.core.frame.DataFrame'>\n",
      "Int64Index: 9091 entries, 0 to 9998\n",
      "Data columns (total 14 columns):\n",
      " #   Column           Non-Null Count  Dtype  \n",
      "---  ------           --------------  -----  \n",
      " 0   RowNumber        9091 non-null   int64  \n",
      " 1   CustomerId       9091 non-null   int64  \n",
      " 2   Surname          9091 non-null   object \n",
      " 3   CreditScore      9091 non-null   int64  \n",
      " 4   Geography        9091 non-null   object \n",
      " 5   Gender           9091 non-null   object \n",
      " 6   Age              9091 non-null   int64  \n",
      " 7   Tenure           9091 non-null   float64\n",
      " 8   Balance          9091 non-null   float64\n",
      " 9   NumOfProducts    9091 non-null   int64  \n",
      " 10  HasCrCard        9091 non-null   int64  \n",
      " 11  IsActiveMember   9091 non-null   int64  \n",
      " 12  EstimatedSalary  9091 non-null   float64\n",
      " 13  Exited           9091 non-null   int64  \n",
      "dtypes: float64(3), int64(8), object(3)\n",
      "memory usage: 1.0+ MB\n"
     ]
    }
   ],
   "source": [
    "data=data.dropna(subset=['Tenure'])\n",
    "data.info()"
   ]
  },
  {
   "cell_type": "code",
   "execution_count": 7,
   "metadata": {},
   "outputs": [],
   "source": [
    "#Creamos funcion para visualizar rapidamente histogramas y datos descriptivos de cada columnas numericas\n",
    "def histo_des(df):\n",
    "    fig, (ax1, ax2) = plt.subplots(nrows=1, ncols=2, figsize=(20, 8))\n",
    "    df.hist(ax=ax1,bins=20, figsize=(20,5))\n",
    "    ax1.set_xlabel('Valores')\n",
    "    ax1.set_ylabel('Frecuencia')\n",
    "    ax1.set_title(df.name)\n",
    "    \n",
    "    ax2.axis('off')\n",
    "    ax2.text(0, 0.5, str(df.describe()), fontsize=20, va='center')\n",
    "    plt.subplots_adjust(wspace=0.5)\n",
    "    plt.show()"
   ]
  },
  {
   "cell_type": "code",
   "execution_count": 8,
   "metadata": {},
   "outputs": [
    {
     "data": {
      "text/plain": [
       "9091"
      ]
     },
     "execution_count": 8,
     "metadata": {},
     "output_type": "execute_result"
    }
   ],
   "source": [
    "data['RowNumber'].nunique()"
   ]
  },
  {
   "cell_type": "markdown",
   "metadata": {},
   "source": [
    "Cada fila tiene un RowNumber diferente, esto es correcto."
   ]
  },
  {
   "cell_type": "code",
   "execution_count": 9,
   "metadata": {},
   "outputs": [
    {
     "data": {
      "text/plain": [
       "9091"
      ]
     },
     "execution_count": 9,
     "metadata": {},
     "output_type": "execute_result"
    }
   ],
   "source": [
    "data['CustomerId'].nunique()"
   ]
  },
  {
   "cell_type": "markdown",
   "metadata": {},
   "source": [
    "Todos los CustomerId son diferentes, lo cual nos garantiza que no se ha duplicado la información de ningun cliente."
   ]
  },
  {
   "cell_type": "code",
   "execution_count": 10,
   "metadata": {},
   "outputs": [
    {
     "data": {
      "text/plain": [
       "2787"
      ]
     },
     "execution_count": 10,
     "metadata": {},
     "output_type": "execute_result"
    }
   ],
   "source": [
    "data['Surname'].nunique()"
   ]
  },
  {
   "cell_type": "markdown",
   "metadata": {},
   "source": [
    "En nuestra tabla figuran 2787 apellidos diferentes para los clientes."
   ]
  },
  {
   "cell_type": "code",
   "execution_count": 11,
   "metadata": {},
   "outputs": [
    {
     "data": {
      "image/png": "[encoded data removed]",
      "text/plain": [
       "<Figure size 1440x360 with 2 Axes>"
      ]
     },
     "metadata": {
      "needs_background": "light"
     },
     "output_type": "display_data"
    }
   ],
   "source": [
    "histo_des(data['CreditScore'])"
   ]
  },
  {
   "cell_type": "markdown",
   "metadata": {},
   "source": [
    "El CreditScore varia entre 350 y 850."
   ]
  },
  {
   "cell_type": "code",
   "execution_count": 12,
   "metadata": {},
   "outputs": [
    {
     "data": {
      "text/plain": [
       "array(['France', 'Spain', 'Germany'], dtype=object)"
      ]
     },
     "execution_count": 12,
     "metadata": {},
     "output_type": "execute_result"
    }
   ],
   "source": [
    "data['Geography'].unique()"
   ]
  },
  {
   "cell_type": "markdown",
   "metadata": {},
   "source": [
    "En esta variable categorica hay solo 3 localidades (Francia, España y Alemania)"
   ]
  },
  {
   "cell_type": "code",
   "execution_count": 13,
   "metadata": {},
   "outputs": [
    {
     "data": {
      "text/plain": [
       "array(['Female', 'Male'], dtype=object)"
      ]
     },
     "execution_count": 13,
     "metadata": {},
     "output_type": "execute_result"
    }
   ],
   "source": [
    "data['Gender'].unique()"
   ]
  },
  {
   "cell_type": "markdown",
   "metadata": {},
   "source": [
    "En esta variable categorica hay solo dos géneros (Male, Female) y no hay ningun valor ausente."
   ]
  },
  {
   "cell_type": "code",
   "execution_count": 14,
   "metadata": {},
   "outputs": [
    {
     "data": {
      "image/png": "[encoded data removed]",
      "text/plain": [
       "<Figure size 1440x360 with 2 Axes>"
      ]
     },
     "metadata": {
      "needs_background": "light"
     },
     "output_type": "display_data"
    }
   ],
   "source": [
    "histo_des(data['Age'])"
   ]
  },
  {
   "cell_type": "markdown",
   "metadata": {},
   "source": [
    "La edad de los clientes varia entre los 18 y los 92 años. El cliente típico ronda los 37 años."
   ]
  },
  {
   "cell_type": "code",
   "execution_count": 15,
   "metadata": {},
   "outputs": [
    {
     "data": {
      "image/png": "[encoded data removed]",
      "text/plain": [
       "<Figure size 1440x360 with 2 Axes>"
      ]
     },
     "metadata": {
      "needs_background": "light"
     },
     "output_type": "display_data"
    }
   ],
   "source": [
    "histo_des(data['Tenure'])"
   ]
  },
  {
   "cell_type": "markdown",
   "metadata": {},
   "source": [
    "Los depositos a plazo de los cliente varia entre 0 años y 10 años."
   ]
  },
  {
   "cell_type": "code",
   "execution_count": 16,
   "metadata": {},
   "outputs": [
    {
     "data": {
      "image/png": "[encoded data removed]",
      "text/plain": [
       "<Figure size 1440x360 with 2 Axes>"
      ]
     },
     "metadata": {
      "needs_background": "light"
     },
     "output_type": "display_data"
    }
   ],
   "source": [
    "histo_des(data['Balance'])"
   ]
  },
  {
   "cell_type": "markdown",
   "metadata": {},
   "source": [
    "El balance de los clientes muestra valores entre 0 y 250000 app."
   ]
  },
  {
   "cell_type": "code",
   "execution_count": 17,
   "metadata": {},
   "outputs": [
    {
     "data": {
      "text/plain": [
       "array([1, 3, 2, 4])"
      ]
     },
     "execution_count": 17,
     "metadata": {},
     "output_type": "execute_result"
    }
   ],
   "source": [
    "data['NumOfProducts'].unique()"
   ]
  },
  {
   "cell_type": "markdown",
   "metadata": {},
   "source": [
    "Los cliente tienen entre 1 y 4 productos."
   ]
  },
  {
   "cell_type": "code",
   "execution_count": 18,
   "metadata": {},
   "outputs": [
    {
     "data": {
      "text/plain": [
       "array([1, 0])"
      ]
     },
     "execution_count": 18,
     "metadata": {},
     "output_type": "execute_result"
    }
   ],
   "source": [
    "data['HasCrCard'].unique()"
   ]
  },
  {
   "cell_type": "markdown",
   "metadata": {},
   "source": [
    "Hay solo dos estados para HasCrCard, esto es correcto."
   ]
  },
  {
   "cell_type": "code",
   "execution_count": 19,
   "metadata": {
    "scrolled": false
   },
   "outputs": [
    {
     "data": {
      "text/plain": [
       "array([1, 0])"
      ]
     },
     "execution_count": 19,
     "metadata": {},
     "output_type": "execute_result"
    }
   ],
   "source": [
    "data['IsActiveMember'].unique()"
   ]
  },
  {
   "cell_type": "markdown",
   "metadata": {},
   "source": [
    "Hay solo dos estados para IsActiveMember, esto es correcto."
   ]
  },
  {
   "cell_type": "code",
   "execution_count": 20,
   "metadata": {
    "scrolled": true
   },
   "outputs": [
    {
     "data": {
      "image/png": "[encoded data removed]",
      "text/plain": [
       "<Figure size 1440x360 with 2 Axes>"
      ]
     },
     "metadata": {
      "needs_background": "light"
     },
     "output_type": "display_data"
    }
   ],
   "source": [
    "histo_des(data['EstimatedSalary'])"
   ]
  },
  {
   "cell_type": "markdown",
   "metadata": {},
   "source": [
    "El salario estimado de los clientes muestra valores entre 11 y 200000 app."
   ]
  },
  {
   "cell_type": "code",
   "execution_count": 21,
   "metadata": {},
   "outputs": [
    {
     "data": {
      "text/plain": [
       "array([1, 0])"
      ]
     },
     "execution_count": 21,
     "metadata": {},
     "output_type": "execute_result"
    }
   ],
   "source": [
    "data['Exited'].unique()"
   ]
  },
  {
   "cell_type": "markdown",
   "metadata": {},
   "source": [
    "Hay solo dos estados para Exited esto es correcto."
   ]
  },
  {
   "cell_type": "markdown",
   "metadata": {},
   "source": [
    "Los valores de nuestra tabla muestran valores correctos. No hay valores duplicados, erroneos o valores fuera de los rangos esperados. Podemos comenzar a construir nuestros modelos."
   ]
  },
  {
   "cell_type": "markdown",
   "metadata": {},
   "source": [
    "## Buscando el mejor modelo"
   ]
  },
  {
   "cell_type": "markdown",
   "metadata": {},
   "source": [
    "### Configurando el set de entrenamiento y validación"
   ]
  },
  {
   "cell_type": "markdown",
   "metadata": {},
   "source": [
    "Nuestro modelo debe ser capaz de predecir si un cliente dejará o no el banco pronto en base a su información financiera. Para efectos de entrenaniemto, las columnas `RowNumber`, `CustomerId` y `Surname` no son necesarias ni determinantes, por lo tanto, procederé a descartarlas."
   ]
  },
  {
   "cell_type": "code",
   "execution_count": 22,
   "metadata": {},
   "outputs": [],
   "source": [
    "data2=data.drop(['RowNumber','CustomerId','Surname'], axis=1)"
   ]
  },
  {
   "cell_type": "markdown",
   "metadata": {},
   "source": [
    "En nuestra data tenemos 2 variables categoricas en las columnas `Geography`(3 categorias) y`Gender`(2 categorias). Procederé a transformar estas variables en características numéricas usando la técnica One-Hot Enconder (OHE) la cual crea columnas con 1 o 0, dependiendo de si esta presente (o no) esta caracteristica, de forma similar a como ya lo hacen las columnas  `HasCrCard`,`IsActiveMember` y`Exited`."
   ]
  },
  {
   "cell_type": "code",
   "execution_count": 23,
   "metadata": {},
   "outputs": [
    {
     "data": {
      "text/html": [
       "<div>\n",
       "<style scoped>\n",
       "    .dataframe tbody tr th:only-of-type {\n",
       "        vertical-align: middle;\n",
       "    }\n",
       "\n",
       "    .dataframe tbody tr th {\n",
       "        vertical-align: top;\n",
       "    }\n",
       "\n",
       "    .dataframe thead th {\n",
       "        text-align: right;\n",
       "    }\n",
       "</style>\n",
       "<table border=\"1\" class=\"dataframe\">\n",
       "  <thead>\n",
       "    <tr style=\"text-align: right;\">\n",
       "      <th></th>\n",
       "      <th>CreditScore</th>\n",
       "      <th>Age</th>\n",
       "      <th>Tenure</th>\n",
       "      <th>Balance</th>\n",
       "      <th>NumOfProducts</th>\n",
       "      <th>HasCrCard</th>\n",
       "      <th>IsActiveMember</th>\n",
       "      <th>EstimatedSalary</th>\n",
       "      <th>Exited</th>\n",
       "      <th>Geography_Germany</th>\n",
       "      <th>Geography_Spain</th>\n",
       "      <th>Gender_Male</th>\n",
       "    </tr>\n",
       "  </thead>\n",
       "  <tbody>\n",
       "    <tr>\n",
       "      <th>0</th>\n",
       "      <td>619</td>\n",
       "      <td>42</td>\n",
       "      <td>2.0</td>\n",
       "      <td>0.00</td>\n",
       "      <td>1</td>\n",
       "      <td>1</td>\n",
       "      <td>1</td>\n",
       "      <td>101348.88</td>\n",
       "      <td>1</td>\n",
       "      <td>0</td>\n",
       "      <td>0</td>\n",
       "      <td>0</td>\n",
       "    </tr>\n",
       "    <tr>\n",
       "      <th>1</th>\n",
       "      <td>608</td>\n",
       "      <td>41</td>\n",
       "      <td>1.0</td>\n",
       "      <td>83807.86</td>\n",
       "      <td>1</td>\n",
       "      <td>0</td>\n",
       "      <td>1</td>\n",
       "      <td>112542.58</td>\n",
       "      <td>0</td>\n",
       "      <td>0</td>\n",
       "      <td>1</td>\n",
       "      <td>0</td>\n",
       "    </tr>\n",
       "    <tr>\n",
       "      <th>2</th>\n",
       "      <td>502</td>\n",
       "      <td>42</td>\n",
       "      <td>8.0</td>\n",
       "      <td>159660.80</td>\n",
       "      <td>3</td>\n",
       "      <td>1</td>\n",
       "      <td>0</td>\n",
       "      <td>113931.57</td>\n",
       "      <td>1</td>\n",
       "      <td>0</td>\n",
       "      <td>0</td>\n",
       "      <td>0</td>\n",
       "    </tr>\n",
       "    <tr>\n",
       "      <th>3</th>\n",
       "      <td>699</td>\n",
       "      <td>39</td>\n",
       "      <td>1.0</td>\n",
       "      <td>0.00</td>\n",
       "      <td>2</td>\n",
       "      <td>0</td>\n",
       "      <td>0</td>\n",
       "      <td>93826.63</td>\n",
       "      <td>0</td>\n",
       "      <td>0</td>\n",
       "      <td>0</td>\n",
       "      <td>0</td>\n",
       "    </tr>\n",
       "    <tr>\n",
       "      <th>4</th>\n",
       "      <td>850</td>\n",
       "      <td>43</td>\n",
       "      <td>2.0</td>\n",
       "      <td>125510.82</td>\n",
       "      <td>1</td>\n",
       "      <td>1</td>\n",
       "      <td>1</td>\n",
       "      <td>79084.10</td>\n",
       "      <td>0</td>\n",
       "      <td>0</td>\n",
       "      <td>1</td>\n",
       "      <td>0</td>\n",
       "    </tr>\n",
       "  </tbody>\n",
       "</table>\n",
       "</div>"
      ],
      "text/plain": [
       "   CreditScore  Age  Tenure    Balance  NumOfProducts  HasCrCard  \\\n",
       "0          619   42     2.0       0.00              1          1   \n",
       "1          608   41     1.0   83807.86              1          0   \n",
       "2          502   42     8.0  159660.80              3          1   \n",
       "3          699   39     1.0       0.00              2          0   \n",
       "4          850   43     2.0  125510.82              1          1   \n",
       "\n",
       "   IsActiveMember  EstimatedSalary  Exited  Geography_Germany  \\\n",
       "0               1        101348.88       1                  0   \n",
       "1               1        112542.58       0                  0   \n",
       "2               0        113931.57       1                  0   \n",
       "3               0         93826.63       0                  0   \n",
       "4               1         79084.10       0                  0   \n",
       "\n",
       "   Geography_Spain  Gender_Male  \n",
       "0                0            0  \n",
       "1                1            0  \n",
       "2                0            0  \n",
       "3                0            0  \n",
       "4                1            0  "
      ]
     },
     "execution_count": 23,
     "metadata": {},
     "output_type": "execute_result"
    }
   ],
   "source": [
    "data_ohe=pd.get_dummies(data2, drop_first=True)\n",
    "data_ohe.head()"
   ]
  },
  {
   "cell_type": "markdown",
   "metadata": {},
   "source": [
    "Separamos nuestro set de datos en un 80% para entrenamiento y un 20% para validación."
   ]
  },
  {
   "cell_type": "code",
   "execution_count": 24,
   "metadata": {},
   "outputs": [],
   "source": [
    "train, valid = train_test_split(data_ohe, test_size=0.2, random_state=12345)\n",
    "\n",
    "features_train = train.drop('Exited', axis=1)\n",
    "target_train = train['Exited']\n",
    "features_valid = valid.drop('Exited', axis=1)\n",
    "target_valid = valid['Exited']"
   ]
  },
  {
   "cell_type": "markdown",
   "metadata": {},
   "source": [
    "Para evitar que al momento del entrenamiento alguna caracteristica numerica tenga mas influencia o relevancia que otra debido a las diferentes escalas, realizaremos una estandarización de todas las variables usando la clase StandardScaler de sklearn.\n",
    "El escalado será aplicado a las siguientes columnas: `CreditScore`, `Age`,`Tenure`,`Balance`,`NumOfProducts`y`EstimatedSalary`."
   ]
  },
  {
   "cell_type": "code",
   "execution_count": 25,
   "metadata": {},
   "outputs": [
    {
     "data": {
      "text/html": [
       "<div>\n",
       "<style scoped>\n",
       "    .dataframe tbody tr th:only-of-type {\n",
       "        vertical-align: middle;\n",
       "    }\n",
       "\n",
       "    .dataframe tbody tr th {\n",
       "        vertical-align: top;\n",
       "    }\n",
       "\n",
       "    .dataframe thead th {\n",
       "        text-align: right;\n",
       "    }\n",
       "</style>\n",
       "<table border=\"1\" class=\"dataframe\">\n",
       "  <thead>\n",
       "    <tr style=\"text-align: right;\">\n",
       "      <th></th>\n",
       "      <th>CreditScore</th>\n",
       "      <th>Age</th>\n",
       "      <th>Tenure</th>\n",
       "      <th>Balance</th>\n",
       "      <th>NumOfProducts</th>\n",
       "      <th>HasCrCard</th>\n",
       "      <th>IsActiveMember</th>\n",
       "      <th>EstimatedSalary</th>\n",
       "      <th>Geography_Germany</th>\n",
       "      <th>Geography_Spain</th>\n",
       "      <th>Gender_Male</th>\n",
       "    </tr>\n",
       "  </thead>\n",
       "  <tbody>\n",
       "    <tr>\n",
       "      <th>7702</th>\n",
       "      <td>2.074009</td>\n",
       "      <td>-0.755896</td>\n",
       "      <td>1.032080</td>\n",
       "      <td>-1.235435</td>\n",
       "      <td>0.806573</td>\n",
       "      <td>1</td>\n",
       "      <td>0</td>\n",
       "      <td>1.351774</td>\n",
       "      <td>0</td>\n",
       "      <td>0</td>\n",
       "      <td>1</td>\n",
       "    </tr>\n",
       "    <tr>\n",
       "      <th>4303</th>\n",
       "      <td>-0.790263</td>\n",
       "      <td>1.609084</td>\n",
       "      <td>-0.688132</td>\n",
       "      <td>1.249209</td>\n",
       "      <td>-0.909459</td>\n",
       "      <td>0</td>\n",
       "      <td>1</td>\n",
       "      <td>0.257662</td>\n",
       "      <td>0</td>\n",
       "      <td>1</td>\n",
       "      <td>1</td>\n",
       "    </tr>\n",
       "    <tr>\n",
       "      <th>7470</th>\n",
       "      <td>2.074009</td>\n",
       "      <td>0.757691</td>\n",
       "      <td>-0.344090</td>\n",
       "      <td>0.358445</td>\n",
       "      <td>0.806573</td>\n",
       "      <td>1</td>\n",
       "      <td>1</td>\n",
       "      <td>0.373276</td>\n",
       "      <td>1</td>\n",
       "      <td>0</td>\n",
       "      <td>0</td>\n",
       "    </tr>\n",
       "    <tr>\n",
       "      <th>5189</th>\n",
       "      <td>1.825841</td>\n",
       "      <td>0.190096</td>\n",
       "      <td>-0.000047</td>\n",
       "      <td>1.117429</td>\n",
       "      <td>0.806573</td>\n",
       "      <td>0</td>\n",
       "      <td>0</td>\n",
       "      <td>1.391016</td>\n",
       "      <td>0</td>\n",
       "      <td>1</td>\n",
       "      <td>1</td>\n",
       "    </tr>\n",
       "    <tr>\n",
       "      <th>699</th>\n",
       "      <td>0.957253</td>\n",
       "      <td>-0.566697</td>\n",
       "      <td>-1.720259</td>\n",
       "      <td>1.682729</td>\n",
       "      <td>-0.909459</td>\n",
       "      <td>1</td>\n",
       "      <td>1</td>\n",
       "      <td>0.122738</td>\n",
       "      <td>1</td>\n",
       "      <td>0</td>\n",
       "      <td>1</td>\n",
       "    </tr>\n",
       "  </tbody>\n",
       "</table>\n",
       "</div>"
      ],
      "text/plain": [
       "      CreditScore       Age    Tenure   Balance  NumOfProducts  HasCrCard  \\\n",
       "7702     2.074009 -0.755896  1.032080 -1.235435       0.806573          1   \n",
       "4303    -0.790263  1.609084 -0.688132  1.249209      -0.909459          0   \n",
       "7470     2.074009  0.757691 -0.344090  0.358445       0.806573          1   \n",
       "5189     1.825841  0.190096 -0.000047  1.117429       0.806573          0   \n",
       "699      0.957253 -0.566697 -1.720259  1.682729      -0.909459          1   \n",
       "\n",
       "      IsActiveMember  EstimatedSalary  Geography_Germany  Geography_Spain  \\\n",
       "7702               0         1.351774                  0                0   \n",
       "4303               1         0.257662                  0                1   \n",
       "7470               1         0.373276                  1                0   \n",
       "5189               0         1.391016                  0                1   \n",
       "699                1         0.122738                  1                0   \n",
       "\n",
       "      Gender_Male  \n",
       "7702            1  \n",
       "4303            1  \n",
       "7470            0  \n",
       "5189            1  \n",
       "699             1  "
      ]
     },
     "execution_count": 25,
     "metadata": {},
     "output_type": "execute_result"
    }
   ],
   "source": [
    "numeric = ['CreditScore', 'Age','Tenure','Balance','NumOfProducts','EstimatedSalary']\n",
    "\n",
    "scaler = StandardScaler()\n",
    "scaler.fit(features_train[numeric])\n",
    "features_train[numeric] = scaler.transform(features_train[numeric])\n",
    "features_valid[numeric] = scaler.transform(features_valid[numeric])\n",
    "\n",
    "features_train.head()"
   ]
  },
  {
   "cell_type": "markdown",
   "metadata": {},
   "source": [
    "### Modelo de Regresión logistica"
   ]
  },
  {
   "cell_type": "code",
   "execution_count": 26,
   "metadata": {},
   "outputs": [
    {
     "data": {
      "text/html": [
       "<span style=\"font-size: 20px;\">Exactitud: 0.817482133040132</span>"
      ],
      "text/plain": [
       "<IPython.core.display.HTML object>"
      ]
     },
     "metadata": {},
     "output_type": "display_data"
    },
    {
     "data": {
      "text/html": [
       "<span style=\"font-size: 20px;\">Recall: 0.21951219512195122</span>"
      ],
      "text/plain": [
       "<IPython.core.display.HTML object>"
      ]
     },
     "metadata": {},
     "output_type": "display_data"
    },
    {
     "data": {
      "text/html": [
       "<span style=\"font-size: 20px;\">Precisión: 0.648</span>"
      ],
      "text/plain": [
       "<IPython.core.display.HTML object>"
      ]
     },
     "metadata": {},
     "output_type": "display_data"
    },
    {
     "data": {
      "text/html": [
       "<span style=\"font-size: 20px;\">F1: 0.3279352226720648</span>"
      ],
      "text/plain": [
       "<IPython.core.display.HTML object>"
      ]
     },
     "metadata": {},
     "output_type": "display_data"
    }
   ],
   "source": [
    "model = LogisticRegression(random_state=12345, solver='liblinear')\n",
    "model.fit(features_train, target_train)\n",
    "\n",
    "predicted_valid = model.predict(features_valid)\n",
    "\n",
    "accuracy_valid = accuracy_score(target_valid, predicted_valid)\n",
    "recall_valid =recall_score(target_valid,predicted_valid)\n",
    "precision_valid =precision_score(target_valid,predicted_valid)\n",
    "f1_valid =f1_score(target_valid,predicted_valid)\n",
    "\n",
    "print_mejorado(f'Exactitud: {accuracy_valid}',20)\n",
    "print_mejorado(f'Recall: {recall_valid}',20)\n",
    "print_mejorado(f'Precisión: {precision_valid}',20)\n",
    "print_mejorado(f'F1: {f1_valid}',20)"
   ]
  },
  {
   "cell_type": "markdown",
   "metadata": {},
   "source": [
    "Nuestro primer modelo muestra una exactitud de 0.81, sin embargo, los valores de recall y precisión indican que nuestro modelo no funciona correctamente.  \n",
    "  \n",
    "-Recall describe qué tan bien comprende un modelo las propiedades de esta clase y es capaz de reconocerla.  \n",
    "-Precisión detecta si un modelo está exagerando el reconocimiento de clase positiva al asignar demasiadas etiquetas positivas.  \n",
    "  \n",
    "El indicador F1 es la media armónica de recall y precisión. En F1, 1 significa que la relación de recall a precisión es 1:1.  \n",
    "En terminos simples, mientras mas cercano a 1 es el indicador F1, mejor es nuestro modelo, y de aquí en adelante, nos concentraremos en maximizar este indicador. **Para nuestro modelo actual, el indicador F1 es bastante pobre, alcanzando un valor de 0.32.**"
   ]
  },
  {
   "cell_type": "markdown",
   "metadata": {},
   "source": [
    "### Desequilibrio de clases"
   ]
  },
  {
   "cell_type": "markdown",
   "metadata": {},
   "source": [
    "Nuestra columna objetivo es `Exited`, donde 0 corresponde a que el cliente continua y 1 que dejó el banco. Veamos cuantas columnas de cada tipo hay en nuestro dataset."
   ]
  },
  {
   "cell_type": "code",
   "execution_count": 27,
   "metadata": {},
   "outputs": [
    {
     "data": {
      "text/html": [
       "<span style=\"font-size: 20px;\">7237 filas de cliente que no se marcharon</span>"
      ],
      "text/plain": [
       "<IPython.core.display.HTML object>"
      ]
     },
     "metadata": {},
     "output_type": "display_data"
    },
    {
     "data": {
      "text/html": [
       "<span style=\"font-size: 20px;\">1854 filas de cliente que se marcharon</span>"
      ],
      "text/plain": [
       "<IPython.core.display.HTML object>"
      ]
     },
     "metadata": {},
     "output_type": "display_data"
    }
   ],
   "source": [
    "num_no_exit=len(data[data['Exited']==0])\n",
    "num_exit=len(data[data['Exited']==1])\n",
    "\n",
    "print_mejorado( f'{num_no_exit} filas de cliente que no se marcharon',20)\n",
    "print_mejorado( f'{num_exit} filas de cliente que se marcharon',20)"
   ]
  },
  {
   "cell_type": "markdown",
   "metadata": {},
   "source": [
    "Como podemos ver, tenemos mucha mas información de clientes que no se marcharon, respecto a los que si, en una relación de 80%-20%. Es decir, si crearamos un modelo simple que respondierá siempre que el cliente no se marchará. Este modelo acertaría el 80% de las veces. Esto no tiene sentido. Por esto motivo es necesario **balancear** la muestra, de forma tal que los datos de entranamiento posean un numero equivalente de filas para cada caso.  \n",
    "Se utilizaran dos técnicas simultaneamente para esta tarea,estas son:  \n",
    "  \n",
    "  \n",
    "-Submuestreo: Eliminar aleatoriamente una pequeña porción de los datos mas recurrentes  \n",
    "-Sobremuestreo: Replicar algunas filas de los datos menos recurrentes."
   ]
  },
  {
   "cell_type": "markdown",
   "metadata": {},
   "source": [
    "Crearé dos funciones simples para realizar esto:"
   ]
  },
  {
   "cell_type": "code",
   "execution_count": 28,
   "metadata": {},
   "outputs": [],
   "source": [
    "#Submuestreo\n",
    "def downsample(features, target, fraction):\n",
    "    features_zeros = features[target == 0]\n",
    "    features_ones = features[target == 1]\n",
    "    target_zeros = target[target == 0]\n",
    "    target_ones = target[target == 1]\n",
    "\n",
    "    features_downsampled = pd.concat(\n",
    "        [features_zeros.sample(frac=fraction, random_state=12345)]\n",
    "        + [features_ones])\n",
    "    \n",
    "    target_downsampled = pd.concat(\n",
    "        [target_zeros.sample(frac=fraction, random_state=12345)]\n",
    "        + [target_ones])\n",
    "\n",
    "    features_downsampled, target_downsampled = shuffle(features_downsampled, target_downsampled, random_state=12345)\n",
    "\n",
    "    return features_downsampled, target_downsampled"
   ]
  },
  {
   "cell_type": "code",
   "execution_count": 29,
   "metadata": {},
   "outputs": [],
   "source": [
    "#Sobremuestreo\n",
    "def upsample(features, target, repeat):\n",
    "    features_zeros = features[target == 0]\n",
    "    features_ones = features[target == 1]\n",
    "    target_zeros = target[target == 0]\n",
    "    target_ones = target[target == 1]\n",
    "\n",
    "    features_upsampled = pd.concat([features_zeros] + [features_ones] * repeat)\n",
    "    target_upsampled = pd.concat([target_zeros] + [target_ones] * repeat)\n",
    "\n",
    "    features_upsampled, target_upsampled = shuffle(\n",
    "        features_upsampled, target_upsampled, random_state=12345)\n",
    "\n",
    "    return features_upsampled, target_upsampled"
   ]
  },
  {
   "cell_type": "markdown",
   "metadata": {},
   "source": [
    "Una vez creada las funciones, las aplicaré a nuestros conjunto de entrenamiento, de manera que triplique los datos menos recurrentes (unos) y eliminé un 10% de los datos menos recurrentes (ceros).  \n",
    "\n",
    "*Nota: estos valores fueron elegidos luego de varias iteraciones y son los que entregan mejores resultados al momento de entrenar.*"
   ]
  },
  {
   "cell_type": "code",
   "execution_count": 30,
   "metadata": {},
   "outputs": [],
   "source": [
    "features_train_up,target_train_up = upsample(features_train, target_train, 3)\n",
    "features_train_updown,target_train_updown = downsample(features_train_up, target_train_up, 0.9)"
   ]
  },
  {
   "cell_type": "markdown",
   "metadata": {},
   "source": [
    "Entrenamos con el nuevo set de entrenamiento."
   ]
  },
  {
   "cell_type": "code",
   "execution_count": 31,
   "metadata": {},
   "outputs": [
    {
     "data": {
      "text/html": [
       "<span style=\"font-size: 20px;\">F1: 0.5205183585313174</span>"
      ],
      "text/plain": [
       "<IPython.core.display.HTML object>"
      ]
     },
     "metadata": {},
     "output_type": "display_data"
    }
   ],
   "source": [
    "model = LogisticRegression(random_state=12345, solver='liblinear')\n",
    "model.fit(features_train_updown, target_train_updown)\n",
    "\n",
    "predicted_valid = model.predict(features_valid)\n",
    "\n",
    "accuracy_valid = accuracy_score(target_valid, predicted_valid)\n",
    "recall_valid =recall_score(target_valid,predicted_valid)\n",
    "precision_valid =precision_score(target_valid,predicted_valid)\n",
    "f1_valid =f1_score(target_valid,predicted_valid)\n",
    "\n",
    "print_mejorado(f'F1: {f1_valid}',20)"
   ]
  },
  {
   "cell_type": "markdown",
   "metadata": {},
   "source": [
    "Nuestro modelo de regresión logistica mejoró significativamente luego de aplicar las técnicas de balanceo antes explicadas. Sin embargo, aun no alcanzá lo valores de desempeño requeridos por la empresa. \n",
    "A continuación evaluaremos el desempeño de otro modelos (Arbol de decisión y Bosques aleatorios) y veremos si cumplen con lo requerido. **Para entrenar estos modelos utilizaremos nuestro set de entrenamiento balanceado.**"
   ]
  },
  {
   "cell_type": "markdown",
   "metadata": {},
   "source": [
    "### Modelo de Arbol de decisión (entrenado con datos balanceados)"
   ]
  },
  {
   "cell_type": "markdown",
   "metadata": {},
   "source": [
    "Para encontrar el mejor modelo, entrenaremos árboles de distintas profundidades y nos quedaremos con el que mejor."
   ]
  },
  {
   "cell_type": "code",
   "execution_count": 32,
   "metadata": {},
   "outputs": [
    {
     "name": "stdout",
     "output_type": "stream",
     "text": [
      "F1 con profundidad de = 1 : 0.48893572181243417\n",
      "F1 con profundidad de = 2 : 0.51340206185567\n",
      "F1 con profundidad de = 3 : 0.5285868392664509\n",
      "F1 con profundidad de = 4 : 0.5337026777469991\n",
      "F1 con profundidad de = 5 : 0.5966587112171837\n",
      "F1 con profundidad de = 6 : 0.5492125984251969\n",
      "F1 con profundidad de = 7 : 0.5761957730812013\n",
      "F1 con profundidad de = 8 : 0.567032967032967\n",
      "F1 con profundidad de = 9 : 0.5624296962879641\n",
      "F1 con profundidad de = 10 : 0.5452562704471102\n",
      "F1 con profundidad de = 11 : 0.534521158129176\n",
      "F1 con profundidad de = 12 : 0.5197740112994351\n",
      "F1 con profundidad de = 13 : 0.5307068366164542\n",
      "F1 con profundidad de = 14 : 0.5162037037037037\n",
      "\n"
     ]
    },
    {
     "data": {
      "text/html": [
       "<span style=\"font-size: 20px;\">El mejor valor F1 se obtiene con una profundidad de 5</span>"
      ],
      "text/plain": [
       "<IPython.core.display.HTML object>"
      ]
     },
     "metadata": {},
     "output_type": "display_data"
    },
    {
     "data": {
      "text/html": [
       "<span style=\"font-size: 20px;\">F1: 0.597</span>"
      ],
      "text/plain": [
       "<IPython.core.display.HTML object>"
      ]
     },
     "metadata": {},
     "output_type": "display_data"
    }
   ],
   "source": [
    "depth_mejor=0\n",
    "f1_mejor=0\n",
    "for i in range(1,15):\n",
    "    \n",
    "    #entrenamos el modelo\n",
    "    model = DecisionTreeClassifier(random_state=12345, max_depth=i)\n",
    "    model.fit(features_train_updown, target_train_updown)\n",
    "    \n",
    "    #Aplicamos nuestro modelo al conjunto de validación\n",
    "    predictions_valid = model.predict(features_valid)\n",
    "    \n",
    "    #Calculamos el valor F1\n",
    "    f1_valid =f1_score(target_valid,predictions_valid)\n",
    "    print(f'F1 con profundidad de = {i} : {f1_valid}')\n",
    "\n",
    "    if f1_valid>f1_mejor:\n",
    "        f1_mejor=f1_valid\n",
    "        depth_mejor=i\n",
    "\n",
    "print('')    \n",
    "print_mejorado(f'El mejor valor F1 se obtiene con una profundidad de {depth_mejor}',20)\n",
    "print_mejorado(f'F1: {f1_mejor:.3f}',20)    "
   ]
  },
  {
   "cell_type": "markdown",
   "metadata": {},
   "source": [
    "Nuestro modelo de Arbol de decisión de profundidad 5 (apenas) ya cumple con lo que requerido, sin embargo, evaluaremos el modelo de bosques aleatorios y veremos si el desempeño mejora."
   ]
  },
  {
   "cell_type": "markdown",
   "metadata": {},
   "source": [
    "### Modelo de Bosques aleatorios (entrenado con datos balanceados)"
   ]
  },
  {
   "cell_type": "markdown",
   "metadata": {},
   "source": [
    "Para este modelo, entrenaré varios modelos con distintos hiperparametros de profundidad (max_depth) y cantidad de arboles (n_estimators) y nos quedaremos con el mejor."
   ]
  },
  {
   "cell_type": "code",
   "execution_count": 33,
   "metadata": {},
   "outputs": [
    {
     "name": "stdout",
     "output_type": "stream",
     "text": [
      "F1 con 1 n_estimators y depth 2: 0.4293915040183697\n",
      "F1 con 2 n_estimators y depth 2: 0.4922341696535245\n",
      "F1 con 3 n_estimators y depth 2: 0.5168018539976825\n",
      "F1 con 4 n_estimators y depth 2: 0.55\n",
      "F1 con 5 n_estimators y depth 2: 0.5634146341463414\n",
      "F1 con 6 n_estimators y depth 2: 0.5615763546798029\n",
      "F1 con 7 n_estimators y depth 2: 0.5680933852140078\n",
      "F1 con 8 n_estimators y depth 2: 0.5898491083676269\n",
      "F1 con 9 n_estimators y depth 2: 0.576923076923077\n",
      "F1 con 10 n_estimators y depth 2: 0.5818673883626523\n",
      "F1 con 11 n_estimators y depth 2: 0.573248407643312\n",
      "F1 con 12 n_estimators y depth 2: 0.5826558265582655\n",
      "F1 con 13 n_estimators y depth 2: 0.5879120879120878\n",
      "F1 con 14 n_estimators y depth 2: 0.5888594164456233\n",
      "F1 con 15 n_estimators y depth 2: 0.5671641791044777\n",
      "F1 con 16 n_estimators y depth 2: 0.5487364620938628\n",
      "F1 con 17 n_estimators y depth 2: 0.5507246376811594\n",
      "F1 con 18 n_estimators y depth 2: 0.5658056580565807\n",
      "F1 con 19 n_estimators y depth 2: 0.5630354957160342\n",
      "F1 con 1 n_estimators y depth 3: 0.48958333333333326\n",
      "F1 con 2 n_estimators y depth 3: 0.5405405405405406\n",
      "F1 con 3 n_estimators y depth 3: 0.5254054054054054\n",
      "F1 con 4 n_estimators y depth 3: 0.5501691093573845\n",
      "F1 con 5 n_estimators y depth 3: 0.556199304750869\n",
      "F1 con 6 n_estimators y depth 3: 0.5668934240362812\n",
      "F1 con 7 n_estimators y depth 3: 0.5671296296296297\n",
      "F1 con 8 n_estimators y depth 3: 0.5988439306358381\n",
      "F1 con 9 n_estimators y depth 3: 0.5829383886255924\n",
      "F1 con 10 n_estimators y depth 3: 0.6133960047003525\n",
      "F1 con 11 n_estimators y depth 3: 0.6009389671361502\n",
      "F1 con 12 n_estimators y depth 3: 0.6015712682379349\n",
      "F1 con 13 n_estimators y depth 3: 0.602803738317757\n",
      "F1 con 14 n_estimators y depth 3: 0.6011428571428572\n",
      "F1 con 15 n_estimators y depth 3: 0.599294947121034\n",
      "F1 con 16 n_estimators y depth 3: 0.5905882352941176\n",
      "F1 con 17 n_estimators y depth 3: 0.5906976744186047\n",
      "F1 con 18 n_estimators y depth 3: 0.5902031063321385\n",
      "F1 con 19 n_estimators y depth 3: 0.5913853317811408\n",
      "F1 con 1 n_estimators y depth 4: 0.5634146341463414\n",
      "F1 con 2 n_estimators y depth 4: 0.5432399512789282\n",
      "F1 con 3 n_estimators y depth 4: 0.579780755176614\n",
      "F1 con 4 n_estimators y depth 4: 0.5897435897435896\n",
      "F1 con 5 n_estimators y depth 4: 0.5859375\n",
      "F1 con 6 n_estimators y depth 4: 0.5879194630872484\n",
      "F1 con 7 n_estimators y depth 4: 0.6076923076923076\n",
      "F1 con 8 n_estimators y depth 4: 0.6176084099868594\n",
      "F1 con 9 n_estimators y depth 4: 0.6071904127829562\n",
      "F1 con 10 n_estimators y depth 4: 0.6076618229854689\n",
      "F1 con 11 n_estimators y depth 4: 0.6196078431372549\n",
      "F1 con 12 n_estimators y depth 4: 0.6231527093596059\n",
      "F1 con 13 n_estimators y depth 4: 0.6254728877679697\n",
      "F1 con 14 n_estimators y depth 4: 0.622991347342398\n",
      "F1 con 15 n_estimators y depth 4: 0.6127450980392157\n",
      "F1 con 16 n_estimators y depth 4: 0.6091245376078915\n",
      "F1 con 17 n_estimators y depth 4: 0.6133004926108375\n",
      "F1 con 18 n_estimators y depth 4: 0.6132665832290363\n",
      "F1 con 19 n_estimators y depth 4: 0.6024691358024692\n",
      "F1 con 1 n_estimators y depth 5: 0.5428881650380023\n",
      "F1 con 2 n_estimators y depth 5: 0.5584112149532711\n",
      "F1 con 3 n_estimators y depth 5: 0.561132561132561\n",
      "F1 con 4 n_estimators y depth 5: 0.5964071856287426\n",
      "F1 con 5 n_estimators y depth 5: 0.5951219512195122\n",
      "F1 con 6 n_estimators y depth 5: 0.5949999999999999\n",
      "F1 con 7 n_estimators y depth 5: 0.6045340050377833\n",
      "F1 con 8 n_estimators y depth 5: 0.6032953105196451\n",
      "F1 con 9 n_estimators y depth 5: 0.5915841584158414\n",
      "F1 con 10 n_estimators y depth 5: 0.6084788029925188\n",
      "F1 con 11 n_estimators y depth 5: 0.6055276381909548\n",
      "F1 con 12 n_estimators y depth 5: 0.6099635479951397\n",
      "F1 con 13 n_estimators y depth 5: 0.6082725060827251\n",
      "F1 con 14 n_estimators y depth 5: 0.6089049338146811\n",
      "F1 con 15 n_estimators y depth 5: 0.6030989272943981\n",
      "F1 con 16 n_estimators y depth 5: 0.6040914560770158\n",
      "F1 con 17 n_estimators y depth 5: 0.5966183574879227\n",
      "F1 con 18 n_estimators y depth 5: 0.5926829268292684\n",
      "F1 con 19 n_estimators y depth 5: 0.5919610231425092\n",
      "\n"
     ]
    },
    {
     "data": {
      "text/html": [
       "<span style=\"font-size: 20px;\">El mejor valor F1 se obtiene con un n_estimators de 13 y una profundidad de 4</span>"
      ],
      "text/plain": [
       "<IPython.core.display.HTML object>"
      ]
     },
     "metadata": {},
     "output_type": "display_data"
    },
    {
     "data": {
      "text/html": [
       "<span style=\"font-size: 20px;\">F1: 0.625</span>"
      ],
      "text/plain": [
       "<IPython.core.display.HTML object>"
      ]
     },
     "metadata": {},
     "output_type": "display_data"
    }
   ],
   "source": [
    "n_mejor=0\n",
    "f1_mejor=0\n",
    "depth_mejor=0\n",
    "\n",
    "for i in range(2,6):\n",
    "    for est in range(1, 20): # selecciona el rango del hiperparámetro\n",
    "        #configuramos el número de árboles (n-estimators)\n",
    "        model = RandomForestClassifier(random_state=12345,  max_depth=i, n_estimators=est)\n",
    "\n",
    "        #entrenamos el modelo en el conjunto de entrenamiento\n",
    "        model.fit(features_train_updown,target_train_updown)\n",
    "\n",
    "        #Aplicamos nuestro modelo al conjunto de validación\n",
    "        predictions_valid = model.predict(features_valid)\n",
    "\n",
    "        #Calculamos el valor F1\n",
    "        f1_valid =f1_score(target_valid,predictions_valid)\n",
    "\n",
    "        print(f'F1 con {est} n_estimators y depth {i}: {f1_valid}')\n",
    "\n",
    "        if f1_valid>f1_mejor:\n",
    "                f1_mejor=f1_valid\n",
    "                n_mejor=est\n",
    "                depth_mejor=i\n",
    "\n",
    "print('')    \n",
    "print_mejorado(f'El mejor valor F1 se obtiene con un n_estimators de {n_mejor} y una profundidad de {depth_mejor}',20)\n",
    "print_mejorado(f'F1: {f1_mejor:.3f}',20)"
   ]
  },
  {
   "cell_type": "markdown",
   "metadata": {},
   "source": [
    "El desempeño de este último modelo es el mejor de los 3. Haré una ultima prueba de precisión del modelo, evaluando el conjunto de datos de entrenamiento y el de validación para ver si hay sobreajuste excesivo."
   ]
  },
  {
   "cell_type": "code",
   "execution_count": 34,
   "metadata": {},
   "outputs": [
    {
     "name": "stdout",
     "output_type": "stream",
     "text": [
      "La precisión del modelo bosques aleatorios con los datos de validación fue del 83.7%\n",
      "La precisión del modelo bosques aleatorios con los datos de entrenamiento fue del 83.4%\n"
     ]
    }
   ],
   "source": [
    "model_forest = RandomForestClassifier(random_state=12345,  max_depth=4, n_estimators=13)\n",
    "model_forest.fit(features_train_updown,target_train_updown)\n",
    "\n",
    "#Evaluamos la precisión del modelo de bosques aleatorios usando el conjunto de prueba y de entrenamiento\n",
    "predictions_valid = model_forest.predict(features_valid)\n",
    "precision_forest = accuracy_score(target_valid, predictions_valid)\n",
    "print(f'La precisión del modelo bosques aleatorios con los datos de validación fue del {precision_forest*100:.1f}%')\n",
    "\n",
    "predictions_train = model_forest.predict(features_train)\n",
    "precision_forest = accuracy_score(target_train, predictions_train)\n",
    "print(f'La precisión del modelo bosques aleatorios con los datos de entrenamiento fue del {precision_forest*100:.1f}%') "
   ]
  },
  {
   "cell_type": "markdown",
   "metadata": {},
   "source": [
    "El desempeño del este modelo con los datos de validación (datos nunca vistos) fue incluso mejor que con los datos de entranamiento.Con lo que nos aseguramos que el desempeños de nuestro modelo es adecuado y no tiene sobreajuste.  \n",
    "  \n",
    "  \n",
    "**Nos quedaremos entonces con el modelo de bosques aleatorios de profundidad 4 y 13 arboles.**"
   ]
  },
  {
   "cell_type": "markdown",
   "metadata": {},
   "source": [
    "## Metrica AUC-ROC"
   ]
  },
  {
   "cell_type": "markdown",
   "metadata": {},
   "source": [
    "Finalmente trazaremos las curva ROC y la compararemos con la curva de un modelo aleatorio para finalmente calcular la metrica AUC-ROC usando sklearn."
   ]
  },
  {
   "cell_type": "code",
   "execution_count": 35,
   "metadata": {},
   "outputs": [
    {
     "data": {
      "image/png": "[encoded data removed]",
      "text/plain": [
       "<Figure size 1080x576 with 1 Axes>"
      ]
     },
     "metadata": {
      "needs_background": "light"
     },
     "output_type": "display_data"
    }
   ],
   "source": [
    "probabilities_valid = model_forest.predict_proba(features_valid)\n",
    "probabilities_one_valid = probabilities_valid[:, 1]\n",
    "\n",
    "fpr, tpr, thresholds =roc_curve(target_valid, probabilities_one_valid)\n",
    "plt.figure(figsize=(15,8))\n",
    "plt.plot(fpr, tpr)\n",
    "\n",
    "# Curva ROC para modelo aleatorio (parece una línea recta)\n",
    "plt.plot([0, 1], [0, 1], linestyle='--')\n",
    "plt.ylim([0.0, 1.0])\n",
    "plt.xlim([0.0, 1.0])\n",
    "\n",
    "plt.xlabel('Tasa de falsos positivos')\n",
    "plt.ylabel('Tasa de verdaderos positivos')\n",
    "plt.title('Curva ROC')\n",
    "\n",
    "plt.text(0.2, 0.82, 'Curva ROC', color='blue')\n",
    "plt.text(0.4, 0.5, 'Modelo aleatorio', color='orange')\n",
    "\n",
    "plt.show()"
   ]
  },
  {
   "cell_type": "markdown",
   "metadata": {},
   "source": [
    "En la figura anterior, la Curva ROC de nuestro modelo esta por sobre la de un modelo que responde al azar, lo cual indica que nuestro modelo es de alta calidad."
   ]
  },
  {
   "cell_type": "code",
   "execution_count": 36,
   "metadata": {},
   "outputs": [
    {
     "data": {
      "text/html": [
       "<span style=\"font-size: 20px;\">Metrica AUC_ROC: 0.861</span>"
      ],
      "text/plain": [
       "<IPython.core.display.HTML object>"
      ]
     },
     "metadata": {},
     "output_type": "display_data"
    }
   ],
   "source": [
    "auc_roc=roc_auc_score(target_valid, probabilities_one_valid)\n",
    "print_mejorado(f'Metrica AUC_ROC: {auc_roc:.3f}',20)"
   ]
  },
  {
   "cell_type": "markdown",
   "metadata": {},
   "source": [
    "Finalmente, la métrica AUC_ROC para nuestro modelo de bosque aleatorio fue de 0.861."
   ]
  },
  {
   "cell_type": "markdown",
   "metadata": {},
   "source": [
    "## Conclusión"
   ]
  },
  {
   "cell_type": "markdown",
   "metadata": {},
   "source": [
    "El modelo que fue capaz de cumplir con los requerimentos de la empresa fue el **Modelo de bosques aleatorios con una profundidad de 4 y 13 estimadores.** Sin embargo, para entrenar este modelo, fue necesario primero balancear los datos de entrenamiento, dado que los datos proporcionados contenian porporcionalmente muy pocas filas de información de clientes que habian abandonado con respecto a la data general. Para esto, se aplicaron tecnicas de submuestreo y sobremuestro. Finalmente, analizando la curva ROC y la metrica AUC_ROC, nos aseguramos que el modelo obtenido fue un modelo de calidad."
   ]
  }
 ],
 "metadata": {
  "kernelspec": {
   "display_name": "Python 3 (ipykernel)",
   "language": "python",
   "name": "python3"
  },
  "language_info": {
   "codemirror_mode": {
    "name": "ipython",
    "version": 3
   },
   "file_extension": ".py",
   "mimetype": "text/x-python",
   "name": "python",
   "nbconvert_exporter": "python",
   "pygments_lexer": "ipython3",
   "version": "3.9.5"
  },
  "toc": {
   "base_numbering": 1,
   "nav_menu": {},
   "number_sections": true,
   "sideBar": true,
   "skip_h1_title": true,
   "title_cell": "Tabla de contenidos",
   "title_sidebar": "Contents",
   "toc_cell": true,
   "toc_position": {},
   "toc_section_display": true,
   "toc_window_display": false
  }
 },
 "nbformat": 4,
 "nbformat_minor": 2
}
