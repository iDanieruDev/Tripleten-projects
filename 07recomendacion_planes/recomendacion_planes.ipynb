{
 "cells": [
  {
   "cell_type": "markdown",
   "metadata": {},
   "source": [
    "# Descripción del Proyecto\n",
    "La compañía móvil Megaline no está satisfecha al ver que muchos de sus clientes utilizan planes heredados. Quieren desarrollar un modelo que pueda analizar el comportamiento de los clientes y recomendar uno de los nuevos planes de Megaline: Smart o Ultra.\n",
    "Tenemos acceso a los datos de comportamiento de los suscriptores que ya se han cambiado a los planes nuevos (del proyecto del curso de Análisis estadístico de datos). Para esta tarea de clasificación crearemos un modelo que escoja el plan correcto.\n",
    "En un proyecto anterior, ya trabajamos con esta información y ya hicimos el paso de procesar los datos, por lo que podemos saltarnos este paso y pasar directamente a la creación de nuestro modelo."
   ]
  },
  {
   "cell_type": "markdown",
   "metadata": {
    "toc": true
   },
   "source": [
    "<h1>Tabla de contenidos<span class=\"tocSkip\"></span></h1>\n",
    "<div class=\"toc\"><ul class=\"toc-item\"><li><span><a href=\"#Inicialización\" data-toc-modified-id=\"Inicialización-1\"><span class=\"toc-item-num\">1&nbsp;&nbsp;</span>Inicialización</a></span></li><li><span><a href=\"#Cargar-los-datos\" data-toc-modified-id=\"Cargar-los-datos-2\"><span class=\"toc-item-num\">2&nbsp;&nbsp;</span>Cargar los datos</a></span></li><li><span><a href=\"#Revisión-de-los-datos\" data-toc-modified-id=\"Revisión-de-los-datos-3\"><span class=\"toc-item-num\">3&nbsp;&nbsp;</span>Revisión de los datos</a></span></li><li><span><a href=\"#Creación-de-modelos\" data-toc-modified-id=\"Creación-de-modelos-4\"><span class=\"toc-item-num\">4&nbsp;&nbsp;</span>Creación de modelos</a></span><ul class=\"toc-item\"><li><span><a href=\"#Segmentación-de-datos\" data-toc-modified-id=\"Segmentación-de-datos-4.1\"><span class=\"toc-item-num\">4.1&nbsp;&nbsp;</span>Segmentación de datos</a></span></li></ul></li><li><span><a href=\"#-Comentarios-del-revisor-\" data-toc-modified-id=\"-Comentarios-del-revisor--5\"><span class=\"toc-item-num\">5&nbsp;&nbsp;</span> Comentarios del revisor </a></span><ul class=\"toc-item\"><li><span><a href=\"#Entrenamiento-de-Arboles-de-decisión-(DecisionTreeClassifier)\" data-toc-modified-id=\"Entrenamiento-de-Arboles-de-decisión-(DecisionTreeClassifier)-5.1\"><span class=\"toc-item-num\">5.1&nbsp;&nbsp;</span>Entrenamiento de Arboles de decisión (DecisionTreeClassifier)</a></span></li><li><span><a href=\"#Entrenamiento-de-bosques-aleatorios-(RandomForestClassifier)\" data-toc-modified-id=\"Entrenamiento-de-bosques-aleatorios-(RandomForestClassifier)-5.2\"><span class=\"toc-item-num\">5.2&nbsp;&nbsp;</span>Entrenamiento de bosques aleatorios (RandomForestClassifier)</a></span></li><li><span><a href=\"#Modelo-de-Regresión-Logistica\" data-toc-modified-id=\"Modelo-de-Regresión-Logistica-5.3\"><span class=\"toc-item-num\">5.3&nbsp;&nbsp;</span>Modelo de Regresión Logistica</a></span></li></ul></li><li><span><a href=\"#-Comentarios-del-revisor-\" data-toc-modified-id=\"-Comentarios-del-revisor--6\"><span class=\"toc-item-num\">6&nbsp;&nbsp;</span> Comentarios del revisor </a></span></li><li><span><a href=\"#Calidad-de-los-distintos-modelos\" data-toc-modified-id=\"Calidad-de-los-distintos-modelos-7\"><span class=\"toc-item-num\">7&nbsp;&nbsp;</span>Calidad de los distintos modelos</a></span></li><li><span><a href=\"#-Comentarios-del-revisor-\" data-toc-modified-id=\"-Comentarios-del-revisor--8\"><span class=\"toc-item-num\">8&nbsp;&nbsp;</span> Comentarios del revisor </a></span></li><li><span><a href=\"#Probando-nuestro-modelo\" data-toc-modified-id=\"Probando-nuestro-modelo-9\"><span class=\"toc-item-num\">9&nbsp;&nbsp;</span>Probando nuestro modelo</a></span></li><li><span><a href=\"#Conclusión\" data-toc-modified-id=\"Conclusión-10\"><span class=\"toc-item-num\">10&nbsp;&nbsp;</span>Conclusión</a></span></li><li><span><a href=\"#-Comentarios-del-revisor-\" data-toc-modified-id=\"-Comentarios-del-revisor--11\"><span class=\"toc-item-num\">11&nbsp;&nbsp;</span> Comentarios del revisor </a></span></li></ul></div>"
   ]
  },
  {
   "cell_type": "markdown",
   "metadata": {},
   "source": [
    "## Inicialización"
   ]
  },
  {
   "cell_type": "code",
   "execution_count": 1,
   "metadata": {},
   "outputs": [],
   "source": [
    "# Cargamos todas las librerías a usar\n",
    "import pandas as pd\n",
    "from IPython.display import display, HTML, Image\n",
    "import matplotlib.pyplot as plt \n",
    "\n",
    "from sklearn.model_selection import train_test_split\n",
    "\n",
    "from sklearn.tree import DecisionTreeClassifier\n",
    "from sklearn.ensemble import RandomForestClassifier\n",
    "from sklearn.linear_model import LogisticRegression\n",
    "\n",
    "from sklearn.metrics import accuracy_score"
   ]
  },
  {
   "cell_type": "code",
   "execution_count": 2,
   "metadata": {},
   "outputs": [],
   "source": [
    "#Definimos una función Print que sea vizualmente mas amigable\n",
    "def print_mejorado(texto,size):\n",
    "    size=str(size)\n",
    "    display(HTML('<span style=\"font-size: '+size+'px;\">'+texto+'</span>'))  "
   ]
  },
  {
   "cell_type": "markdown",
   "metadata": {},
   "source": [
    "## Cargar los datos"
   ]
  },
  {
   "cell_type": "code",
   "execution_count": 3,
   "metadata": {},
   "outputs": [],
   "source": [
    "# Carga los archivos de datos en diferentes DataFrames\n",
    "data=pd.read_csv('/datasets/users_behavior.csv')"
   ]
  },
  {
   "cell_type": "markdown",
   "metadata": {},
   "source": [
    "## Revisión de los datos"
   ]
  },
  {
   "cell_type": "code",
   "execution_count": 4,
   "metadata": {},
   "outputs": [
    {
     "name": "stdout",
     "output_type": "stream",
     "text": [
      "<class 'pandas.core.frame.DataFrame'>\n",
      "RangeIndex: 3214 entries, 0 to 3213\n",
      "Data columns (total 5 columns):\n",
      " #   Column    Non-Null Count  Dtype  \n",
      "---  ------    --------------  -----  \n",
      " 0   calls     3214 non-null   float64\n",
      " 1   minutes   3214 non-null   float64\n",
      " 2   messages  3214 non-null   float64\n",
      " 3   mb_used   3214 non-null   float64\n",
      " 4   is_ultra  3214 non-null   int64  \n",
      "dtypes: float64(4), int64(1)\n",
      "memory usage: 125.7 KB\n"
     ]
    }
   ],
   "source": [
    "data.info()"
   ]
  },
  {
   "cell_type": "code",
   "execution_count": 5,
   "metadata": {},
   "outputs": [
    {
     "data": {
      "text/html": [
       "<div>\n",
       "<style scoped>\n",
       "    .dataframe tbody tr th:only-of-type {\n",
       "        vertical-align: middle;\n",
       "    }\n",
       "\n",
       "    .dataframe tbody tr th {\n",
       "        vertical-align: top;\n",
       "    }\n",
       "\n",
       "    .dataframe thead th {\n",
       "        text-align: right;\n",
       "    }\n",
       "</style>\n",
       "<table border=\"1\" class=\"dataframe\">\n",
       "  <thead>\n",
       "    <tr style=\"text-align: right;\">\n",
       "      <th></th>\n",
       "      <th>calls</th>\n",
       "      <th>minutes</th>\n",
       "      <th>messages</th>\n",
       "      <th>mb_used</th>\n",
       "      <th>is_ultra</th>\n",
       "    </tr>\n",
       "  </thead>\n",
       "  <tbody>\n",
       "    <tr>\n",
       "      <th>0</th>\n",
       "      <td>40.0</td>\n",
       "      <td>311.90</td>\n",
       "      <td>83.0</td>\n",
       "      <td>19915.42</td>\n",
       "      <td>0</td>\n",
       "    </tr>\n",
       "    <tr>\n",
       "      <th>1</th>\n",
       "      <td>85.0</td>\n",
       "      <td>516.75</td>\n",
       "      <td>56.0</td>\n",
       "      <td>22696.96</td>\n",
       "      <td>0</td>\n",
       "    </tr>\n",
       "    <tr>\n",
       "      <th>2</th>\n",
       "      <td>77.0</td>\n",
       "      <td>467.66</td>\n",
       "      <td>86.0</td>\n",
       "      <td>21060.45</td>\n",
       "      <td>0</td>\n",
       "    </tr>\n",
       "    <tr>\n",
       "      <th>3</th>\n",
       "      <td>106.0</td>\n",
       "      <td>745.53</td>\n",
       "      <td>81.0</td>\n",
       "      <td>8437.39</td>\n",
       "      <td>1</td>\n",
       "    </tr>\n",
       "    <tr>\n",
       "      <th>4</th>\n",
       "      <td>66.0</td>\n",
       "      <td>418.74</td>\n",
       "      <td>1.0</td>\n",
       "      <td>14502.75</td>\n",
       "      <td>0</td>\n",
       "    </tr>\n",
       "    <tr>\n",
       "      <th>5</th>\n",
       "      <td>58.0</td>\n",
       "      <td>344.56</td>\n",
       "      <td>21.0</td>\n",
       "      <td>15823.37</td>\n",
       "      <td>0</td>\n",
       "    </tr>\n",
       "    <tr>\n",
       "      <th>6</th>\n",
       "      <td>57.0</td>\n",
       "      <td>431.64</td>\n",
       "      <td>20.0</td>\n",
       "      <td>3738.90</td>\n",
       "      <td>1</td>\n",
       "    </tr>\n",
       "    <tr>\n",
       "      <th>7</th>\n",
       "      <td>15.0</td>\n",
       "      <td>132.40</td>\n",
       "      <td>6.0</td>\n",
       "      <td>21911.60</td>\n",
       "      <td>0</td>\n",
       "    </tr>\n",
       "    <tr>\n",
       "      <th>8</th>\n",
       "      <td>7.0</td>\n",
       "      <td>43.39</td>\n",
       "      <td>3.0</td>\n",
       "      <td>2538.67</td>\n",
       "      <td>1</td>\n",
       "    </tr>\n",
       "    <tr>\n",
       "      <th>9</th>\n",
       "      <td>90.0</td>\n",
       "      <td>665.41</td>\n",
       "      <td>38.0</td>\n",
       "      <td>17358.61</td>\n",
       "      <td>0</td>\n",
       "    </tr>\n",
       "  </tbody>\n",
       "</table>\n",
       "</div>"
      ],
      "text/plain": [
       "   calls  minutes  messages   mb_used  is_ultra\n",
       "0   40.0   311.90      83.0  19915.42         0\n",
       "1   85.0   516.75      56.0  22696.96         0\n",
       "2   77.0   467.66      86.0  21060.45         0\n",
       "3  106.0   745.53      81.0   8437.39         1\n",
       "4   66.0   418.74       1.0  14502.75         0\n",
       "5   58.0   344.56      21.0  15823.37         0\n",
       "6   57.0   431.64      20.0   3738.90         1\n",
       "7   15.0   132.40       6.0  21911.60         0\n",
       "8    7.0    43.39       3.0   2538.67         1\n",
       "9   90.0   665.41      38.0  17358.61         0"
      ]
     },
     "execution_count": 5,
     "metadata": {},
     "output_type": "execute_result"
    }
   ],
   "source": [
    "# Imprimimos una muestra pequeña de nuestros datos\n",
    "data.head(10)"
   ]
  },
  {
   "cell_type": "markdown",
   "metadata": {},
   "source": [
    "Como ya se mencionó en la instroducción, dado que ya trabajamos con estos datos en un proyecto anterior, tenemos la constancia que los datos estan procesados correctamente. Por lo que pasaremos directamente a la creación de nuestro modelo."
   ]
  },
  {
   "cell_type": "markdown",
   "metadata": {},
   "source": [
    "## Creación de modelos"
   ]
  },
  {
   "cell_type": "markdown",
   "metadata": {},
   "source": [
    "Disponemos de un DataFrame con información del comportamiento del los usuarios que eligieron el plan Smart o Ultra.\n",
    "Por tanto, estamos ante una tarea de **clasificación**, es decir, nuestro modelo deberá ser capaz de predecir que plan elegira el usuario tomando algunas caracteristicas de entrada (numero de llamadas, minutos, mensajes, mb).\n",
    "En este caso, la columna objetivo (target) es `is_ultra`,donde 1 es usuario con plan Ultra y 0 usuario con plan Smart, mientras que el resto de las columnas coresponden a las caracteristicas (features) que determinan esta decisión."
   ]
  },
  {
   "cell_type": "code",
   "execution_count": 6,
   "metadata": {},
   "outputs": [],
   "source": [
    "features =  data.drop(['is_ultra'], axis=1)  #características\n",
    "target =  data['is_ultra']  #objetivo"
   ]
  },
  {
   "cell_type": "markdown",
   "metadata": {},
   "source": [
    "### Segmentación de datos"
   ]
  },
  {
   "cell_type": "markdown",
   "metadata": {},
   "source": [
    "Para realizar el entranamiento de nuestro modelo predictivo, separaré los datos fuentes (features y target) en un 60% para el entrenamiento, un 20% para la validación y 20% para la prueba segun la imagen mostrada a continuación."
   ]
  },
  {
   "cell_type": "code",
   "execution_count": 7,
   "metadata": {},
   "outputs": [
    {
     "data": {
      "text/html": [
       "<img src=\"https://practicum-content.s3.us-west-1.amazonaws.com/new-markets/DS_sprint_7/ES/moved_7.4.2.2ES.png\"/>"
      ],
      "text/plain": [
       "<IPython.core.display.Image object>"
      ]
     },
     "metadata": {},
     "output_type": "display_data"
    }
   ],
   "source": [
    "display(Image(url='https://practicum-content.s3.us-west-1.amazonaws.com/new-markets/DS_sprint_7/ES/moved_7.4.2.2ES.png'))"
   ]
  },
  {
   "cell_type": "code",
   "execution_count": 8,
   "metadata": {},
   "outputs": [],
   "source": [
    "#Segmentamos los datos en un 60% para entrenamiento y un 40& para pruebas (por ahora)\n",
    "features_train, features_test, target_train, target_test = train_test_split(\n",
    "    features, target, test_size=0.4, random_state=12345)\n",
    "\n",
    "#Segmentamos los datos de prueba a la mitad, de esta forma obtenemos un 20% de validacion y un 20% de pruebas\n",
    "features_valid, features_test, target_valid, target_test = train_test_split(\n",
    "    features_test, target_test, test_size=0.5, random_state=12345)"
   ]
  },
  {
   "cell_type": "code",
   "execution_count": 9,
   "metadata": {},
   "outputs": [
    {
     "data": {
      "text/html": [
       "<span style=\"font-size: 20px;\">Longitud de features y target original: 3214 y 3214</span>"
      ],
      "text/plain": [
       "<IPython.core.display.HTML object>"
      ]
     },
     "metadata": {},
     "output_type": "display_data"
    },
    {
     "name": "stdout",
     "output_type": "stream",
     "text": [
      "Longitud de features y target de entrenamiento: 1928 y 1928\n",
      "Longitud de features y target de validacion: 643 y 643\n",
      "Longitud de features y target de prueba: 643 y 643\n"
     ]
    }
   ],
   "source": [
    "print_mejorado(f'Longitud de features y target original: {len(features)} y {len(target)}',20)\n",
    "print(f'Longitud de features y target de entrenamiento: {len(features_train)} y {len(target_train)}')\n",
    "print(f'Longitud de features y target de validacion: {len(features_valid)} y {len(target_valid)}')\n",
    "print(f'Longitud de features y target de prueba: {len(features_test)} y {len(target_test)}')"
   ]
  },
  {
   "cell_type": "markdown",
   "metadata": {},
   "source": [
    "De esta forma tenemos:  \n",
    "Set de entrenamiento (`features_train`,`target_train`) 60% del DataFrame original  \n",
    "Set de validación (`features_valid`,`target_valid`) 20% del DataFrame original  \n",
    "Set de prueba (`features_test`,`target_test`) 20% del DataFrame original  "
   ]
  },
  {
   "cell_type": "markdown",
   "metadata": {},
   "source": [
    "### Entrenamiento de Arboles de decisión (DecisionTreeClassifier)"
   ]
  },
  {
   "cell_type": "markdown",
   "metadata": {},
   "source": [
    "A continuación crearemos Arboles de decisión de distinta profundidad y elegiremos el modelo que obtenga la mejor precisión."
   ]
  },
  {
   "cell_type": "code",
   "execution_count": 10,
   "metadata": {},
   "outputs": [
    {
     "name": "stdout",
     "output_type": "stream",
     "text": [
      "Exactitud del arbol con profundidad de = 1 : 0.7542768273716952\n",
      "Exactitud del arbol con profundidad de = 2 : 0.7822706065318819\n",
      "Exactitud del arbol con profundidad de = 3 : 0.7853810264385692\n",
      "Exactitud del arbol con profundidad de = 4 : 0.7791601866251944\n",
      "Exactitud del arbol con profundidad de = 5 : 0.7791601866251944\n",
      "Exactitud del arbol con profundidad de = 6 : 0.7838258164852255\n",
      "Exactitud del arbol con profundidad de = 7 : 0.7822706065318819\n",
      "Exactitud del arbol con profundidad de = 8 : 0.7791601866251944\n",
      "Exactitud del arbol con profundidad de = 9 : 0.7822706065318819\n"
     ]
    }
   ],
   "source": [
    "#Creamos 10 arboles de profundidad 1 a profundidad 10\n",
    "for i in range(1,10):\n",
    "    #entrenamos el modelo\n",
    "    model = DecisionTreeClassifier(random_state=12345, max_depth=i)\n",
    "    model.fit(features_train, target_train)\n",
    "    \n",
    "    #Aplicamos nuestro modelo al conjunto de validación\n",
    "    predictions_valid = model.predict(features_valid)\n",
    "    \n",
    "    #Calculamos la exactitud comparando las predicciones de nuestro modelo con los datos esperados\n",
    "    result = accuracy_score(target_valid, predictions_valid)\n",
    "    \n",
    "    #Imprimimos la exactitud del modelo\n",
    "    print(f'Exactitud del arbol con profundidad de = {i} : {result}')"
   ]
  },
  {
   "cell_type": "markdown",
   "metadata": {},
   "source": [
    "De lo anterior, tenemos que el mejor modelo usando Arboles de decisión se obtiene con una **profundidad 3 y este tiene una exactitud del 78,5%.**"
   ]
  },
  {
   "cell_type": "code",
   "execution_count": 11,
   "metadata": {},
   "outputs": [],
   "source": [
    "model_tree = DecisionTreeClassifier(random_state=12345, max_depth=3)"
   ]
  },
  {
   "cell_type": "markdown",
   "metadata": {},
   "source": [
    "### Entrenamiento de bosques aleatorios (RandomForestClassifier)"
   ]
  },
  {
   "cell_type": "markdown",
   "metadata": {},
   "source": [
    "A continuación entrenaremos varios modelos de bosques aleatorios, este modelo entrena una gran cantidad de árboles independientes y toma una decisión mediante el voto de cada uno. Entrenaré varios modelos variando la cantidad de arboles, variando la cantidad desde 1 hasta 50 y elegiremos el que mejor desempeño tenga."
   ]
  },
  {
   "cell_type": "code",
   "execution_count": 12,
   "metadata": {},
   "outputs": [
    {
     "name": "stdout",
     "output_type": "stream",
     "text": [
      "Precisión con 1 n_estimators: 0.7107309486780715\n",
      "Precisión con 2 n_estimators: 0.7636080870917574\n",
      "Precisión con 3 n_estimators: 0.7387247278382582\n",
      "Precisión con 4 n_estimators: 0.7713841368584758\n",
      "Precisión con 5 n_estimators: 0.749611197511664\n",
      "Precisión con 6 n_estimators: 0.7807153965785381\n",
      "Precisión con 7 n_estimators: 0.7682737169517885\n",
      "Precisión con 8 n_estimators: 0.7822706065318819\n",
      "Precisión con 9 n_estimators: 0.7729393468118196\n",
      "Precisión con 10 n_estimators: 0.7853810264385692\n",
      "Precisión con 11 n_estimators: 0.7838258164852255\n",
      "Precisión con 12 n_estimators: 0.7869362363919129\n",
      "Precisión con 13 n_estimators: 0.7822706065318819\n",
      "Precisión con 14 n_estimators: 0.7838258164852255\n",
      "Precisión con 15 n_estimators: 0.7838258164852255\n",
      "Precisión con 16 n_estimators: 0.7869362363919129\n",
      "Precisión con 17 n_estimators: 0.7869362363919129\n",
      "Precisión con 18 n_estimators: 0.7931570762052877\n",
      "Precisión con 19 n_estimators: 0.7884914463452566\n",
      "Precisión con 20 n_estimators: 0.7869362363919129\n",
      "Precisión con 21 n_estimators: 0.7931570762052877\n",
      "Precisión con 22 n_estimators: 0.7884914463452566\n",
      "Precisión con 23 n_estimators: 0.7947122861586314\n",
      "Precisión con 24 n_estimators: 0.7900466562986003\n",
      "Precisión con 25 n_estimators: 0.7838258164852255\n",
      "Precisión con 26 n_estimators: 0.7853810264385692\n",
      "Precisión con 27 n_estimators: 0.7853810264385692\n",
      "Precisión con 28 n_estimators: 0.7838258164852255\n",
      "Precisión con 29 n_estimators: 0.7791601866251944\n",
      "Precisión con 30 n_estimators: 0.7838258164852255\n",
      "Precisión con 31 n_estimators: 0.7822706065318819\n",
      "Precisión con 32 n_estimators: 0.7822706065318819\n",
      "Precisión con 33 n_estimators: 0.7807153965785381\n",
      "Precisión con 34 n_estimators: 0.7807153965785381\n",
      "Precisión con 35 n_estimators: 0.7776049766718507\n",
      "Precisión con 36 n_estimators: 0.7807153965785381\n",
      "Precisión con 37 n_estimators: 0.7776049766718507\n",
      "Precisión con 38 n_estimators: 0.7838258164852255\n",
      "Precisión con 39 n_estimators: 0.7807153965785381\n",
      "Precisión con 40 n_estimators: 0.7838258164852255\n",
      "Precisión con 41 n_estimators: 0.7869362363919129\n",
      "Precisión con 42 n_estimators: 0.7900466562986003\n",
      "Precisión con 43 n_estimators: 0.7853810264385692\n",
      "Precisión con 44 n_estimators: 0.7900466562986003\n",
      "Precisión con 45 n_estimators: 0.7884914463452566\n",
      "Precisión con 46 n_estimators: 0.7884914463452566\n",
      "Precisión con 47 n_estimators: 0.7869362363919129\n",
      "Precisión con 48 n_estimators: 0.7916018662519441\n",
      "Precisión con 49 n_estimators: 0.7884914463452566\n",
      "Precisión del mejor modelo en el conjunto de validación (n_estimators = 23): 0.7947122861586314\n"
     ]
    }
   ],
   "source": [
    "best_score = 0\n",
    "best_est = 0\n",
    "for est in range(1, 50): # selecciona el rango del hiperparámetro\n",
    "    #configuramos el número de árboles (n-estimators)\n",
    "    model = RandomForestClassifier(random_state=12345, n_estimators=est)\n",
    "    \n",
    "    #entrenamos el modelo en el conjunto de entrenamiento\n",
    "    model.fit(features_train,target_train)\n",
    "    \n",
    "    #Evaluamos la precisión del modelo usando el conjunto de validación\n",
    "    score = model.score(features_valid,target_valid)\n",
    "    print(f'Precisión con {est} n_estimators: {score}')\n",
    "    if score > best_score:\n",
    "        best_score = score# guarda la mejor puntuación de accuracy en el conjunto de validación\n",
    "        best_est = est# guarda el número de estimadores que corresponden a la mejor puntuación de accuracy\n",
    "        \n",
    "print(\"Precisión del mejor modelo en el conjunto de validación (n_estimators = {}): {}\".format(best_est, best_score))    "
   ]
  },
  {
   "cell_type": "markdown",
   "metadata": {},
   "source": [
    "De lo anterior, tenemos que el mejor modelo usando Bosques aleatorios se obtiene con **23 arboles (n_estimators) y este tiene una exactitud del 79,5%.**"
   ]
  },
  {
   "cell_type": "code",
   "execution_count": 13,
   "metadata": {},
   "outputs": [],
   "source": [
    "model_forest = RandomForestClassifier(random_state=12345, n_estimators=23)"
   ]
  },
  {
   "cell_type": "markdown",
   "metadata": {},
   "source": [
    "### Modelo de Regresión Logistica"
   ]
  },
  {
   "cell_type": "code",
   "execution_count": 14,
   "metadata": {},
   "outputs": [
    {
     "name": "stdout",
     "output_type": "stream",
     "text": [
      "Accuracy del modelo de regresión logística en el conjunto de validación: 0.7589424572317263\n"
     ]
    }
   ],
   "source": [
    "#inicializamos el constructor de regresión logística \n",
    "model = LogisticRegression(random_state=12345, solver='liblinear')\n",
    "\n",
    "#entrenamos el modelo en el conjunto de entrenamiento\n",
    "model.fit(features_train,target_train) \n",
    "\n",
    "#Evaluamos la precisión del modelo\n",
    "score_valid = model.score(features_valid,target_valid) # calcula la puntuación de accuracy en el conjunto de validación\n",
    "\n",
    "print(\"Accuracy del modelo de regresión logística en el conjunto de validación:\", score_valid)"
   ]
  },
  {
   "cell_type": "markdown",
   "metadata": {},
   "source": [
    "De lo anterior, tenemos **el modelo de Regresión logistica tiene una exactitud del 75,9%.**"
   ]
  },
  {
   "cell_type": "code",
   "execution_count": 15,
   "metadata": {},
   "outputs": [],
   "source": [
    "model_regresion = LogisticRegression(random_state=12345, solver='liblinear')"
   ]
  },
  {
   "cell_type": "markdown",
   "metadata": {},
   "source": [
    "## Calidad de los distintos modelos"
   ]
  },
  {
   "cell_type": "markdown",
   "metadata": {},
   "source": [
    "Dado que ya tenemos los mejores hiperparametros para los 3 modelos vistos anteriormente, podemos prescindir de nuestros datos de validación. A continuación fusionaré los datos de entrenamiento originales con los datos de validación para formar un nuevo conjunto de datos de entrenamiento el cual usaré para entrenar cada uno de los 3 modelos y evaluar su desempeño usando el conjunto de prueba definido anteriormente."
   ]
  },
  {
   "cell_type": "code",
   "execution_count": 16,
   "metadata": {},
   "outputs": [
    {
     "name": "stdout",
     "output_type": "stream",
     "text": [
      "Longitud de nuevo set de entrenamiento(caracteristicas): 2571\n",
      "Longitud de nuevo set de entrenamiento(objetivos): 2571\n"
     ]
    }
   ],
   "source": [
    "#features_train2=features_train+features_valid\n",
    "#target_train2=target_train+target_valid\n",
    "features_train2 = pd.concat([features_train, features_valid], axis=0)\n",
    "target_train2 = pd.concat([target_train, target_valid], axis=0)\n",
    "\n",
    "print(f'Longitud de nuevo set de entrenamiento(caracteristicas): {len(features_train2)}')\n",
    "print(f'Longitud de nuevo set de entrenamiento(objetivos): {len(target_train2)}')"
   ]
  },
  {
   "cell_type": "code",
   "execution_count": 17,
   "metadata": {},
   "outputs": [
    {
     "data": {
      "text/plain": [
       "LogisticRegression(random_state=12345, solver='liblinear')"
      ]
     },
     "execution_count": 17,
     "metadata": {},
     "output_type": "execute_result"
    }
   ],
   "source": [
    "#Entrenamos los 3 modelos con nuestros nuevo set de entrenamiento\n",
    "model_tree.fit(features_train2,target_train2)\n",
    "model_forest.fit(features_train2,target_train2)\n",
    "model_regresion.fit(features_train2,target_train2) "
   ]
  },
  {
   "cell_type": "markdown",
   "metadata": {},
   "source": [
    "Finalmente, calcularemos la precisión del cada uno de estos modelos usando tanto los datos de prueba que apartamos al comienzo como los datos de entrenamiento para evaluar el sobreajuste (overfiting) de cada uno de los modelos."
   ]
  },
  {
   "cell_type": "code",
   "execution_count": 18,
   "metadata": {},
   "outputs": [
    {
     "name": "stdout",
     "output_type": "stream",
     "text": [
      "La precisión del modelo de arbol de decisión con los datos de prueba fue del 77.6%\n",
      "La precisión del modelo de arbol de decisión con los datos de entrenamiento fue del 80.3%\n"
     ]
    }
   ],
   "source": [
    "#Evaluamos la precisión del modelo de arbol de decisión usando el conjunto de prueba y de entrenamiento\n",
    "predictions_test = model_tree.predict(features_test)\n",
    "precision_tree = accuracy_score(target_test, predictions_test)\n",
    "print(f'La precisión del modelo de arbol de decisión con los datos de prueba fue del {precision_tree*100:.1f}%')\n",
    "\n",
    "predictions_test = model_tree.predict(features_train2)\n",
    "precision_tree = accuracy_score(target_train2, predictions_test)\n",
    "print(f'La precisión del modelo de arbol de decisión con los datos de entrenamiento fue del {precision_tree*100:.1f}%')  "
   ]
  },
  {
   "cell_type": "markdown",
   "metadata": {},
   "source": [
    "El modelo de arbol de decisión muestra un **leve sobreajuste** cuando se utiliza con el dataset de entrenamiento."
   ]
  },
  {
   "cell_type": "code",
   "execution_count": 19,
   "metadata": {},
   "outputs": [
    {
     "name": "stdout",
     "output_type": "stream",
     "text": [
      "La precisión del modelo bosques aleatorios con los datos de prueba fue del 80.6%\n",
      "La precisión del modelo bosques aleatorios con los datos de entrenamiento fue del 99.6%\n"
     ]
    }
   ],
   "source": [
    "#Evaluamos la precisión del modelo de bosques aleatorios usando el conjunto de prueba y de entrenamiento\n",
    "predictions_test = model_forest.predict(features_test)\n",
    "precision_forest = accuracy_score(target_test, predictions_test)\n",
    "print(f'La precisión del modelo bosques aleatorios con los datos de prueba fue del {precision_forest*100:.1f}%')\n",
    "\n",
    "predictions_test = model_forest.predict(features_train2)\n",
    "precision_forest = accuracy_score(target_train2, predictions_test)\n",
    "print(f'La precisión del modelo bosques aleatorios con los datos de entrenamiento fue del {precision_forest*100:.1f}%') "
   ]
  },
  {
   "cell_type": "markdown",
   "metadata": {},
   "source": [
    "El modelo de bosques aleatorios muestra un **excesivo sobreajuste** cuando se utiliza con el dataset de entrenamiento."
   ]
  },
  {
   "cell_type": "code",
   "execution_count": 20,
   "metadata": {},
   "outputs": [
    {
     "name": "stdout",
     "output_type": "stream",
     "text": [
      "La precisión del modelo de regresión logistica con los datos de prueba fue del 73.6%\n",
      "La precisión del modelo de regresión logistica con los datos de entrenamiento fue del 75.0%\n"
     ]
    }
   ],
   "source": [
    "#Evaluamos la precisión del modelo de regresión logistica usando el conjunto de prueba y de entrenamiento\n",
    "predictions_test = model_regresion.predict(features_test)\n",
    "precision_regresion = accuracy_score(target_test, predictions_test)\n",
    "print(f'La precisión del modelo de regresión logistica con los datos de prueba fue del {precision_regresion*100:.1f}%')\n",
    "\n",
    "predictions_test = model_regresion.predict(features_train2)\n",
    "precision_regresion = accuracy_score(target_train2, predictions_test)\n",
    "print(f'La precisión del modelo de regresión logistica con los datos de entrenamiento fue del {precision_regresion*100:.1f}%') "
   ]
  },
  {
   "cell_type": "markdown",
   "metadata": {},
   "source": [
    "El modelo de arbol de decisión muestra un **leve sobreajuste** cuando se utiliza con el dataset de entrenamiento."
   ]
  },
  {
   "cell_type": "markdown",
   "metadata": {},
   "source": [
    "A primera vista, el modelo de bosques aleatorios parecía ser la mejor opción ya que de los tres es el mas preciso. Sin embargo, tras analizar el desempeño de este modelo utilizando los datos de entrenamiento, vemos que tiene un sobreajuste (overfitting) excesivo, es decir, aprendio \"demasiado bien\", memorizando practicamente todos los resultados del conjunto de entrenamiento. Esto no es bueno ya que el modelo no puede generalizar bien a datos no vistos previamente, lo que significa que su rendimiento será pobre en la práctica cuando se le presente información nueva.  \n",
    "\n",
    "Con respecto a los otros dos modelos solo mostraron un leve sobreajuste. **Es por esto que finalmente decidiré quedarme con el modelo de arbol de decisión de profundidad 3, con una precisión del 77,6%, además de ser el mas simple de los 3.**"
   ]
  },
  {
   "cell_type": "markdown",
   "metadata": {},
   "source": [
    "## Probando nuestro modelo"
   ]
  },
  {
   "cell_type": "markdown",
   "metadata": {},
   "source": [
    "A continuación crearé un función que llame al modelo entrenado y que sea capaz de determinar que modelo elegiría el usuario considerando como datos de entrada los numeros de llamada, minutos, mensajes y mb utilizados por mes para poder realizar una recomendación exitosa."
   ]
  },
  {
   "cell_type": "code",
   "execution_count": 21,
   "metadata": {},
   "outputs": [],
   "source": [
    "def modelo_arbol(num_llamadas,minutos,num_mensajes,mb):\n",
    "    datos = {'calls': [num_llamadas],'minutes': [minutos],'messages': [num_mensajes],'mb_used':[mb]}\n",
    "    datos = pd.DataFrame(datos)\n",
    "    \n",
    "    prediccion = model_tree.predict(datos)\n",
    "    \n",
    "    if prediccion[0] == 0:\n",
    "        print_mejorado('El usuario probablemente elegirá del modelo Smart',24)\n",
    "    elif  prediccion[0] == 1:\n",
    "        print_mejorado('El usuario probablemente elegirá del modelo Ultra',24)\n",
    "    else:\n",
    "        print('Error')"
   ]
  },
  {
   "cell_type": "markdown",
   "metadata": {},
   "source": [
    "Una vez creada la función, probaré la función con algun datos y veré que tan coherentes son las respuestas."
   ]
  },
  {
   "cell_type": "code",
   "execution_count": 22,
   "metadata": {},
   "outputs": [
    {
     "data": {
      "text/html": [
       "<span style=\"font-size: 24px;\">El usuario probablemente elegirá del modelo Smart</span>"
      ],
      "text/plain": [
       "<IPython.core.display.HTML object>"
      ]
     },
     "metadata": {},
     "output_type": "display_data"
    }
   ],
   "source": [
    "numero_llamadas= 10\n",
    "minutos=60\n",
    "mensajes=10\n",
    "mb_usados=10\n",
    "\n",
    "modelo_arbol(numero_llamadas,minutos,mensajes,mb_usados)"
   ]
  },
  {
   "cell_type": "code",
   "execution_count": 23,
   "metadata": {},
   "outputs": [
    {
     "data": {
      "text/html": [
       "<span style=\"font-size: 24px;\">El usuario probablemente elegirá del modelo Smart</span>"
      ],
      "text/plain": [
       "<IPython.core.display.HTML object>"
      ]
     },
     "metadata": {},
     "output_type": "display_data"
    }
   ],
   "source": [
    "numero_llamadas= 100\n",
    "minutos=60\n",
    "mensajes=10\n",
    "mb_usados=10\n",
    "\n",
    "modelo_arbol(numero_llamadas,minutos,mensajes,mb_usados)"
   ]
  },
  {
   "cell_type": "code",
   "execution_count": 24,
   "metadata": {},
   "outputs": [
    {
     "data": {
      "text/html": [
       "<span style=\"font-size: 24px;\">El usuario probablemente elegirá del modelo Ultra</span>"
      ],
      "text/plain": [
       "<IPython.core.display.HTML object>"
      ]
     },
     "metadata": {},
     "output_type": "display_data"
    }
   ],
   "source": [
    "numero_llamadas= 100\n",
    "minutos=6000\n",
    "mensajes=10\n",
    "mb_usados=10\n",
    "\n",
    "modelo_arbol(numero_llamadas,minutos,mensajes,mb_usados)"
   ]
  },
  {
   "cell_type": "code",
   "execution_count": 25,
   "metadata": {},
   "outputs": [
    {
     "data": {
      "text/html": [
       "<span style=\"font-size: 24px;\">El usuario probablemente elegirá del modelo Smart</span>"
      ],
      "text/plain": [
       "<IPython.core.display.HTML object>"
      ]
     },
     "metadata": {},
     "output_type": "display_data"
    }
   ],
   "source": [
    "numero_llamadas= 100\n",
    "minutos=60\n",
    "mensajes=10\n",
    "mb_usados=9000\n",
    "\n",
    "modelo_arbol(numero_llamadas,minutos,mensajes,mb_usados)"
   ]
  },
  {
   "cell_type": "code",
   "execution_count": 26,
   "metadata": {},
   "outputs": [
    {
     "data": {
      "text/html": [
       "<span style=\"font-size: 24px;\">El usuario probablemente elegirá del modelo Ultra</span>"
      ],
      "text/plain": [
       "<IPython.core.display.HTML object>"
      ]
     },
     "metadata": {},
     "output_type": "display_data"
    }
   ],
   "source": [
    "numero_llamadas= 100\n",
    "minutos=600\n",
    "mensajes=9000\n",
    "mb_usados=10\n",
    "\n",
    "modelo_arbol(numero_llamadas,minutos,mensajes,mb_usados)"
   ]
  },
  {
   "cell_type": "code",
   "execution_count": 27,
   "metadata": {},
   "outputs": [
    {
     "data": {
      "text/html": [
       "<span style=\"font-size: 24px;\">El usuario probablemente elegirá del modelo Smart</span>"
      ],
      "text/plain": [
       "<IPython.core.display.HTML object>"
      ]
     },
     "metadata": {},
     "output_type": "display_data"
    }
   ],
   "source": [
    "numero_llamadas= 1\n",
    "minutos=500\n",
    "mensajes=0\n",
    "mb_usados=0\n",
    "\n",
    "modelo_arbol(numero_llamadas,minutos,mensajes,mb_usados)"
   ]
  },
  {
   "cell_type": "code",
   "execution_count": 28,
   "metadata": {},
   "outputs": [
    {
     "data": {
      "text/html": [
       "<span style=\"font-size: 24px;\">El usuario probablemente elegirá del modelo Ultra</span>"
      ],
      "text/plain": [
       "<IPython.core.display.HTML object>"
      ]
     },
     "metadata": {},
     "output_type": "display_data"
    }
   ],
   "source": [
    "numero_llamadas= 1\n",
    "minutos=5000\n",
    "mensajes=0\n",
    "mb_usados=0\n",
    "\n",
    "modelo_arbol(numero_llamadas,minutos,mensajes,mb_usados)"
   ]
  },
  {
   "cell_type": "markdown",
   "metadata": {},
   "source": [
    "En base a lo anterior y en base a mi criterio subjetivo, me parecen coherentes las predicciones de nuestro modelo, en donde, si el usuario muestra un bajo consumo, se recomienda en plan mas economico (Smart), pero mientras mas aumentan los consumos, tiende a recomendar el plan \"Ultra\"."
   ]
  },
  {
   "cell_type": "code",
   "execution_count": 29,
   "metadata": {},
   "outputs": [],
   "source": [
    "def modelo_arbol2(num_llamadas,minutos,num_mensajes,mb):\n",
    "    datos = {'calls': [num_llamadas],'minutes': [minutos],'messages': [num_mensajes],'mb_used':[mb]}\n",
    "    datos = pd.DataFrame(datos)\n",
    "    prediccion = model_tree.predict(datos)\n",
    "    return prediccion[0]  \n",
    "    "
   ]
  },
  {
   "cell_type": "code",
   "execution_count": 30,
   "metadata": {},
   "outputs": [
    {
     "data": {
      "text/plain": [
       "<AxesSubplot:xlabel='Minutos Hablados', ylabel='Plan'>"
      ]
     },
     "execution_count": 30,
     "metadata": {},
     "output_type": "execute_result"
    },
    {
     "data": {
      "image/png": "[encoded data removed]",
      "text/plain": [
       "<Figure size 432x288 with 1 Axes>"
      ]
     },
     "metadata": {
      "needs_background": "light"
     },
     "output_type": "display_data"
    }
   ],
   "source": [
    "test = pd.DataFrame(columns=['Minutos Hablados', 'Plan'])\n",
    "for i in range(500,1000):\n",
    "    nueva_fila = {'Minutos Hablados': i, 'Plan': modelo_arbol2(1,i,0,0)}\n",
    "    test = test.append(nueva_fila, ignore_index=True)\n",
    "test.plot(x='Minutos Hablados', y='Plan', kind='scatter', style='-', color='red')"
   ]
  },
  {
   "cell_type": "code",
   "execution_count": 31,
   "metadata": {},
   "outputs": [
    {
     "data": {
      "text/plain": [
       "<AxesSubplot:xlabel='Mensajes', ylabel='Plan'>"
      ]
     },
     "execution_count": 31,
     "metadata": {},
     "output_type": "execute_result"
    },
    {
     "data": {
      "image/png": "[encoded data removed]",
      "text/plain": [
       "<Figure size 432x288 with 1 Axes>"
      ]
     },
     "metadata": {
      "needs_background": "light"
     },
     "output_type": "display_data"
    }
   ],
   "source": [
    "test = pd.DataFrame(columns=['Mensajes', 'Plan'])\n",
    "for i in range(0,300):\n",
    "    nueva_fila = {'Mensajes': i, 'Plan': modelo_arbol2(0,0,i,0)}\n",
    "    test = test.append(nueva_fila, ignore_index=True)\n",
    "test.plot(x='Mensajes', y='Plan', kind='scatter', style='-', color='red')"
   ]
  },
  {
   "cell_type": "code",
   "execution_count": 32,
   "metadata": {},
   "outputs": [
    {
     "data": {
      "text/plain": [
       "<AxesSubplot:xlabel='MB', ylabel='Plan'>"
      ]
     },
     "execution_count": 32,
     "metadata": {},
     "output_type": "execute_result"
    },
    {
     "data": {
      "image/png": "[encoded data removed]",
      "text/plain": [
       "<Figure size 432x288 with 1 Axes>"
      ]
     },
     "metadata": {
      "needs_background": "light"
     },
     "output_type": "display_data"
    }
   ],
   "source": [
    "test = pd.DataFrame(columns=['MB', 'Plan'])\n",
    "for i in range(26000,26500):\n",
    "    nueva_fila = {'MB': i, 'Plan': modelo_arbol2(0,0,0,i)}\n",
    "    test = test.append(nueva_fila, ignore_index=True)\n",
    "test.plot(x='MB', y='Plan', kind='scatter', style='-', color='red')"
   ]
  },
  {
   "cell_type": "markdown",
   "metadata": {},
   "source": [
    "Finalmente y solo por curiosidad, decidí probar las caracteristicas de minutos, número de mensajes y mb mensuales de forma independiente. Considerando, para cada caso, que durante el mes solo se consumio una de estas caracteristicas, los resultados fueron que nuestro modelo:\n",
    "\n",
    "-Recomienda el plan Ultra sobre los 780 minutos mensuales app (el usuario solo hizo una llamada de esta duración)  \n",
    "-Recomienda el plan Ultra sobre los 120 mensajes mensuales app (el usuario solo envio mensajes)  \n",
    "-Recomienda el plan Ultra sobre los 26280 MB mensuales (el usuario solo consumio datos)  "
   ]
  },
  {
   "cell_type": "markdown",
   "metadata": {},
   "source": [
    "## Conclusión"
   ]
  },
  {
   "cell_type": "markdown",
   "metadata": {},
   "source": [
    "De los 3 modelos entrenados, finalmente **el modelo de arbol de decision de profundidad 3 con una seed=12345 es el que mejor cumple los requerimientos de la empresa, siendo capaz de recomendar un plan para un nuevo usuario con un 77,6% de certeza.**  \n",
    "\n",
    "Tambien vimos que un modelo, por muy preciso que aparente ser, como lo fue el caso de bosques aleatorios, puede no ser siempre el adecuado ya que esta precisión puede venir acompañada de un sobreajuste, el cual limita la capacidad del modelo de generalizar y de responder adecuadamente a información nueva que se aleje de los datos del dataset de entrenamiento."
   ]
  }
 ],
 "metadata": {
  "kernelspec": {
   "display_name": "Python 3 (ipykernel)",
   "language": "python",
   "name": "python3"
  },
  "language_info": {
   "codemirror_mode": {
    "name": "ipython",
    "version": 3
   },
   "file_extension": ".py",
   "mimetype": "text/x-python",
   "name": "python",
   "nbconvert_exporter": "python",
   "pygments_lexer": "ipython3",
   "version": "3.9.5"
  },
  "toc": {
   "base_numbering": 1,
   "nav_menu": {},
   "number_sections": true,
   "sideBar": true,
   "skip_h1_title": true,
   "title_cell": "Tabla de contenidos",
   "title_sidebar": "Contents",
   "toc_cell": true,
   "toc_position": {},
   "toc_section_display": true,
   "toc_window_display": false
  }
 },
 "nbformat": 4,
 "nbformat_minor": 2
}
