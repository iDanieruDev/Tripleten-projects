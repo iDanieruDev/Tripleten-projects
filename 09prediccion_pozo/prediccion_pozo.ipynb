{
 "cells": [
  {
   "cell_type": "markdown",
   "metadata": {},
   "source": [
    "# Descripción del Proyecto\n",
    "Trabajamos para la compañía minera OilyGiant. Nuestra tarea es encontrar el mejor lugar para un nuevo pozo.  \n",
    "Para esto realizaremos los siguientes pasos:  \n",
    "- Recolectar los parámetros del pozo de petróleo en la región seleccionada: calidad del petróleo y volumen de reservas;\n",
    "- Construir un modelo para predecir el volumen de reservas en los nuevos pozos;\n",
    "- Seleccionar los pozos de petróleo con los valores estimados más altos;\n",
    "- Eligir la región con el mayor beneficio total para los pozos de petróleo seleccionados.\n",
    "\n",
    "Tenemos datos sobre muestras de crudo de tres regiones. Ya se conocen los parámetros de cada pozo petrolero de la región. Crearé un modelo que ayude a elegir la región con el mayor margen de beneficio. Analizaré los beneficios y riesgos potenciales utilizando la técnica bootstrapping."
   ]
  },
  {
   "cell_type": "markdown",
   "metadata": {
    "toc": true
   },
   "source": [
    "<h1>Tabla de contenidos<span class=\"tocSkip\"></span></h1>\n",
    "<div class=\"toc\"><ul class=\"toc-item\"><li><span><a href=\"#Inicialización\" data-toc-modified-id=\"Inicialización-1\"><span class=\"toc-item-num\">1&nbsp;&nbsp;</span>Inicialización</a></span></li><li><span><a href=\"#Cargar-los-datos\" data-toc-modified-id=\"Cargar-los-datos-2\"><span class=\"toc-item-num\">2&nbsp;&nbsp;</span>Cargar los datos</a></span></li><li><span><a href=\"#Entrenamiento-de-modelos\" data-toc-modified-id=\"Entrenamiento-de-modelos-3\"><span class=\"toc-item-num\">3&nbsp;&nbsp;</span>Entrenamiento de modelos</a></span></li><li><span><a href=\"#Presupuesto-y-volumenes-promedio\" data-toc-modified-id=\"Presupuesto-y-volumenes-promedio-4\"><span class=\"toc-item-num\">4&nbsp;&nbsp;</span>Presupuesto y volumenes promedio</a></span></li><li><span><a href=\"#Cálculo-de-beneficios\" data-toc-modified-id=\"Cálculo-de-beneficios-5\"><span class=\"toc-item-num\">5&nbsp;&nbsp;</span>Cálculo de beneficios</a></span></li><li><span><a href=\"#Bootstrapping\" data-toc-modified-id=\"Bootstrapping-6\"><span class=\"toc-item-num\">6&nbsp;&nbsp;</span>Bootstrapping</a></span></li><li><span><a href=\"#Conclusión\" data-toc-modified-id=\"Conclusión-7\"><span class=\"toc-item-num\">7&nbsp;&nbsp;</span>Conclusión</a></span></li></ul></div>"
   ]
  },
  {
   "cell_type": "markdown",
   "metadata": {},
   "source": [
    "## Inicialización"
   ]
  },
  {
   "cell_type": "code",
   "execution_count": 1,
   "metadata": {},
   "outputs": [],
   "source": [
    "# Cargamos todas las librerías a usar\n",
    "import pandas as pd\n",
    "from IPython.display import display, HTML, Image\n",
    "import matplotlib.pyplot as plt\n",
    "from sklearn.utils import shuffle\n",
    "\n",
    "from sklearn.model_selection import train_test_split\n",
    "from sklearn.preprocessing import StandardScaler\n",
    "\n",
    "from sklearn.linear_model import LinearRegression\n",
    "from sklearn.metrics import mean_squared_error\n",
    "import numpy as np\n",
    "\n",
    "from sklearn.metrics import accuracy_score\n",
    "from sklearn.metrics import recall_score\n",
    "from sklearn.metrics import precision_score\n",
    "from sklearn.metrics import f1_score\n",
    "\n",
    "from sklearn.metrics import roc_auc_score\n",
    "from sklearn.metrics import roc_curve"
   ]
  },
  {
   "cell_type": "code",
   "execution_count": 2,
   "metadata": {},
   "outputs": [],
   "source": [
    "#Definimos una función Print que sea visualmente mas amigable\n",
    "def print_mejorado(texto,size):\n",
    "    size=str(size)\n",
    "    display(HTML('<span style=\"font-size: '+size+'px;\">'+texto+'</span>'))  "
   ]
  },
  {
   "cell_type": "markdown",
   "metadata": {},
   "source": [
    "## Cargar los datos"
   ]
  },
  {
   "cell_type": "code",
   "execution_count": 3,
   "metadata": {},
   "outputs": [],
   "source": [
    "# Carga de los datos de exploración geológica de las tres regiones\n",
    "data_0=pd.read_csv('/datasets/geo_data_0.csv')\n",
    "data_1=pd.read_csv('/datasets/geo_data_1.csv')\n",
    "data_2=pd.read_csv('/datasets/geo_data_2.csv')"
   ]
  },
  {
   "cell_type": "code",
   "execution_count": 4,
   "metadata": {},
   "outputs": [
    {
     "name": "stdout",
     "output_type": "stream",
     "text": [
      "<class 'pandas.core.frame.DataFrame'>\n",
      "RangeIndex: 100000 entries, 0 to 99999\n",
      "Data columns (total 5 columns):\n",
      " #   Column   Non-Null Count   Dtype  \n",
      "---  ------   --------------   -----  \n",
      " 0   id       100000 non-null  object \n",
      " 1   f0       100000 non-null  float64\n",
      " 2   f1       100000 non-null  float64\n",
      " 3   f2       100000 non-null  float64\n",
      " 4   product  100000 non-null  float64\n",
      "dtypes: float64(4), object(1)\n",
      "memory usage: 3.8+ MB\n"
     ]
    }
   ],
   "source": [
    "data_0.info()"
   ]
  },
  {
   "cell_type": "code",
   "execution_count": 5,
   "metadata": {},
   "outputs": [
    {
     "name": "stdout",
     "output_type": "stream",
     "text": [
      "<class 'pandas.core.frame.DataFrame'>\n",
      "RangeIndex: 100000 entries, 0 to 99999\n",
      "Data columns (total 5 columns):\n",
      " #   Column   Non-Null Count   Dtype  \n",
      "---  ------   --------------   -----  \n",
      " 0   id       100000 non-null  object \n",
      " 1   f0       100000 non-null  float64\n",
      " 2   f1       100000 non-null  float64\n",
      " 3   f2       100000 non-null  float64\n",
      " 4   product  100000 non-null  float64\n",
      "dtypes: float64(4), object(1)\n",
      "memory usage: 3.8+ MB\n"
     ]
    }
   ],
   "source": [
    "data_1.info()"
   ]
  },
  {
   "cell_type": "code",
   "execution_count": 6,
   "metadata": {},
   "outputs": [
    {
     "name": "stdout",
     "output_type": "stream",
     "text": [
      "<class 'pandas.core.frame.DataFrame'>\n",
      "RangeIndex: 100000 entries, 0 to 99999\n",
      "Data columns (total 5 columns):\n",
      " #   Column   Non-Null Count   Dtype  \n",
      "---  ------   --------------   -----  \n",
      " 0   id       100000 non-null  object \n",
      " 1   f0       100000 non-null  float64\n",
      " 2   f1       100000 non-null  float64\n",
      " 3   f2       100000 non-null  float64\n",
      " 4   product  100000 non-null  float64\n",
      "dtypes: float64(4), object(1)\n",
      "memory usage: 3.8+ MB\n"
     ]
    }
   ],
   "source": [
    "data_2.info()"
   ]
  },
  {
   "cell_type": "code",
   "execution_count": 7,
   "metadata": {},
   "outputs": [
    {
     "data": {
      "text/html": [
       "<div>\n",
       "<style scoped>\n",
       "    .dataframe tbody tr th:only-of-type {\n",
       "        vertical-align: middle;\n",
       "    }\n",
       "\n",
       "    .dataframe tbody tr th {\n",
       "        vertical-align: top;\n",
       "    }\n",
       "\n",
       "    .dataframe thead th {\n",
       "        text-align: right;\n",
       "    }\n",
       "</style>\n",
       "<table border=\"1\" class=\"dataframe\">\n",
       "  <thead>\n",
       "    <tr style=\"text-align: right;\">\n",
       "      <th></th>\n",
       "      <th>id</th>\n",
       "      <th>f0</th>\n",
       "      <th>f1</th>\n",
       "      <th>f2</th>\n",
       "      <th>product</th>\n",
       "    </tr>\n",
       "  </thead>\n",
       "  <tbody>\n",
       "    <tr>\n",
       "      <th>0</th>\n",
       "      <td>txEyH</td>\n",
       "      <td>0.705745</td>\n",
       "      <td>-0.497823</td>\n",
       "      <td>1.221170</td>\n",
       "      <td>105.280062</td>\n",
       "    </tr>\n",
       "    <tr>\n",
       "      <th>1</th>\n",
       "      <td>2acmU</td>\n",
       "      <td>1.334711</td>\n",
       "      <td>-0.340164</td>\n",
       "      <td>4.365080</td>\n",
       "      <td>73.037750</td>\n",
       "    </tr>\n",
       "    <tr>\n",
       "      <th>2</th>\n",
       "      <td>409Wp</td>\n",
       "      <td>1.022732</td>\n",
       "      <td>0.151990</td>\n",
       "      <td>1.419926</td>\n",
       "      <td>85.265647</td>\n",
       "    </tr>\n",
       "    <tr>\n",
       "      <th>3</th>\n",
       "      <td>iJLyR</td>\n",
       "      <td>-0.032172</td>\n",
       "      <td>0.139033</td>\n",
       "      <td>2.978566</td>\n",
       "      <td>168.620776</td>\n",
       "    </tr>\n",
       "    <tr>\n",
       "      <th>4</th>\n",
       "      <td>Xdl7t</td>\n",
       "      <td>1.988431</td>\n",
       "      <td>0.155413</td>\n",
       "      <td>4.751769</td>\n",
       "      <td>154.036647</td>\n",
       "    </tr>\n",
       "  </tbody>\n",
       "</table>\n",
       "</div>"
      ],
      "text/plain": [
       "      id        f0        f1        f2     product\n",
       "0  txEyH  0.705745 -0.497823  1.221170  105.280062\n",
       "1  2acmU  1.334711 -0.340164  4.365080   73.037750\n",
       "2  409Wp  1.022732  0.151990  1.419926   85.265647\n",
       "3  iJLyR -0.032172  0.139033  2.978566  168.620776\n",
       "4  Xdl7t  1.988431  0.155413  4.751769  154.036647"
      ]
     },
     "execution_count": 7,
     "metadata": {},
     "output_type": "execute_result"
    }
   ],
   "source": [
    "data_0.head()"
   ]
  },
  {
   "cell_type": "code",
   "execution_count": 8,
   "metadata": {},
   "outputs": [
    {
     "data": {
      "text/html": [
       "<div>\n",
       "<style scoped>\n",
       "    .dataframe tbody tr th:only-of-type {\n",
       "        vertical-align: middle;\n",
       "    }\n",
       "\n",
       "    .dataframe tbody tr th {\n",
       "        vertical-align: top;\n",
       "    }\n",
       "\n",
       "    .dataframe thead th {\n",
       "        text-align: right;\n",
       "    }\n",
       "</style>\n",
       "<table border=\"1\" class=\"dataframe\">\n",
       "  <thead>\n",
       "    <tr style=\"text-align: right;\">\n",
       "      <th></th>\n",
       "      <th>id</th>\n",
       "      <th>f0</th>\n",
       "      <th>f1</th>\n",
       "      <th>f2</th>\n",
       "      <th>product</th>\n",
       "    </tr>\n",
       "  </thead>\n",
       "  <tbody>\n",
       "    <tr>\n",
       "      <th>0</th>\n",
       "      <td>kBEdx</td>\n",
       "      <td>-15.001348</td>\n",
       "      <td>-8.276000</td>\n",
       "      <td>-0.005876</td>\n",
       "      <td>3.179103</td>\n",
       "    </tr>\n",
       "    <tr>\n",
       "      <th>1</th>\n",
       "      <td>62mP7</td>\n",
       "      <td>14.272088</td>\n",
       "      <td>-3.475083</td>\n",
       "      <td>0.999183</td>\n",
       "      <td>26.953261</td>\n",
       "    </tr>\n",
       "    <tr>\n",
       "      <th>2</th>\n",
       "      <td>vyE1P</td>\n",
       "      <td>6.263187</td>\n",
       "      <td>-5.948386</td>\n",
       "      <td>5.001160</td>\n",
       "      <td>134.766305</td>\n",
       "    </tr>\n",
       "    <tr>\n",
       "      <th>3</th>\n",
       "      <td>KcrkZ</td>\n",
       "      <td>-13.081196</td>\n",
       "      <td>-11.506057</td>\n",
       "      <td>4.999415</td>\n",
       "      <td>137.945408</td>\n",
       "    </tr>\n",
       "    <tr>\n",
       "      <th>4</th>\n",
       "      <td>AHL4O</td>\n",
       "      <td>12.702195</td>\n",
       "      <td>-8.147433</td>\n",
       "      <td>5.004363</td>\n",
       "      <td>134.766305</td>\n",
       "    </tr>\n",
       "  </tbody>\n",
       "</table>\n",
       "</div>"
      ],
      "text/plain": [
       "      id         f0         f1        f2     product\n",
       "0  kBEdx -15.001348  -8.276000 -0.005876    3.179103\n",
       "1  62mP7  14.272088  -3.475083  0.999183   26.953261\n",
       "2  vyE1P   6.263187  -5.948386  5.001160  134.766305\n",
       "3  KcrkZ -13.081196 -11.506057  4.999415  137.945408\n",
       "4  AHL4O  12.702195  -8.147433  5.004363  134.766305"
      ]
     },
     "execution_count": 8,
     "metadata": {},
     "output_type": "execute_result"
    }
   ],
   "source": [
    "data_1.head()"
   ]
  },
  {
   "cell_type": "code",
   "execution_count": 9,
   "metadata": {},
   "outputs": [
    {
     "data": {
      "text/html": [
       "<div>\n",
       "<style scoped>\n",
       "    .dataframe tbody tr th:only-of-type {\n",
       "        vertical-align: middle;\n",
       "    }\n",
       "\n",
       "    .dataframe tbody tr th {\n",
       "        vertical-align: top;\n",
       "    }\n",
       "\n",
       "    .dataframe thead th {\n",
       "        text-align: right;\n",
       "    }\n",
       "</style>\n",
       "<table border=\"1\" class=\"dataframe\">\n",
       "  <thead>\n",
       "    <tr style=\"text-align: right;\">\n",
       "      <th></th>\n",
       "      <th>id</th>\n",
       "      <th>f0</th>\n",
       "      <th>f1</th>\n",
       "      <th>f2</th>\n",
       "      <th>product</th>\n",
       "    </tr>\n",
       "  </thead>\n",
       "  <tbody>\n",
       "    <tr>\n",
       "      <th>0</th>\n",
       "      <td>fwXo0</td>\n",
       "      <td>-1.146987</td>\n",
       "      <td>0.963328</td>\n",
       "      <td>-0.828965</td>\n",
       "      <td>27.758673</td>\n",
       "    </tr>\n",
       "    <tr>\n",
       "      <th>1</th>\n",
       "      <td>WJtFt</td>\n",
       "      <td>0.262778</td>\n",
       "      <td>0.269839</td>\n",
       "      <td>-2.530187</td>\n",
       "      <td>56.069697</td>\n",
       "    </tr>\n",
       "    <tr>\n",
       "      <th>2</th>\n",
       "      <td>ovLUW</td>\n",
       "      <td>0.194587</td>\n",
       "      <td>0.289035</td>\n",
       "      <td>-5.586433</td>\n",
       "      <td>62.871910</td>\n",
       "    </tr>\n",
       "    <tr>\n",
       "      <th>3</th>\n",
       "      <td>q6cA6</td>\n",
       "      <td>2.236060</td>\n",
       "      <td>-0.553760</td>\n",
       "      <td>0.930038</td>\n",
       "      <td>114.572842</td>\n",
       "    </tr>\n",
       "    <tr>\n",
       "      <th>4</th>\n",
       "      <td>WPMUX</td>\n",
       "      <td>-0.515993</td>\n",
       "      <td>1.716266</td>\n",
       "      <td>5.899011</td>\n",
       "      <td>149.600746</td>\n",
       "    </tr>\n",
       "  </tbody>\n",
       "</table>\n",
       "</div>"
      ],
      "text/plain": [
       "      id        f0        f1        f2     product\n",
       "0  fwXo0 -1.146987  0.963328 -0.828965   27.758673\n",
       "1  WJtFt  0.262778  0.269839 -2.530187   56.069697\n",
       "2  ovLUW  0.194587  0.289035 -5.586433   62.871910\n",
       "3  q6cA6  2.236060 -0.553760  0.930038  114.572842\n",
       "4  WPMUX -0.515993  1.716266  5.899011  149.600746"
      ]
     },
     "execution_count": 9,
     "metadata": {},
     "output_type": "execute_result"
    }
   ],
   "source": [
    "data_2.head()"
   ]
  },
  {
   "cell_type": "markdown",
   "metadata": {},
   "source": [
    "<b>Características</b>  \n",
    "- <i>id</i>: identificador único de pozo de petróleo  \n",
    "- <i>f0</i>: característica del punto\n",
    "- <i>f1</i>: característica del punto\n",
    "- <i>f2</i>: característica del punto\n",
    "\n",
    "<b>Objetivo</b>\n",
    "- <i>product</i>: volumen de reservas en el pozo de petróleo (miles de barriles)"
   ]
  },
  {
   "cell_type": "markdown",
   "metadata": {},
   "source": [
    "Con respecto a la data de las tres regiones, tenemos 10.000 datos por cada región y no tenemos datos nulos. Podemos comenzar a trabajar con esta información."
   ]
  },
  {
   "cell_type": "markdown",
   "metadata": {},
   "source": [
    "## Entrenamiento de modelos"
   ]
  },
  {
   "cell_type": "markdown",
   "metadata": {},
   "source": [
    "A continuación, se entrenaran modelos de regresión lineal para cada una de las regiones. Para realizar esto, se separará cada set de datos en una proporción (75:25), 75% para entrenamiento y 25% para validación.  \n",
    "\n",
    "Una vez entrenado cada modelo, se calculará la raiz del error cuadratico medio RECM (RMSE en inglés) para evaluar el error de las predicciones obtenidas con el conjunto de validación versus los valores reales.  \n",
    "\n",
    "Finalmente se calculará el volumen de crudo promedio estimado y real para cada región según los datos de validación.\n",
    "\n",
    "Para poder realizar esto facilmente para cada región, se creará una función."
   ]
  },
  {
   "cell_type": "code",
   "execution_count": 10,
   "metadata": {},
   "outputs": [],
   "source": [
    "def train_lineal_model(data,region):\n",
    "    #Separamos la data en un 75:25\n",
    "    train, valid = train_test_split(data, test_size=0.25, random_state=12345)\n",
    "    \n",
    "    #Caracteristicas y objetivos (entrenamiento)\n",
    "    features_train = train.drop(['id','product'], axis=1)\n",
    "    target_train = train['product']\n",
    "    \n",
    "    #Caracteristicas y objetivos (validacion)\n",
    "    features_valid = valid.drop(['id','product'], axis=1)\n",
    "    target_valid = valid['product']\n",
    "    \n",
    "    #Entrenamiento de modelo de Regresión lineal\n",
    "    model = LinearRegression()\n",
    "    model.fit(features_train, target_train)\n",
    "    \n",
    "    #Predicción usando caracteristicas de validación\n",
    "    predicted_valid = model.predict(features_valid)\n",
    "    \n",
    "    #Calculo de ECM y RECM (error del modelo)\n",
    "    mse = mean_squared_error(target_valid, predicted_valid)\n",
    "    rmse=mse**0.5\n",
    "    \n",
    "    #Calculo de volumenes\n",
    "    vol_mean_predicted=predicted_valid.mean()\n",
    "    vol_mean_real=target_valid.mean()\n",
    "    \n",
    "    print_mejorado(f'{region}',24)\n",
    "    print_mejorado(f'RECM: {rmse:.3f}',20)\n",
    "    print_mejorado(f'Volumen promedio estimado de las reservas previstas {vol_mean_predicted:.3f} (miles de barriles)',20)\n",
    "    print_mejorado(f'Volumen promedio real de las reservas: {vol_mean_real:.3f} (miles de barriles)',20)\n",
    "    \n",
    "    \n",
    "    #Retornamos valores predecidos y reales\n",
    "    return predicted_valid,target_valid    "
   ]
  },
  {
   "cell_type": "markdown",
   "metadata": {},
   "source": [
    "Una vez creada la función que crea, entrena y evalúa nuestro modelo la aplicamos a cada una de las regiones. Además, almacenamos las predicciones y los datos reales en variables para ser usadas posteriomente."
   ]
  },
  {
   "cell_type": "code",
   "execution_count": 11,
   "metadata": {},
   "outputs": [
    {
     "data": {
      "text/html": [
       "<span style=\"font-size: 24px;\">Región 0</span>"
      ],
      "text/plain": [
       "<IPython.core.display.HTML object>"
      ]
     },
     "metadata": {},
     "output_type": "display_data"
    },
    {
     "data": {
      "text/html": [
       "<span style=\"font-size: 20px;\">RECM: 37.579</span>"
      ],
      "text/plain": [
       "<IPython.core.display.HTML object>"
      ]
     },
     "metadata": {},
     "output_type": "display_data"
    },
    {
     "data": {
      "text/html": [
       "<span style=\"font-size: 20px;\">Volumen promedio estimado de las reservas previstas 92.593 (miles de barriles)</span>"
      ],
      "text/plain": [
       "<IPython.core.display.HTML object>"
      ]
     },
     "metadata": {},
     "output_type": "display_data"
    },
    {
     "data": {
      "text/html": [
       "<span style=\"font-size: 20px;\">Volumen promedio real de las reservas: 92.079 (miles de barriles)</span>"
      ],
      "text/plain": [
       "<IPython.core.display.HTML object>"
      ]
     },
     "metadata": {},
     "output_type": "display_data"
    }
   ],
   "source": [
    "#Región 0\n",
    "predicted_0,real_0=train_lineal_model(data_0,'Región 0')"
   ]
  },
  {
   "cell_type": "code",
   "execution_count": 12,
   "metadata": {},
   "outputs": [
    {
     "data": {
      "text/html": [
       "<span style=\"font-size: 24px;\">Región 1</span>"
      ],
      "text/plain": [
       "<IPython.core.display.HTML object>"
      ]
     },
     "metadata": {},
     "output_type": "display_data"
    },
    {
     "data": {
      "text/html": [
       "<span style=\"font-size: 20px;\">RECM: 0.893</span>"
      ],
      "text/plain": [
       "<IPython.core.display.HTML object>"
      ]
     },
     "metadata": {},
     "output_type": "display_data"
    },
    {
     "data": {
      "text/html": [
       "<span style=\"font-size: 20px;\">Volumen promedio estimado de las reservas previstas 68.729 (miles de barriles)</span>"
      ],
      "text/plain": [
       "<IPython.core.display.HTML object>"
      ]
     },
     "metadata": {},
     "output_type": "display_data"
    },
    {
     "data": {
      "text/html": [
       "<span style=\"font-size: 20px;\">Volumen promedio real de las reservas: 68.723 (miles de barriles)</span>"
      ],
      "text/plain": [
       "<IPython.core.display.HTML object>"
      ]
     },
     "metadata": {},
     "output_type": "display_data"
    }
   ],
   "source": [
    "#Región 1\n",
    "predicted_1,real_1=train_lineal_model(data_1,'Región 1')"
   ]
  },
  {
   "cell_type": "code",
   "execution_count": 13,
   "metadata": {},
   "outputs": [
    {
     "data": {
      "text/html": [
       "<span style=\"font-size: 24px;\">Región 2</span>"
      ],
      "text/plain": [
       "<IPython.core.display.HTML object>"
      ]
     },
     "metadata": {},
     "output_type": "display_data"
    },
    {
     "data": {
      "text/html": [
       "<span style=\"font-size: 20px;\">RECM: 40.030</span>"
      ],
      "text/plain": [
       "<IPython.core.display.HTML object>"
      ]
     },
     "metadata": {},
     "output_type": "display_data"
    },
    {
     "data": {
      "text/html": [
       "<span style=\"font-size: 20px;\">Volumen promedio estimado de las reservas previstas 94.965 (miles de barriles)</span>"
      ],
      "text/plain": [
       "<IPython.core.display.HTML object>"
      ]
     },
     "metadata": {},
     "output_type": "display_data"
    },
    {
     "data": {
      "text/html": [
       "<span style=\"font-size: 20px;\">Volumen promedio real de las reservas: 94.884 (miles de barriles)</span>"
      ],
      "text/plain": [
       "<IPython.core.display.HTML object>"
      ]
     },
     "metadata": {},
     "output_type": "display_data"
    }
   ],
   "source": [
    "#Región 2\n",
    "predicted_2,real_2=train_lineal_model(data_2,'Región 2')"
   ]
  },
  {
   "cell_type": "markdown",
   "metadata": {},
   "source": [
    "De lo anterior, observando el RECM, se concluye que el modelo de la región 1 predice con mayor precisión respecto a las regiones 0 y 2. Sin embargo, esta región **en promedio tiene un volumen de de crudo mucho menor a las otras regiones**. Con respecto a las regiones 0 y 2, estos modelos muestran un desempeño y volumenes similar.\n",
    "Finalmente, los volumenes promedio predichos por cada modelo son similares a los volumenes reales."
   ]
  },
  {
   "cell_type": "markdown",
   "metadata": {},
   "source": [
    "## Presupuesto y volumenes promedio"
   ]
  },
  {
   "cell_type": "markdown",
   "metadata": {},
   "source": [
    "Sabemos que la empresa tiene un presupuesto de 100 millones de dolares para explotar 200 pozos, por lo tanto, en presupuesto promedio por pozo es de:"
   ]
  },
  {
   "cell_type": "code",
   "execution_count": 14,
   "metadata": {},
   "outputs": [
    {
     "data": {
      "text/html": [
       "<span style=\"font-size: 20px;\">El presupuesto promedio por pozo es de 500000 USD</span>"
      ],
      "text/plain": [
       "<IPython.core.display.HTML object>"
      ]
     },
     "metadata": {},
     "output_type": "display_data"
    }
   ],
   "source": [
    "presupuesto_por_pozo=100000000/200\n",
    "print_mejorado(f'El presupuesto promedio por pozo es de {presupuesto_por_pozo:.0f} USD',20)"
   ]
  },
  {
   "cell_type": "markdown",
   "metadata": {},
   "source": [
    "Y sabiendo que un barril de materias primas genera 4,5 USD de ingresos por barril, entonces, dado que el volumen en nuestros datos es representado en \"miles de barriles\" por unidad. El ingreso por unidad es de 4500 dolares. Teniedo esto presente, podemos calcular el volumen mínimo promedio que tiene que tener cada pozo para no tener pérdidas:"
   ]
  },
  {
   "cell_type": "code",
   "execution_count": 15,
   "metadata": {},
   "outputs": [
    {
     "data": {
      "text/html": [
       "<span style=\"font-size: 20px;\">El volumen mínimo promedio por pozo para no tener perdidas es de 111.11 (miles de barriles)</span>"
      ],
      "text/plain": [
       "<IPython.core.display.HTML object>"
      ]
     },
     "metadata": {},
     "output_type": "display_data"
    }
   ],
   "source": [
    "volumen_minimo_pozo=presupuesto_por_pozo/4500\n",
    "volumen_minimo_pozo\n",
    "print_mejorado(f'El volumen mínimo promedio por pozo para no tener perdidas es de {volumen_minimo_pozo:.2f} (miles de barriles)',20)"
   ]
  },
  {
   "cell_type": "markdown",
   "metadata": {},
   "source": [
    "En relación a lo anterior, podriamos pensar que ninguna de las 3 regiones es rentable dado que el volumen promedio en ellas es menor al valor minimo requerido. Sin embargo, esto no es correcto, dado que cada región puede poseer pozos muy por sobre este promedio (y menores tambien) y dependerá de nuestro modelo identificar los pozos mas rentables para maximizar las ganancias."
   ]
  },
  {
   "cell_type": "markdown",
   "metadata": {},
   "source": [
    "## Cálculo de beneficios"
   ]
  },
  {
   "cell_type": "markdown",
   "metadata": {},
   "source": [
    "Al explorar cada región, se llevará a cabo un estudio de 500 puntos de extracción y se seleccionaran los mejores 200 puntos de extracción basandonse en nuestro modelo de predicción."
   ]
  },
  {
   "cell_type": "markdown",
   "metadata": {},
   "source": [
    "Para obtener los beneficios de los mejores 200 puntos de 500, crearé una función a la cual se le pasará como entrada 500 predicciones elegidas al azar junto con sus respectivos valores reales. Luego, esta función elegirá las 200 mejores predicciones y calculará el ingreso en base a los valores reales.Finalmente, para obtener el beneficio, se le restará la inversión inicial (100.000.000 USD)"
   ]
  },
  {
   "cell_type": "markdown",
   "metadata": {},
   "source": [
    "**Ejemplo**\n",
    "    \n",
    "| Pozo | Predicción                 | Realidad                   |\n",
    "|:-----|:--------------------------|:--------------------------|\n",
    "| 1    | 200 millones de barriles  | 80 millones de barriles   |\n",
    "| 2    | 190 millones de barriles  | 220 millones de barriles  |\n",
    "| 3    | 185 millones de barriles  | 150 millones de barriles  |\n",
    "| 4    | 170 millones de barriles  | 170 millones de barriles  |\n",
    "| 5    | 165 millones de barriles  | 170 millones de barriles  |\n",
    "\n",
    "\n",
    "Ingresos según modelo: (200+190+185+170+165)\\*4500=4.095 millones de dolares  \n",
    "Ingresos reales: (80+220+150+170+170)\\*4500=3.555 millones de dolares"
   ]
  },
  {
   "cell_type": "code",
   "execution_count": 16,
   "metadata": {},
   "outputs": [],
   "source": [
    "def mejores_200(real, predicted):    \n",
    "    predicted=pd.Series(predicted, index=real.index)\n",
    "    \n",
    "    #Ordenamos de mayor a menor las predicciones de entrada\n",
    "    predicted_sorted = predicted.sort_values(ascending=False)\n",
    "    \n",
    "    #Tomamos los primeros 200 valores reales correpondientes a dicha predicción\n",
    "    selected = real[predicted_sorted.index][:200]\n",
    "    \n",
    "    #Retornamos loa beneficios multiplicando la suma de los volumenes por 4500 menos la inversion inicial\n",
    "    return 4500 * sum(selected)-100_000_000"
   ]
  },
  {
   "cell_type": "markdown",
   "metadata": {},
   "source": [
    "A continuación aplicaré la función para las 2500 predicciones de cada región. De esta forma obtendre las ganancias de los 200 pozos que según la predicción, serían lo mas fructiferos."
   ]
  },
  {
   "cell_type": "code",
   "execution_count": 17,
   "metadata": {},
   "outputs": [
    {
     "data": {
      "text/html": [
       "<span style=\"font-size: 24px;\">Región 0</span>"
      ],
      "text/plain": [
       "<IPython.core.display.HTML object>"
      ]
     },
     "metadata": {},
     "output_type": "display_data"
    },
    {
     "data": {
      "text/html": [
       "<span style=\"font-size: 20px;\">Beneficio de los mejores pozos segun la predicción: 33.21 millones de dolares</span>"
      ],
      "text/plain": [
       "<IPython.core.display.HTML object>"
      ]
     },
     "metadata": {},
     "output_type": "display_data"
    }
   ],
   "source": [
    "print_mejorado(f\"Región 0\",24)\n",
    "print_mejorado(f\"Beneficio de los mejores pozos segun la predicción: {mejores_200(real_0, predicted_0)/1000000:.2f} millones de dolares\",20)"
   ]
  },
  {
   "cell_type": "code",
   "execution_count": 18,
   "metadata": {},
   "outputs": [
    {
     "data": {
      "text/html": [
       "<span style=\"font-size: 24px;\">Región 1</span>"
      ],
      "text/plain": [
       "<IPython.core.display.HTML object>"
      ]
     },
     "metadata": {},
     "output_type": "display_data"
    },
    {
     "data": {
      "text/html": [
       "<span style=\"font-size: 20px;\">Beneficio de los mejores pozos segun la predicción: 24.15 millones de dolares</span>"
      ],
      "text/plain": [
       "<IPython.core.display.HTML object>"
      ]
     },
     "metadata": {},
     "output_type": "display_data"
    }
   ],
   "source": [
    "print_mejorado(f\"Región 1\",24)\n",
    "print_mejorado(f\"Beneficio de los mejores pozos segun la predicción: {mejores_200(real_1, predicted_1)/1000000:.2f} millones de dolares\",20)"
   ]
  },
  {
   "cell_type": "code",
   "execution_count": 19,
   "metadata": {},
   "outputs": [
    {
     "data": {
      "text/html": [
       "<span style=\"font-size: 24px;\">Región 2</span>"
      ],
      "text/plain": [
       "<IPython.core.display.HTML object>"
      ]
     },
     "metadata": {},
     "output_type": "display_data"
    },
    {
     "data": {
      "text/html": [
       "<span style=\"font-size: 20px;\">Beneficio de los mejores pozos segun la predicción: 27.10 millones de dolares</span>"
      ],
      "text/plain": [
       "<IPython.core.display.HTML object>"
      ]
     },
     "metadata": {},
     "output_type": "display_data"
    }
   ],
   "source": [
    "print_mejorado(f\"Región 2\",24)\n",
    "print_mejorado(f\"Beneficio de los mejores pozos segun la predicción: {mejores_200(real_2, predicted_2)/1000000:.2f} millones de dolares\",20)"
   ]
  },
  {
   "cell_type": "markdown",
   "metadata": {},
   "source": [
    "Si se pudiera aplicar el modelo a todos los puntos de cada región, y luego quedarnos con los 200 mejores, **la región que generaría mayores beneficios sería la región 0, con 33,2 millones.**  \n",
    "Lamentablemente esto en la realidad no es posible, y la compañia solo hará un estudio de 500 puntos de extracción y para luego quedarse con los 200 mejores que indique el modelo.\n",
    "Para poder hacer un estimado de cuanto sería la ganancia por región considerando solo 500 puntos junto con su respectivo riesgo, se utilizará la técnica de Bootstrapping, la cual se explica a continuación."
   ]
  },
  {
   "cell_type": "markdown",
   "metadata": {},
   "source": [
    "## Bootstrapping"
   ]
  },
  {
   "cell_type": "markdown",
   "metadata": {},
   "source": [
    "La tecnica de Bootstrapping consiste en obtener multiples muestras al azar (submuestras) de una muestra mas grande. Esto nos permite evaluar el comportamiento de un modelo para multiples submuestras, las cuales, a pesar de venir de una misma muestra, pueden ser muy diferentes entre si. Para este caso en particular es útil ya que podemos poner a prueba distintas submuestras de nuestros 2500 datos de validación."
   ]
  },
  {
   "cell_type": "markdown",
   "metadata": {},
   "source": [
    "Para aplicar la tecnica de bootstrapping, tomaré 1000 submuestras al azar de las 2500 (predicciones/datos reales). Cada submuestra será de 500 datos cada una y en cada iteración se obtendra la ganancia que otorgaría esta submuestra usando la función construida anteriormente. De esta manerá, obtendremos la distribución de las ganancias obtenidas al elegir 500 puntos al azar, en donde luego nuestro modelo elegió las 200 mejores.  \n",
    "\n",
    "Finalmente. calcularemos el intervalo de confianza de 95% y las ganancias minimas obtenidas el 2.5% de las veces (riesgo).\n"
   ]
  },
  {
   "cell_type": "markdown",
   "metadata": {},
   "source": [
    "Como debemos hacer esto para 3 regiones diferentes, una vez mas, crearé una función:"
   ]
  },
  {
   "cell_type": "code",
   "execution_count": 20,
   "metadata": {},
   "outputs": [],
   "source": [
    "def bootstrapping(real,predicted,riesgo,region):\n",
    "\n",
    "    state = np.random.RandomState(12345)\n",
    "    predicted=pd.Series(predicted, index=real.index)\n",
    "\n",
    "    values = []\n",
    "    \n",
    "    #Ciclo que se repite 1000 veces\n",
    "    for i in range(1000):\n",
    "        #Obtenemos una submuestra al azar de 500 datos proveniente de los datos reales\n",
    "        target_subsample = real.sample(n=500, replace=True, random_state=state)\n",
    "        #Obtenemos las predicciones correspondientes a los valores 500 valores reales elegidos anteriormente\n",
    "        probs_subsample = predicted[target_subsample.index]\n",
    "        #Guardamos los beneficios para esta muestra usando la función del punto anterior\n",
    "        values.append(mejores_200(target_subsample,probs_subsample))\n",
    "\n",
    "    \n",
    "    values = pd.Series(values)\n",
    "    #Beneficios minimas (2.5% inferior)\n",
    "    lower = values.quantile(riesgo)\n",
    "    #Beneficios máximas (2.5% superior)\n",
    "    higher = values.quantile(0.975)\n",
    "    mean = values.mean()\n",
    "    \n",
    "    #Calculo de perdidas asumiendo el peor escenario (que se da el 2.5% de las veces)\n",
    "    perdidas=(lower)/1000000\n",
    "    \n",
    "    riesgo=0\n",
    "    for valor in values:\n",
    "        if valor < 0:\n",
    "            riesgo = riesgo+1\n",
    "            \n",
    "    riesgo=(riesgo/1000)\n",
    "    riesgo_quantile = values.quantile(riesgo)\n",
    "    \n",
    "    values_escalados=values/1000000\n",
    "    values_escalados.hist(bins=50, figsize=(15,8))\n",
    "    plt.axvline(x=mean/1000000, color='r', label='Media')\n",
    "    plt.axvline(x=lower/1000000, color='b', label='Límite inferior(intervalo de confianza 95%)')\n",
    "    plt.axvline(x=higher/1000000, color='b', label='Límite superior(intervalo de confianza 95%)')\n",
    "    plt.axvline(x=riesgo_quantile/1000000, color='orange', label='Riesgo mínimo')\n",
    "    plt.xlabel('Beneficios (millones de dolares)', fontsize=20) \n",
    "    plt.ylabel('Iteraciones', fontsize=20)\n",
    "    plt.legend(fontsize=12)\n",
    "    \n",
    "    print_mejorado(f\"{region}\",24)\n",
    "    print_mejorado(f\"Beneficio promedio: {mean/1000000:.2f} millones de dolares\",20)\n",
    "    print_mejorado(f\"Cuantil del 2.5 %: {lower/1000000:.2f} millones de dolares\",20)\n",
    "    print_mejorado(f\"Cuantil del 97.5 %: {higher/1000000:.2f} millones de dolares\",20)\n",
    "    print_mejorado(f\"Intervalo de confianza del 95%: [{lower/1000000:.2f},{higher/1000000:.2f}] millones de dolares\",20)\n",
    "    print_mejorado(f\"Riesgo de perdidas 2.5%: {perdidas:.2f}%\",20)\n",
    "    print_mejorado(f\"Riesgo minimo: {riesgo*100:.2f}%\",20)"
   ]
  },
  {
   "cell_type": "code",
   "execution_count": 21,
   "metadata": {},
   "outputs": [
    {
     "data": {
      "text/html": [
       "<span style=\"font-size: 24px;\">Región 0</span>"
      ],
      "text/plain": [
       "<IPython.core.display.HTML object>"
      ]
     },
     "metadata": {},
     "output_type": "display_data"
    },
    {
     "data": {
      "text/html": [
       "<span style=\"font-size: 20px;\">Beneficio promedio: 4.26 millones de dolares</span>"
      ],
      "text/plain": [
       "<IPython.core.display.HTML object>"
      ]
     },
     "metadata": {},
     "output_type": "display_data"
    },
    {
     "data": {
      "text/html": [
       "<span style=\"font-size: 20px;\">Cuantil del 2.5 %: -1.02 millones de dolares</span>"
      ],
      "text/plain": [
       "<IPython.core.display.HTML object>"
      ]
     },
     "metadata": {},
     "output_type": "display_data"
    },
    {
     "data": {
      "text/html": [
       "<span style=\"font-size: 20px;\">Cuantil del 97.5 %: 9.48 millones de dolares</span>"
      ],
      "text/plain": [
       "<IPython.core.display.HTML object>"
      ]
     },
     "metadata": {},
     "output_type": "display_data"
    },
    {
     "data": {
      "text/html": [
       "<span style=\"font-size: 20px;\">Intervalo de confianza del 95%: [-1.02,9.48] millones de dolares</span>"
      ],
      "text/plain": [
       "<IPython.core.display.HTML object>"
      ]
     },
     "metadata": {},
     "output_type": "display_data"
    },
    {
     "data": {
      "text/html": [
       "<span style=\"font-size: 20px;\">Riesgo de perdidas 2.5%: -1.02%</span>"
      ],
      "text/plain": [
       "<IPython.core.display.HTML object>"
      ]
     },
     "metadata": {},
     "output_type": "display_data"
    },
    {
     "data": {
      "text/html": [
       "<span style=\"font-size: 20px;\">Riesgo minimo: 6.00%</span>"
      ],
      "text/plain": [
       "<IPython.core.display.HTML object>"
      ]
     },
     "metadata": {},
     "output_type": "display_data"
    },
    {
     "data": {
      "image/png": "[encoded data removed]",
      "text/plain": [
       "<Figure size 1080x576 with 1 Axes>"
      ]
     },
     "metadata": {
      "needs_background": "light"
     },
     "output_type": "display_data"
    }
   ],
   "source": [
    "bootstrapping(real_0,predicted_0,0.025,'Región 0')"
   ]
  },
  {
   "cell_type": "markdown",
   "metadata": {},
   "source": [
    "Para la región 0 tenemos que el beneficio promedio que se obtendría es de 4.26 millones, y en el peor de los casos, perdidas de 1.02 millones, es decir **un riesgo de 2.5% de obtener perdidas del 1.02% de la inversión inicial.**\n",
    "En general, para esta región, el riesgo de que la inversión resulte en perdidas es del 6%."
   ]
  },
  {
   "cell_type": "code",
   "execution_count": 22,
   "metadata": {},
   "outputs": [
    {
     "data": {
      "text/html": [
       "<span style=\"font-size: 24px;\">Región 1</span>"
      ],
      "text/plain": [
       "<IPython.core.display.HTML object>"
      ]
     },
     "metadata": {},
     "output_type": "display_data"
    },
    {
     "data": {
      "text/html": [
       "<span style=\"font-size: 20px;\">Beneficio promedio: 5.15 millones de dolares</span>"
      ],
      "text/plain": [
       "<IPython.core.display.HTML object>"
      ]
     },
     "metadata": {},
     "output_type": "display_data"
    },
    {
     "data": {
      "text/html": [
       "<span style=\"font-size: 20px;\">Cuantil del 2.5 %: 0.69 millones de dolares</span>"
      ],
      "text/plain": [
       "<IPython.core.display.HTML object>"
      ]
     },
     "metadata": {},
     "output_type": "display_data"
    },
    {
     "data": {
      "text/html": [
       "<span style=\"font-size: 20px;\">Cuantil del 97.5 %: 9.32 millones de dolares</span>"
      ],
      "text/plain": [
       "<IPython.core.display.HTML object>"
      ]
     },
     "metadata": {},
     "output_type": "display_data"
    },
    {
     "data": {
      "text/html": [
       "<span style=\"font-size: 20px;\">Intervalo de confianza del 95%: [0.69,9.32] millones de dolares</span>"
      ],
      "text/plain": [
       "<IPython.core.display.HTML object>"
      ]
     },
     "metadata": {},
     "output_type": "display_data"
    },
    {
     "data": {
      "text/html": [
       "<span style=\"font-size: 20px;\">Riesgo de perdidas 2.5%: 0.69%</span>"
      ],
      "text/plain": [
       "<IPython.core.display.HTML object>"
      ]
     },
     "metadata": {},
     "output_type": "display_data"
    },
    {
     "data": {
      "text/html": [
       "<span style=\"font-size: 20px;\">Riesgo minimo: 1.00%</span>"
      ],
      "text/plain": [
       "<IPython.core.display.HTML object>"
      ]
     },
     "metadata": {},
     "output_type": "display_data"
    },
    {
     "data": {
      "image/png": "[encoded data removed]",
      "text/plain": [
       "<Figure size 1080x576 with 1 Axes>"
      ]
     },
     "metadata": {
      "needs_background": "light"
     },
     "output_type": "display_data"
    }
   ],
   "source": [
    "bootstrapping(real_1,predicted_1,0.025,'Región 1')"
   ]
  },
  {
   "cell_type": "markdown",
   "metadata": {},
   "source": [
    "Para la región 1 tenemos que el beneficio promedio que se obtendría es de 5.15 millones, y en el peor de los casos, un beneficio de 0.69 millones, es decir **incluso en el limite inferior del intervalo de confianza se obtendrían ganacias.**  \n",
    "En general, para esta región, el riesgo de que la inversión resulte en perdidas es del 1%."
   ]
  },
  {
   "cell_type": "code",
   "execution_count": 23,
   "metadata": {},
   "outputs": [
    {
     "data": {
      "text/html": [
       "<span style=\"font-size: 24px;\">Región 2</span>"
      ],
      "text/plain": [
       "<IPython.core.display.HTML object>"
      ]
     },
     "metadata": {},
     "output_type": "display_data"
    },
    {
     "data": {
      "text/html": [
       "<span style=\"font-size: 20px;\">Beneficio promedio: 4.35 millones de dolares</span>"
      ],
      "text/plain": [
       "<IPython.core.display.HTML object>"
      ]
     },
     "metadata": {},
     "output_type": "display_data"
    },
    {
     "data": {
      "text/html": [
       "<span style=\"font-size: 20px;\">Cuantil del 2.5 %: -1.29 millones de dolares</span>"
      ],
      "text/plain": [
       "<IPython.core.display.HTML object>"
      ]
     },
     "metadata": {},
     "output_type": "display_data"
    },
    {
     "data": {
      "text/html": [
       "<span style=\"font-size: 20px;\">Cuantil del 97.5 %: 9.70 millones de dolares</span>"
      ],
      "text/plain": [
       "<IPython.core.display.HTML object>"
      ]
     },
     "metadata": {},
     "output_type": "display_data"
    },
    {
     "data": {
      "text/html": [
       "<span style=\"font-size: 20px;\">Intervalo de confianza del 95%: [-1.29,9.70] millones de dolares</span>"
      ],
      "text/plain": [
       "<IPython.core.display.HTML object>"
      ]
     },
     "metadata": {},
     "output_type": "display_data"
    },
    {
     "data": {
      "text/html": [
       "<span style=\"font-size: 20px;\">Riesgo de perdidas 2.5%: -1.29%</span>"
      ],
      "text/plain": [
       "<IPython.core.display.HTML object>"
      ]
     },
     "metadata": {},
     "output_type": "display_data"
    },
    {
     "data": {
      "text/html": [
       "<span style=\"font-size: 20px;\">Riesgo minimo: 6.40%</span>"
      ],
      "text/plain": [
       "<IPython.core.display.HTML object>"
      ]
     },
     "metadata": {},
     "output_type": "display_data"
    },
    {
     "data": {
      "image/png": "[encoded data removed]",
      "text/plain": [
       "<Figure size 1080x576 with 1 Axes>"
      ]
     },
     "metadata": {
      "needs_background": "light"
     },
     "output_type": "display_data"
    }
   ],
   "source": [
    "bootstrapping(real_2,predicted_2,0.025,'Región 2')"
   ]
  },
  {
   "cell_type": "markdown",
   "metadata": {},
   "source": [
    "Para la región 2 tenemos que el beneficio promedio que se obtendría es de 4.35 millones, y en el peor de los casos, un perdidas de 1.29 millones, es decir **un riesgo de 2.5% de obtener perdidas del 1.29% de la inversión inicial.**  \n",
    "En general, para esta región, el riesgo de que la inversión resulte en perdidas es del 6,4%."
   ]
  },
  {
   "cell_type": "markdown",
   "metadata": {},
   "source": [
    "## Conclusión"
   ]
  },
  {
   "cell_type": "markdown",
   "metadata": {},
   "source": [
    "Las regiones 0 y 2 en promedio tienen mas volumen de yacimientos, sin embargo, la capacidad de los modelos para predecir con certeza el volumen de los yacimientos en estas regiones es menor a la prediciones de la región 2.\n",
    "Con esto en mente, y luego de las pruebas mostradas anteriormente, a pesar de que la región 1 aparentemente tiene menos yacimientos, el poder predecir con mayor certeza el volumen de los yacimientos disminuye la posibilidad de elegir explotar un yacimiento con menos volumen del esperado y por consecuencia, se máximizan los beneficios.  \n",
    "**Para la región 1, en el limite inferior de confianza de 95% (el peor de los casos), con una probabilidad de un 2.5% de riesgo, las ganancias mínimas seguiran siendo mayores que la inversión inicial. Además, el riesgo de que la inversión resulte en perdidas es del 1%, riesgo mucho menor si lo comparamos con el 6% de las otras regiones, es por esto que mi recomedación es realizar estudios de 500 nuevos puntos en la región 1 y luego elegir los mejores 200 usando el modelo confeccionado en este proyecto.**"
   ]
  }
 ],
 "metadata": {
  "kernelspec": {
   "display_name": "Python 3 (ipykernel)",
   "language": "python",
   "name": "python3"
  },
  "language_info": {
   "codemirror_mode": {
    "name": "ipython",
    "version": 3
   },
   "file_extension": ".py",
   "mimetype": "text/x-python",
   "name": "python",
   "nbconvert_exporter": "python",
   "pygments_lexer": "ipython3",
   "version": "3.9.5"
  },
  "toc": {
   "base_numbering": 1,
   "nav_menu": {},
   "number_sections": true,
   "sideBar": true,
   "skip_h1_title": true,
   "title_cell": "Tabla de contenidos",
   "title_sidebar": "Contents",
   "toc_cell": true,
   "toc_position": {},
   "toc_section_display": true,
   "toc_window_display": false
  }
 },
 "nbformat": 4,
 "nbformat_minor": 2
}
