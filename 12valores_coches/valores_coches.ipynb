{
 "cells": [
  {
   "cell_type": "markdown",
   "metadata": {},
   "source": [
    "# Descripción del proyecto"
   ]
  },
  {
   "cell_type": "markdown",
   "metadata": {},
   "source": [
    "El servicio de venta de autos usados Rusty Bargain está desarrollando una aplicación para atraer nuevos clientes. Gracias a esa app, puedes averiguar rápidamente el valor de mercado de tu coche. Tenemos acceso al historial: especificaciones técnicas, versiones de equipamiento y precios. Debemos crear un modelo que determine el valor de mercado.\n",
    "\n",
    "A Rusty Bargain le interesa:\n",
    "- la calidad de la predicción;\n",
    "- la velocidad de la predicción;\n",
    "- el tiempo requerido para el entrenamiento"
   ]
  },
  {
   "cell_type": "markdown",
   "metadata": {
    "toc": true
   },
   "source": [
    "<h1>Tabla de contenidos<span class=\"tocSkip\"></span></h1>\n",
    "<div class=\"toc\"><ul class=\"toc-item\"><li><span><a href=\"#Inicialización\" data-toc-modified-id=\"Inicialización-1\"><span class=\"toc-item-num\">1&nbsp;&nbsp;</span>Inicialización</a></span></li><li><span><a href=\"#Preparación-de-datos\" data-toc-modified-id=\"Preparación-de-datos-2\"><span class=\"toc-item-num\">2&nbsp;&nbsp;</span>Preparación de datos</a></span><ul class=\"toc-item\"><li><span><a href=\"#Carga-de-datos\" data-toc-modified-id=\"Carga-de-datos-2.1\"><span class=\"toc-item-num\">2.1&nbsp;&nbsp;</span>Carga de datos</a></span></li><li><span><a href=\"#Analisis-de-tipo-de-datos\" data-toc-modified-id=\"Analisis-de-tipo-de-datos-2.2\"><span class=\"toc-item-num\">2.2&nbsp;&nbsp;</span>Analisis de tipo de datos</a></span></li><li><span><a href=\"#Analisis-y-acondicionamiento-de-datos\" data-toc-modified-id=\"Analisis-y-acondicionamiento-de-datos-2.3\"><span class=\"toc-item-num\">2.3&nbsp;&nbsp;</span>Analisis y acondicionamiento de datos</a></span><ul class=\"toc-item\"><li><span><a href=\"#Columna-date_crawled\" data-toc-modified-id=\"Columna-date_crawled-2.3.1\"><span class=\"toc-item-num\">2.3.1&nbsp;&nbsp;</span>Columna <code>date_crawled</code></a></span></li><li><span><a href=\"#Columna-price\" data-toc-modified-id=\"Columna-price-2.3.2\"><span class=\"toc-item-num\">2.3.2&nbsp;&nbsp;</span>Columna <code>price</code></a></span></li><li><span><a href=\"#Columna-vehicle_type\" data-toc-modified-id=\"Columna-vehicle_type-2.3.3\"><span class=\"toc-item-num\">2.3.3&nbsp;&nbsp;</span>Columna <code>vehicle_type</code></a></span></li><li><span><a href=\"#Columna-registration_year\" data-toc-modified-id=\"Columna-registration_year-2.3.4\"><span class=\"toc-item-num\">2.3.4&nbsp;&nbsp;</span>Columna <code>registration_year</code></a></span></li><li><span><a href=\"#Columna-gearbox\" data-toc-modified-id=\"Columna-gearbox-2.3.5\"><span class=\"toc-item-num\">2.3.5&nbsp;&nbsp;</span>Columna <code>gearbox</code></a></span></li><li><span><a href=\"#Columna-power\" data-toc-modified-id=\"Columna-power-2.3.6\"><span class=\"toc-item-num\">2.3.6&nbsp;&nbsp;</span>Columna <code>power</code></a></span></li><li><span><a href=\"#Columna-model\" data-toc-modified-id=\"Columna-model-2.3.7\"><span class=\"toc-item-num\">2.3.7&nbsp;&nbsp;</span>Columna <code>model</code></a></span></li><li><span><a href=\"#Columna-mileage\" data-toc-modified-id=\"Columna-mileage-2.3.8\"><span class=\"toc-item-num\">2.3.8&nbsp;&nbsp;</span>Columna <code>mileage</code></a></span></li><li><span><a href=\"#Columna-registration_month\" data-toc-modified-id=\"Columna-registration_month-2.3.9\"><span class=\"toc-item-num\">2.3.9&nbsp;&nbsp;</span>Columna <code>registration_month</code></a></span></li><li><span><a href=\"#Columna-fuel_type\" data-toc-modified-id=\"Columna-fuel_type-2.3.10\"><span class=\"toc-item-num\">2.3.10&nbsp;&nbsp;</span>Columna <code>fuel_type</code></a></span></li><li><span><a href=\"#Columna-brand\" data-toc-modified-id=\"Columna-brand-2.3.11\"><span class=\"toc-item-num\">2.3.11&nbsp;&nbsp;</span>Columna <code>brand</code></a></span></li><li><span><a href=\"#Columna-not_repaired\" data-toc-modified-id=\"Columna-not_repaired-2.3.12\"><span class=\"toc-item-num\">2.3.12&nbsp;&nbsp;</span>Columna <code>not_repaired</code></a></span></li><li><span><a href=\"#Columna-date_created\" data-toc-modified-id=\"Columna-date_created-2.3.13\"><span class=\"toc-item-num\">2.3.13&nbsp;&nbsp;</span>Columna <code>date_created</code></a></span></li><li><span><a href=\"#Columna-number_of_pictures\" data-toc-modified-id=\"Columna-number_of_pictures-2.3.14\"><span class=\"toc-item-num\">2.3.14&nbsp;&nbsp;</span>Columna <code>number_of_pictures</code></a></span></li><li><span><a href=\"#Columna-postal_code\" data-toc-modified-id=\"Columna-postal_code-2.3.15\"><span class=\"toc-item-num\">2.3.15&nbsp;&nbsp;</span>Columna <code>postal_code</code></a></span></li><li><span><a href=\"#Columna-last_seen\" data-toc-modified-id=\"Columna-last_seen-2.3.16\"><span class=\"toc-item-num\">2.3.16&nbsp;&nbsp;</span>Columna <code>last_seen</code></a></span></li><li><span><a href=\"#Eliminamos-duplicados\" data-toc-modified-id=\"Eliminamos-duplicados-2.3.17\"><span class=\"toc-item-num\">2.3.17&nbsp;&nbsp;</span>Eliminamos duplicados</a></span></li></ul></li><li><span><a href=\"#Preparacion-final-de-la-data-antes-del-entrenamiento\" data-toc-modified-id=\"Preparacion-final-de-la-data-antes-del-entrenamiento-2.4\"><span class=\"toc-item-num\">2.4&nbsp;&nbsp;</span>Preparacion final de la data antes del entrenamiento</a></span></li></ul></li><li><span><a href=\"#Entrenamiento-de-modelos\" data-toc-modified-id=\"Entrenamiento-de-modelos-3\"><span class=\"toc-item-num\">3&nbsp;&nbsp;</span>Entrenamiento de modelos</a></span><ul class=\"toc-item\"><li><span><a href=\"#Entrenamiento-de-modelos-clásicos-de-regresión\" data-toc-modified-id=\"Entrenamiento-de-modelos-clásicos-de-regresión-3.1\"><span class=\"toc-item-num\">3.1&nbsp;&nbsp;</span>Entrenamiento de modelos clásicos de regresión</a></span><ul class=\"toc-item\"><li><span><a href=\"#Modelo-de-arbol-de-decisión\" data-toc-modified-id=\"Modelo-de-arbol-de-decisión-3.1.1\"><span class=\"toc-item-num\">3.1.1&nbsp;&nbsp;</span>Modelo de arbol de decisión</a></span></li><li><span><a href=\"#Modelo-de-bosques-aleatorios\" data-toc-modified-id=\"Modelo-de-bosques-aleatorios-3.1.2\"><span class=\"toc-item-num\">3.1.2&nbsp;&nbsp;</span>Modelo de bosques aleatorios</a></span></li><li><span><a href=\"#Modelo-de-regresión-lineal\" data-toc-modified-id=\"Modelo-de-regresión-lineal-3.1.3\"><span class=\"toc-item-num\">3.1.3&nbsp;&nbsp;</span>Modelo de regresión lineal</a></span></li></ul></li><li><span><a href=\"#Entrenamiento-de-modelos-de-potenciación-del-gradiente\" data-toc-modified-id=\"Entrenamiento-de-modelos-de-potenciación-del-gradiente-3.2\"><span class=\"toc-item-num\">3.2&nbsp;&nbsp;</span>Entrenamiento de modelos de potenciación del gradiente</a></span><ul class=\"toc-item\"><li><span><a href=\"#Modelo-de-regresión-CatBoost-(CatBoostRegressor)\" data-toc-modified-id=\"Modelo-de-regresión-CatBoost-(CatBoostRegressor)-3.2.1\"><span class=\"toc-item-num\">3.2.1&nbsp;&nbsp;</span>Modelo de regresión CatBoost (CatBoostRegressor)</a></span></li><li><span><a href=\"#Modelo-de-regresión-LightGBM-(LGBMRegressor)\" data-toc-modified-id=\"Modelo-de-regresión-LightGBM-(LGBMRegressor)-3.2.2\"><span class=\"toc-item-num\">3.2.2&nbsp;&nbsp;</span>Modelo de regresión LightGBM (LGBMRegressor)</a></span></li><li><span><a href=\"#Modelo-de-regresión-XGBoost-(XGBRFRegressor)\" data-toc-modified-id=\"Modelo-de-regresión-XGBoost-(XGBRFRegressor)-3.2.3\"><span class=\"toc-item-num\">3.2.3&nbsp;&nbsp;</span>Modelo de regresión XGBoost (XGBRFRegressor)</a></span></li></ul></li></ul></li><li><span><a href=\"#Análisis-y-comparación-de-los-modelos\" data-toc-modified-id=\"Análisis-y-comparación-de-los-modelos-4\"><span class=\"toc-item-num\">4&nbsp;&nbsp;</span>Análisis y comparación de los modelos</a></span><ul class=\"toc-item\"><li><span><a href=\"#Modelos-clásicos-de-regresión\" data-toc-modified-id=\"Modelos-clásicos-de-regresión-4.1\"><span class=\"toc-item-num\">4.1&nbsp;&nbsp;</span>Modelos clásicos de regresión</a></span><ul class=\"toc-item\"><li><span><a href=\"#Modelo-de-arbol-de-decisión\" data-toc-modified-id=\"Modelo-de-arbol-de-decisión-4.1.1\"><span class=\"toc-item-num\">4.1.1&nbsp;&nbsp;</span>Modelo de arbol de decisión</a></span></li><li><span><a href=\"#Modelo-de-bosques-aleatorios\" data-toc-modified-id=\"Modelo-de-bosques-aleatorios-4.1.2\"><span class=\"toc-item-num\">4.1.2&nbsp;&nbsp;</span>Modelo de bosques aleatorios</a></span></li><li><span><a href=\"#Modelo-de-regresión-lineal\" data-toc-modified-id=\"Modelo-de-regresión-lineal-4.1.3\"><span class=\"toc-item-num\">4.1.3&nbsp;&nbsp;</span>Modelo de regresión lineal</a></span></li></ul></li><li><span><a href=\"#Modelos-de-potenciación-del-grandiente\" data-toc-modified-id=\"Modelos-de-potenciación-del-grandiente-4.2\"><span class=\"toc-item-num\">4.2&nbsp;&nbsp;</span>Modelos de potenciación del grandiente</a></span><ul class=\"toc-item\"><li><span><a href=\"#Modelo-CatBoost\" data-toc-modified-id=\"Modelo-CatBoost-4.2.1\"><span class=\"toc-item-num\">4.2.1&nbsp;&nbsp;</span>Modelo CatBoost</a></span></li><li><span><a href=\"#Modelo-LightGBM\" data-toc-modified-id=\"Modelo-LightGBM-4.2.2\"><span class=\"toc-item-num\">4.2.2&nbsp;&nbsp;</span>Modelo LightGBM</a></span></li><li><span><a href=\"#Modelo-XGBoost\" data-toc-modified-id=\"Modelo-XGBoost-4.2.3\"><span class=\"toc-item-num\">4.2.3&nbsp;&nbsp;</span>Modelo XGBoost</a></span></li></ul></li><li><span><a href=\"#Comparación-final-de-todos-los-modelos\" data-toc-modified-id=\"Comparación-final-de-todos-los-modelos-4.3\"><span class=\"toc-item-num\">4.3&nbsp;&nbsp;</span>Comparación final de todos los modelos</a></span></li></ul></li><li><span><a href=\"#Conclusión\" data-toc-modified-id=\"Conclusión-5\"><span class=\"toc-item-num\">5&nbsp;&nbsp;</span>Conclusión</a></span></li></ul></div>"
   ]
  },
  {
   "cell_type": "markdown",
   "metadata": {},
   "source": [
    "## Inicialización"
   ]
  },
  {
   "cell_type": "code",
   "execution_count": 1,
   "metadata": {},
   "outputs": [],
   "source": [
    "# Cargamos todas las librerías a usar\n",
    "import pandas as pd\n",
    "from IPython.display import display, HTML, Image\n",
    "import matplotlib.pyplot as plt\n",
    "import numpy as np\n",
    "import time\n",
    "\n",
    "\n",
    "from sklearn.model_selection import train_test_split\n",
    "from sklearn.metrics import mean_squared_error\n",
    "\n",
    "from sklearn.tree import DecisionTreeRegressor\n",
    "from sklearn.ensemble import RandomForestRegressor\n",
    "from sklearn.linear_model import LinearRegression\n",
    "\n",
    "from sklearn.model_selection import GridSearchCV\n",
    "\n",
    "from catboost import CatBoostRegressor\n",
    "import lightgbm as lgb\n",
    "import xgboost as xgb\n",
    "\n",
    "\n",
    "#Para que las tablas no tengan limite al momento de mostrarse\n",
    "pd.set_option('display.max_rows', None)\n",
    "pd.set_option('display.max_columns', None)"
   ]
  },
  {
   "cell_type": "code",
   "execution_count": 2,
   "metadata": {},
   "outputs": [],
   "source": [
    "#Definimos una función Print que sea visualmente mas amigable\n",
    "def print_mejorado(texto,size):\n",
    "    size=str(size)\n",
    "    display(HTML('<span style=\"font-size: '+size+'px;\">'+texto+'</span>'))  "
   ]
  },
  {
   "cell_type": "markdown",
   "metadata": {},
   "source": [
    "## Preparación de datos"
   ]
  },
  {
   "cell_type": "markdown",
   "metadata": {},
   "source": [
    "### Carga de datos"
   ]
  },
  {
   "cell_type": "code",
   "execution_count": 3,
   "metadata": {},
   "outputs": [],
   "source": [
    "# Carga de los datos\n",
    "data=pd.read_csv('/datasets/car_data.csv')"
   ]
  },
  {
   "cell_type": "markdown",
   "metadata": {},
   "source": [
    "### Analisis de tipo de datos"
   ]
  },
  {
   "cell_type": "code",
   "execution_count": 4,
   "metadata": {},
   "outputs": [
    {
     "name": "stdout",
     "output_type": "stream",
     "text": [
      "<class 'pandas.core.frame.DataFrame'>\n",
      "RangeIndex: 354369 entries, 0 to 354368\n",
      "Data columns (total 16 columns):\n",
      " #   Column             Non-Null Count   Dtype \n",
      "---  ------             --------------   ----- \n",
      " 0   DateCrawled        354369 non-null  object\n",
      " 1   Price              354369 non-null  int64 \n",
      " 2   VehicleType        316879 non-null  object\n",
      " 3   RegistrationYear   354369 non-null  int64 \n",
      " 4   Gearbox            334536 non-null  object\n",
      " 5   Power              354369 non-null  int64 \n",
      " 6   Model              334664 non-null  object\n",
      " 7   Mileage            354369 non-null  int64 \n",
      " 8   RegistrationMonth  354369 non-null  int64 \n",
      " 9   FuelType           321474 non-null  object\n",
      " 10  Brand              354369 non-null  object\n",
      " 11  NotRepaired        283215 non-null  object\n",
      " 12  DateCreated        354369 non-null  object\n",
      " 13  NumberOfPictures   354369 non-null  int64 \n",
      " 14  PostalCode         354369 non-null  int64 \n",
      " 15  LastSeen           354369 non-null  object\n",
      "dtypes: int64(7), object(9)\n",
      "memory usage: 43.3+ MB\n"
     ]
    }
   ],
   "source": [
    "data.info()"
   ]
  },
  {
   "cell_type": "code",
   "execution_count": 5,
   "metadata": {
    "scrolled": false
   },
   "outputs": [
    {
     "data": {
      "text/html": [
       "<div>\n",
       "<style scoped>\n",
       "    .dataframe tbody tr th:only-of-type {\n",
       "        vertical-align: middle;\n",
       "    }\n",
       "\n",
       "    .dataframe tbody tr th {\n",
       "        vertical-align: top;\n",
       "    }\n",
       "\n",
       "    .dataframe thead th {\n",
       "        text-align: right;\n",
       "    }\n",
       "</style>\n",
       "<table border=\"1\" class=\"dataframe\">\n",
       "  <thead>\n",
       "    <tr style=\"text-align: right;\">\n",
       "      <th></th>\n",
       "      <th>DateCrawled</th>\n",
       "      <th>Price</th>\n",
       "      <th>VehicleType</th>\n",
       "      <th>RegistrationYear</th>\n",
       "      <th>Gearbox</th>\n",
       "      <th>Power</th>\n",
       "      <th>Model</th>\n",
       "      <th>Mileage</th>\n",
       "      <th>RegistrationMonth</th>\n",
       "      <th>FuelType</th>\n",
       "      <th>Brand</th>\n",
       "      <th>NotRepaired</th>\n",
       "      <th>DateCreated</th>\n",
       "      <th>NumberOfPictures</th>\n",
       "      <th>PostalCode</th>\n",
       "      <th>LastSeen</th>\n",
       "    </tr>\n",
       "  </thead>\n",
       "  <tbody>\n",
       "    <tr>\n",
       "      <th>0</th>\n",
       "      <td>24/03/2016 11:52</td>\n",
       "      <td>480</td>\n",
       "      <td>NaN</td>\n",
       "      <td>1993</td>\n",
       "      <td>manual</td>\n",
       "      <td>0</td>\n",
       "      <td>golf</td>\n",
       "      <td>150000</td>\n",
       "      <td>0</td>\n",
       "      <td>petrol</td>\n",
       "      <td>volkswagen</td>\n",
       "      <td>NaN</td>\n",
       "      <td>24/03/2016 00:00</td>\n",
       "      <td>0</td>\n",
       "      <td>70435</td>\n",
       "      <td>07/04/2016 03:16</td>\n",
       "    </tr>\n",
       "    <tr>\n",
       "      <th>1</th>\n",
       "      <td>24/03/2016 10:58</td>\n",
       "      <td>18300</td>\n",
       "      <td>coupe</td>\n",
       "      <td>2011</td>\n",
       "      <td>manual</td>\n",
       "      <td>190</td>\n",
       "      <td>NaN</td>\n",
       "      <td>125000</td>\n",
       "      <td>5</td>\n",
       "      <td>gasoline</td>\n",
       "      <td>audi</td>\n",
       "      <td>yes</td>\n",
       "      <td>24/03/2016 00:00</td>\n",
       "      <td>0</td>\n",
       "      <td>66954</td>\n",
       "      <td>07/04/2016 01:46</td>\n",
       "    </tr>\n",
       "    <tr>\n",
       "      <th>2</th>\n",
       "      <td>14/03/2016 12:52</td>\n",
       "      <td>9800</td>\n",
       "      <td>suv</td>\n",
       "      <td>2004</td>\n",
       "      <td>auto</td>\n",
       "      <td>163</td>\n",
       "      <td>grand</td>\n",
       "      <td>125000</td>\n",
       "      <td>8</td>\n",
       "      <td>gasoline</td>\n",
       "      <td>jeep</td>\n",
       "      <td>NaN</td>\n",
       "      <td>14/03/2016 00:00</td>\n",
       "      <td>0</td>\n",
       "      <td>90480</td>\n",
       "      <td>05/04/2016 12:47</td>\n",
       "    </tr>\n",
       "    <tr>\n",
       "      <th>3</th>\n",
       "      <td>17/03/2016 16:54</td>\n",
       "      <td>1500</td>\n",
       "      <td>small</td>\n",
       "      <td>2001</td>\n",
       "      <td>manual</td>\n",
       "      <td>75</td>\n",
       "      <td>golf</td>\n",
       "      <td>150000</td>\n",
       "      <td>6</td>\n",
       "      <td>petrol</td>\n",
       "      <td>volkswagen</td>\n",
       "      <td>no</td>\n",
       "      <td>17/03/2016 00:00</td>\n",
       "      <td>0</td>\n",
       "      <td>91074</td>\n",
       "      <td>17/03/2016 17:40</td>\n",
       "    </tr>\n",
       "    <tr>\n",
       "      <th>4</th>\n",
       "      <td>31/03/2016 17:25</td>\n",
       "      <td>3600</td>\n",
       "      <td>small</td>\n",
       "      <td>2008</td>\n",
       "      <td>manual</td>\n",
       "      <td>69</td>\n",
       "      <td>fabia</td>\n",
       "      <td>90000</td>\n",
       "      <td>7</td>\n",
       "      <td>gasoline</td>\n",
       "      <td>skoda</td>\n",
       "      <td>no</td>\n",
       "      <td>31/03/2016 00:00</td>\n",
       "      <td>0</td>\n",
       "      <td>60437</td>\n",
       "      <td>06/04/2016 10:17</td>\n",
       "    </tr>\n",
       "  </tbody>\n",
       "</table>\n",
       "</div>"
      ],
      "text/plain": [
       "        DateCrawled  Price VehicleType  RegistrationYear Gearbox  Power  \\\n",
       "0  24/03/2016 11:52    480         NaN              1993  manual      0   \n",
       "1  24/03/2016 10:58  18300       coupe              2011  manual    190   \n",
       "2  14/03/2016 12:52   9800         suv              2004    auto    163   \n",
       "3  17/03/2016 16:54   1500       small              2001  manual     75   \n",
       "4  31/03/2016 17:25   3600       small              2008  manual     69   \n",
       "\n",
       "   Model  Mileage  RegistrationMonth  FuelType       Brand NotRepaired  \\\n",
       "0   golf   150000                  0    petrol  volkswagen         NaN   \n",
       "1    NaN   125000                  5  gasoline        audi         yes   \n",
       "2  grand   125000                  8  gasoline        jeep         NaN   \n",
       "3   golf   150000                  6    petrol  volkswagen          no   \n",
       "4  fabia    90000                  7  gasoline       skoda          no   \n",
       "\n",
       "        DateCreated  NumberOfPictures  PostalCode          LastSeen  \n",
       "0  24/03/2016 00:00                 0       70435  07/04/2016 03:16  \n",
       "1  24/03/2016 00:00                 0       66954  07/04/2016 01:46  \n",
       "2  14/03/2016 00:00                 0       90480  05/04/2016 12:47  \n",
       "3  17/03/2016 00:00                 0       91074  17/03/2016 17:40  \n",
       "4  31/03/2016 00:00                 0       60437  06/04/2016 10:17  "
      ]
     },
     "execution_count": 5,
     "metadata": {},
     "output_type": "execute_result"
    }
   ],
   "source": [
    "data.head()"
   ]
  },
  {
   "cell_type": "code",
   "execution_count": 6,
   "metadata": {},
   "outputs": [],
   "source": [
    "#Renombramos las columnas a tipo snake_case\n",
    "data = data.rename(columns={\n",
    "    'DateCrawled': 'date_crawled', \n",
    "    'Price': 'price',\n",
    "    'VehicleType': 'vehicle_type',\n",
    "    'RegistrationYear': 'registration_year',\n",
    "    'Gearbox': 'gearbox',\n",
    "    'Power': 'power',\n",
    "    'Model': 'model',\n",
    "    'Mileage': 'mileage',\n",
    "    'RegistrationMonth': 'registration_month',\n",
    "    'FuelType': 'fuel_type',\n",
    "    'Brand': 'brand',\n",
    "    'NotRepaired': 'not_repaired',\n",
    "    'DateCreated': 'date_created',\n",
    "    'NumberOfPictures': 'number_of_pictures',\n",
    "    'PostalCode': 'postal_code',\n",
    "    'LastSeen': 'last_seen'    \n",
    "})"
   ]
  },
  {
   "cell_type": "code",
   "execution_count": 7,
   "metadata": {},
   "outputs": [
    {
     "name": "stdout",
     "output_type": "stream",
     "text": [
      "<class 'pandas.core.frame.DataFrame'>\n",
      "RangeIndex: 354369 entries, 0 to 354368\n",
      "Data columns (total 16 columns):\n",
      " #   Column              Non-Null Count   Dtype         \n",
      "---  ------              --------------   -----         \n",
      " 0   date_crawled        354369 non-null  datetime64[ns]\n",
      " 1   price               354369 non-null  int64         \n",
      " 2   vehicle_type        316879 non-null  object        \n",
      " 3   registration_year   354369 non-null  int64         \n",
      " 4   gearbox             334536 non-null  object        \n",
      " 5   power               354369 non-null  int64         \n",
      " 6   model               334664 non-null  object        \n",
      " 7   mileage             354369 non-null  int64         \n",
      " 8   registration_month  354369 non-null  int64         \n",
      " 9   fuel_type           321474 non-null  object        \n",
      " 10  brand               354369 non-null  object        \n",
      " 11  not_repaired        283215 non-null  object        \n",
      " 12  date_created        354369 non-null  datetime64[ns]\n",
      " 13  number_of_pictures  354369 non-null  int64         \n",
      " 14  postal_code         354369 non-null  int64         \n",
      " 15  last_seen           354369 non-null  datetime64[ns]\n",
      "dtypes: datetime64[ns](3), int64(7), object(6)\n",
      "memory usage: 43.3+ MB\n"
     ]
    }
   ],
   "source": [
    "#Transformamos los valores de fecha de tipo object a datetime\n",
    "data['date_crawled'] = pd.to_datetime(data['date_crawled'], format='%d/%m/%Y %H:%M')\n",
    "data['date_created'] = pd.to_datetime(data['date_created'], format='%d/%m/%Y %H:%M')\n",
    "data['last_seen'] = pd.to_datetime(data['last_seen'], format='%d/%m/%Y %H:%M')\n",
    "data.info()"
   ]
  },
  {
   "cell_type": "markdown",
   "metadata": {},
   "source": [
    "### Analisis y acondicionamiento de datos"
   ]
  },
  {
   "cell_type": "code",
   "execution_count": 8,
   "metadata": {},
   "outputs": [],
   "source": [
    "#Creamos funcion para visualizar rapidamente histogramas y datos descriptivos de cada columnas numericas\n",
    "def histo_des(df):\n",
    "    fig, (ax1, ax2) = plt.subplots(nrows=1, ncols=2, figsize=(20, 8))\n",
    "    df.hist(ax=ax1,bins=20, figsize=(20,5))\n",
    "    ax1.set_xlabel('Valores')\n",
    "    ax1.set_ylabel('Frecuencia')\n",
    "    ax1.set_title(df.name)\n",
    "    \n",
    "    ax2.axis('off')\n",
    "    ax2.text(0, 0.5, str(df.describe()), fontsize=20, va='center')\n",
    "    plt.subplots_adjust(wspace=0.5)\n",
    "    plt.show()\n",
    "    \n",
    "    print_mejorado(f\"Datos ausentes: {df.isnull().sum()}\",24)"
   ]
  },
  {
   "cell_type": "markdown",
   "metadata": {},
   "source": [
    "#### Columna `date_crawled`"
   ]
  },
  {
   "cell_type": "code",
   "execution_count": 9,
   "metadata": {},
   "outputs": [
    {
     "data": {
      "text/plain": [
       "count                           354369\n",
       "mean     2016-03-21 12:57:41.165057280\n",
       "min                2016-03-05 14:06:00\n",
       "25%                2016-03-13 11:52:00\n",
       "50%                2016-03-21 17:50:00\n",
       "75%                2016-03-29 14:37:00\n",
       "max                2016-04-07 14:36:00\n",
       "Name: date_crawled, dtype: object"
      ]
     },
     "execution_count": 9,
     "metadata": {},
     "output_type": "execute_result"
    }
   ],
   "source": [
    "data['date_crawled'].describe(datetime_is_numeric=True)"
   ]
  },
  {
   "cell_type": "markdown",
   "metadata": {},
   "source": [
    "Las fechas es encuentran dentro de valores esperados."
   ]
  },
  {
   "cell_type": "markdown",
   "metadata": {},
   "source": [
    "#### Columna `price`"
   ]
  },
  {
   "cell_type": "code",
   "execution_count": 10,
   "metadata": {
    "scrolled": false
   },
   "outputs": [
    {
     "data": {
      "image/png": "[encoded data removed]",
      "text/plain": [
       "<Figure size 1440x360 with 2 Axes>"
      ]
     },
     "metadata": {
      "needs_background": "light"
     },
     "output_type": "display_data"
    },
    {
     "data": {
      "text/html": [
       "<span style=\"font-size: 24px;\">Datos ausentes: 0</span>"
      ],
      "text/plain": [
       "<IPython.core.display.HTML object>"
      ]
     },
     "metadata": {},
     "output_type": "display_data"
    }
   ],
   "source": [
    "histo_des(data['price'])"
   ]
  },
  {
   "cell_type": "markdown",
   "metadata": {},
   "source": [
    "Los precios se encuentran dentro de valores esperados."
   ]
  },
  {
   "cell_type": "markdown",
   "metadata": {},
   "source": [
    "#### Columna `vehicle_type`"
   ]
  },
  {
   "cell_type": "code",
   "execution_count": 11,
   "metadata": {},
   "outputs": [
    {
     "data": {
      "image/png": "[encoded data removed]",
      "text/plain": [
       "<Figure size 1440x360 with 2 Axes>"
      ]
     },
     "metadata": {
      "needs_background": "light"
     },
     "output_type": "display_data"
    },
    {
     "data": {
      "text/html": [
       "<span style=\"font-size: 24px;\">Datos ausentes: 37490</span>"
      ],
      "text/plain": [
       "<IPython.core.display.HTML object>"
      ]
     },
     "metadata": {},
     "output_type": "display_data"
    }
   ],
   "source": [
    "histo_des(data['vehicle_type'])"
   ]
  },
  {
   "cell_type": "markdown",
   "metadata": {},
   "source": [
    "`vehicle_type` es una **variable categorica**,hay 8 categorias diferentes y 37484 valores ausentes, los cuales seran etiquetados como \"other\" para luego, convertir la columna a tipo \"category\"."
   ]
  },
  {
   "cell_type": "code",
   "execution_count": 12,
   "metadata": {},
   "outputs": [
    {
     "data": {
      "image/png": "[encoded data removed]",
      "text/plain": [
       "<Figure size 1440x360 with 2 Axes>"
      ]
     },
     "metadata": {
      "needs_background": "light"
     },
     "output_type": "display_data"
    },
    {
     "data": {
      "text/html": [
       "<span style=\"font-size: 24px;\">Datos ausentes: 0</span>"
      ],
      "text/plain": [
       "<IPython.core.display.HTML object>"
      ]
     },
     "metadata": {},
     "output_type": "display_data"
    }
   ],
   "source": [
    "data['vehicle_type'] = data['vehicle_type'].fillna('other')\n",
    "#Transformamos a variable categorica\n",
    "data['vehicle_type'] = data['vehicle_type'].astype('category')\n",
    "#Revisamos que el cambio se haya efectuado\n",
    "histo_des(data['vehicle_type'])"
   ]
  },
  {
   "cell_type": "markdown",
   "metadata": {},
   "source": [
    "#### Columna `registration_year`"
   ]
  },
  {
   "cell_type": "code",
   "execution_count": 13,
   "metadata": {},
   "outputs": [
    {
     "data": {
      "image/png": "[encoded data removed]",
      "text/plain": [
       "<Figure size 1440x360 with 2 Axes>"
      ]
     },
     "metadata": {
      "needs_background": "light"
     },
     "output_type": "display_data"
    },
    {
     "data": {
      "text/html": [
       "<span style=\"font-size: 24px;\">Datos ausentes: 0</span>"
      ],
      "text/plain": [
       "<IPython.core.display.HTML object>"
      ]
     },
     "metadata": {},
     "output_type": "display_data"
    }
   ],
   "source": [
    "histo_des(data['registration_year'])"
   ]
  },
  {
   "cell_type": "code",
   "execution_count": 14,
   "metadata": {},
   "outputs": [
    {
     "data": {
      "text/plain": [
       "1000       37\n",
       "1001        1\n",
       "1039        1\n",
       "1111        3\n",
       "1200        1\n",
       "1234        4\n",
       "1253        1\n",
       "1255        1\n",
       "1300        2\n",
       "1400        1\n",
       "1500        5\n",
       "1600        2\n",
       "1602        1\n",
       "1688        1\n",
       "1800        5\n",
       "1910      101\n",
       "1915        1\n",
       "1919        1\n",
       "1920        1\n",
       "1923        2\n",
       "1925        1\n",
       "1927        1\n",
       "1928        2\n",
       "1929        7\n",
       "1930        3\n",
       "1931        1\n",
       "1932        3\n",
       "1933        3\n",
       "1934        3\n",
       "1935        4\n",
       "1936        3\n",
       "1937       11\n",
       "1938        8\n",
       "1940        2\n",
       "1941        2\n",
       "1942        3\n",
       "1943        4\n",
       "1944        2\n",
       "1945        4\n",
       "1946        1\n",
       "1947        2\n",
       "1948        3\n",
       "1949        1\n",
       "1950       18\n",
       "1951       12\n",
       "1952        9\n",
       "1953       14\n",
       "1954       11\n",
       "1955       15\n",
       "1956       27\n",
       "1957       13\n",
       "1958       25\n",
       "1959       32\n",
       "1960      188\n",
       "1961       41\n",
       "1962       46\n",
       "1963       57\n",
       "1964       64\n",
       "1965       82\n",
       "1966      113\n",
       "1967       99\n",
       "1968      108\n",
       "1969      118\n",
       "1970      333\n",
       "1971      167\n",
       "1972      213\n",
       "1973      173\n",
       "1974      169\n",
       "1975      143\n",
       "1976      175\n",
       "1977      173\n",
       "1978      285\n",
       "1979      283\n",
       "1980      588\n",
       "1981      263\n",
       "1982      316\n",
       "1983      430\n",
       "1984      399\n",
       "1985      756\n",
       "1986      538\n",
       "1987      667\n",
       "1988      942\n",
       "1989     1318\n",
       "1990     2806\n",
       "1991     2762\n",
       "1992     3002\n",
       "1993     3438\n",
       "1994     4841\n",
       "1995     9607\n",
       "1996    10835\n",
       "1997    14666\n",
       "1998    17899\n",
       "1999    22728\n",
       "2000    24490\n",
       "2001    20124\n",
       "2002    19092\n",
       "2003    19763\n",
       "2004    19611\n",
       "2005    22109\n",
       "2006    19900\n",
       "2007    17183\n",
       "2008    15391\n",
       "2009    14503\n",
       "2010    10764\n",
       "2011     9909\n",
       "2012     7178\n",
       "2013     4131\n",
       "2014     2537\n",
       "2015     1302\n",
       "2016     9599\n",
       "2017    10441\n",
       "2018     3959\n",
       "2019       25\n",
       "2066        1\n",
       "2200        1\n",
       "2222        2\n",
       "2290        1\n",
       "2500        4\n",
       "2800        2\n",
       "2900        1\n",
       "3000        7\n",
       "3200        1\n",
       "3500        1\n",
       "3700        1\n",
       "3800        1\n",
       "4000        3\n",
       "4100        1\n",
       "4500        2\n",
       "4800        1\n",
       "5000       17\n",
       "5300        1\n",
       "5555        2\n",
       "5600        1\n",
       "5900        1\n",
       "5911        2\n",
       "6000        5\n",
       "6500        1\n",
       "7000        4\n",
       "7100        1\n",
       "7500        1\n",
       "7800        1\n",
       "8000        2\n",
       "8200        1\n",
       "8455        1\n",
       "8500        1\n",
       "8888        1\n",
       "9000        3\n",
       "9229        1\n",
       "9450        1\n",
       "9996        1\n",
       "9999       26\n",
       "Name: registration_year, dtype: int64"
      ]
     },
     "execution_count": 14,
     "metadata": {},
     "output_type": "execute_result"
    }
   ],
   "source": [
    "#Miramos los años unicos y su cantidad de apariciones\n",
    "data['registration_year'].value_counts().sort_index()"
   ]
  },
  {
   "cell_type": "markdown",
   "metadata": {},
   "source": [
    "Vemos varios valores atipicos correspondiente a años, como por ejemplo 9999, 8500, 2066, 1234, 1800, 1910 y si bien, algunos valores pueden ser años validos, por un tema de simplicidad, procederé a borrar los datos de años inferiores a 1950 y mayores a 2019."
   ]
  },
  {
   "cell_type": "code",
   "execution_count": 15,
   "metadata": {},
   "outputs": [
    {
     "data": {
      "image/png": "[encoded data removed]",
      "text/plain": [
       "<Figure size 1440x360 with 2 Axes>"
      ]
     },
     "metadata": {
      "needs_background": "light"
     },
     "output_type": "display_data"
    },
    {
     "data": {
      "text/html": [
       "<span style=\"font-size: 24px;\">Datos ausentes: 0</span>"
      ],
      "text/plain": [
       "<IPython.core.display.HTML object>"
      ]
     },
     "metadata": {},
     "output_type": "display_data"
    }
   ],
   "source": [
    "data = data.drop(data[data['registration_year'] > 2019].index)\n",
    "data = data.drop(data[data['registration_year'] < 1950].index)\n",
    "#Verificamos que los cambios se hayan aplicado correctamente\n",
    "histo_des(data['registration_year'])"
   ]
  },
  {
   "cell_type": "markdown",
   "metadata": {},
   "source": [
    "#### Columna `gearbox`"
   ]
  },
  {
   "cell_type": "code",
   "execution_count": 16,
   "metadata": {},
   "outputs": [
    {
     "data": {
      "image/png": "[encoded data removed]",
      "text/plain": [
       "<Figure size 1440x360 with 2 Axes>"
      ]
     },
     "metadata": {
      "needs_background": "light"
     },
     "output_type": "display_data"
    },
    {
     "data": {
      "text/html": [
       "<span style=\"font-size: 24px;\">Datos ausentes: 19598</span>"
      ],
      "text/plain": [
       "<IPython.core.display.HTML object>"
      ]
     },
     "metadata": {},
     "output_type": "display_data"
    }
   ],
   "source": [
    "histo_des(data['gearbox'])"
   ]
  },
  {
   "cell_type": "markdown",
   "metadata": {},
   "source": [
    "Gearbox es una **variable categorica**, hay 2 categorias diferentes y 19595 valores ausentes, los cuales seran etiquetados como \"unknown\" y luego transformaré la columna a tipo \"category\"."
   ]
  },
  {
   "cell_type": "code",
   "execution_count": 17,
   "metadata": {},
   "outputs": [
    {
     "data": {
      "image/png": "[encoded data removed]",
      "text/plain": [
       "<Figure size 1440x360 with 2 Axes>"
      ]
     },
     "metadata": {
      "needs_background": "light"
     },
     "output_type": "display_data"
    },
    {
     "data": {
      "text/html": [
       "<span style=\"font-size: 24px;\">Datos ausentes: 0</span>"
      ],
      "text/plain": [
       "<IPython.core.display.HTML object>"
      ]
     },
     "metadata": {},
     "output_type": "display_data"
    }
   ],
   "source": [
    "data['gearbox'] = data['gearbox'].fillna('unknown')\n",
    "#Transformamos a variable categorica\n",
    "data['gearbox'] = data['gearbox'].astype('category')\n",
    "#Revisamos que el cambio se haya efectuado\n",
    "histo_des(data['gearbox'])"
   ]
  },
  {
   "cell_type": "markdown",
   "metadata": {},
   "source": [
    "#### Columna `power`"
   ]
  },
  {
   "cell_type": "code",
   "execution_count": 18,
   "metadata": {},
   "outputs": [
    {
     "data": {
      "image/png": "[encoded data removed]",
      "text/plain": [
       "<Figure size 1440x360 with 2 Axes>"
      ]
     },
     "metadata": {
      "needs_background": "light"
     },
     "output_type": "display_data"
    },
    {
     "data": {
      "text/html": [
       "<span style=\"font-size: 24px;\">Datos ausentes: 0</span>"
      ],
      "text/plain": [
       "<IPython.core.display.HTML object>"
      ]
     },
     "metadata": {},
     "output_type": "display_data"
    }
   ],
   "source": [
    "histo_des(data['power'])"
   ]
  },
  {
   "cell_type": "code",
   "execution_count": 19,
   "metadata": {},
   "outputs": [
    {
     "data": {
      "image/png": "[encoded data removed]",
      "text/plain": [
       "<Figure size 1440x360 with 2 Axes>"
      ]
     },
     "metadata": {
      "needs_background": "light"
     },
     "output_type": "display_data"
    },
    {
     "data": {
      "text/html": [
       "<span style=\"font-size: 24px;\">Datos ausentes: 0</span>"
      ],
      "text/plain": [
       "<IPython.core.display.HTML object>"
      ]
     },
     "metadata": {},
     "output_type": "display_data"
    }
   ],
   "source": [
    "#Miramos mas de cerca para valores menores a 200\n",
    "histo_des(data[data['power'] < 200]['power'])"
   ]
  },
  {
   "cell_type": "markdown",
   "metadata": {},
   "source": [
    "Haciendo un sondeo rapido en internet, los CV normales en los autos son:\n",
    "- Carros de uso urbano: Entre 80 y 100 HP.\n",
    "- SUV compactos: 120 HP aproximadamente.\n",
    "- SUV y camionetas: entre 170 y 200 HP.\n",
    "\n",
    "Por lo que valores por sobre este rango muy probablemente corresponda a un error.  \n",
    "Estudiaremos los valores atipicos usando el Rango intercuartílico (IQR)"
   ]
  },
  {
   "cell_type": "code",
   "execution_count": 20,
   "metadata": {},
   "outputs": [
    {
     "data": {
      "text/html": [
       "<span style=\"font-size: 20px;\">Limite superior de datos normales: 216.0</span>"
      ],
      "text/plain": [
       "<IPython.core.display.HTML object>"
      ]
     },
     "metadata": {},
     "output_type": "display_data"
    }
   ],
   "source": [
    "Q1 = data['power'].quantile(0.25)\n",
    "Q2 = data['power'].quantile(0.5)\n",
    "Q3 = data['power'].quantile(0.75)\n",
    "IQR=(Q3-Q1)\n",
    "\n",
    "print_mejorado(f\"Limite superior de datos normales: {Q2+1.5*IQR}\",20)"
   ]
  },
  {
   "cell_type": "markdown",
   "metadata": {},
   "source": [
    "En base a este críterio, vemos que efectivamente valores sobre 216 son valores atipicos. Por otro lado, tambien observamos valores iguales a 0, lo cual tambien es un valor incorrecto. Para simplificar el analisis, procederé a eliminar las filas con valores de CV por sobre los 200 o iguales a 0."
   ]
  },
  {
   "cell_type": "code",
   "execution_count": 21,
   "metadata": {},
   "outputs": [
    {
     "data": {
      "image/png": "[encoded data removed]",
      "text/plain": [
       "<Figure size 1440x360 with 2 Axes>"
      ]
     },
     "metadata": {
      "needs_background": "light"
     },
     "output_type": "display_data"
    },
    {
     "data": {
      "text/html": [
       "<span style=\"font-size: 24px;\">Datos ausentes: 0</span>"
      ],
      "text/plain": [
       "<IPython.core.display.HTML object>"
      ]
     },
     "metadata": {},
     "output_type": "display_data"
    }
   ],
   "source": [
    "data = data.drop(data[data['power'] > 200].index)\n",
    "data = data.drop(data[data['power'] == 0].index)\n",
    "histo_des(data['power'])"
   ]
  },
  {
   "cell_type": "markdown",
   "metadata": {},
   "source": [
    "#### Columna `model`"
   ]
  },
  {
   "cell_type": "markdown",
   "metadata": {},
   "source": [
    "Al ser una **variable categorica** no númerica, revisamos los valores unicos."
   ]
  },
  {
   "cell_type": "code",
   "execution_count": 22,
   "metadata": {},
   "outputs": [
    {
     "data": {
      "text/plain": [
       "array([nan, 'grand', 'golf', 'fabia', '3er', '2_reihe', 'other', 'c_max',\n",
       "       '3_reihe', 'passat', 'navara', 'polo', 'twingo', 'a_klasse',\n",
       "       'scirocco', 'meriva', 'arosa', '5er', 'c4', 'civic', 'transporter',\n",
       "       'punto', 'e_klasse', 'clio', 'kadett', 'one', 'fortwo', '1er',\n",
       "       'b_klasse', 'jetta', 'astra', 'fiesta', 'c_klasse', 'micra',\n",
       "       'vito', 'sprinter', '156', 'escort', 'forester', 'xc_reihe',\n",
       "       'scenic', 'ka', 'a1', 'focus', 'a4', 'a6', 'jazz', 'omega', 'slk',\n",
       "       'combo', 'corsa', '80', '147', 'z_reihe', 'sportage', 'sorento',\n",
       "       'ibiza', 'eos', 'touran', 'getz', 'insignia', 'almera', 'megane',\n",
       "       'a3', 'lupo', 'r19', 'caddy', 'mondeo', 'cordoba', 'colt',\n",
       "       'impreza', 'vectra', 'berlingo', '7er', 'tiguan', 'i_reihe', 'tt',\n",
       "       '6_reihe', 'panda', 'up', 'ceed', 'kangoo', '5_reihe', 'yeti',\n",
       "       'octavia', 'zafira', 'mii', 'rx_reihe', 'modus', 'fox', 'matiz',\n",
       "       'beetle', 'rio', 'logan', 'spider', 'cuore', 's_max', 'a2',\n",
       "       'galaxy', 'c3', 'viano', '1_reihe', 'sharan', 'avensis',\n",
       "       'roomster', 'kaefer', 'santa', 'cooper', '4_reihe', 'laguna',\n",
       "       'ptcruiser', 'clk', 'primera', 'espace', 's_klasse', 'exeo', '159',\n",
       "       'transit', 'juke', 'v40', 'carisma', 'accord', 'corolla', 'lanos',\n",
       "       'x_reihe', 'verso', 'swift', 'rav', 'qashqai', 'picanto', 'superb',\n",
       "       'stilo', 'alhambra', 'mx_reihe', 'roadster', 'ypsilon', 'galant',\n",
       "       'justy', 'leon', '90', 'sirion', 'signum', 'agila', 'duster',\n",
       "       'v50', 'a8', '500', 'c_reihe', 'v_klasse', 'yaris', 'c5', 'aygo',\n",
       "       'seicento', 'carnival', 'fusion', 'bora', 'forfour', 'a5', 'tigra',\n",
       "       '100', 'cr_reihe', 'spark', 'kuga', 'm_klasse', 'x_type', 'ducato',\n",
       "       'x_trail', 'toledo', 'altea', 'voyager', 'calibra', 'v70', 'bravo',\n",
       "       'tucson', 'c1', 'citigo', 'jimny', 'wrangler', 'lybra', 'lancer',\n",
       "       'captiva', 'sl', 'c2', 'discovery', 'freelander', 'sandero',\n",
       "       'note', 'antara', '900', 'clubman', 'defender', '601', 'cx_reihe',\n",
       "       'legacy', 'pajero', 'auris', 'cc', 'niva', 's60', 'nubira',\n",
       "       'vivaro', 'g_klasse', 'cherokee', 'lodgy', 'range_rover', '850',\n",
       "       'q3', 'mustang', 'serie_2', 'charade', 'croma', 'touareg', 'doblo',\n",
       "       'musa', '6er', 'cl', '9000', 'kalos', 'v60', 'aveo', '200', '145',\n",
       "       'outlander', 'b_max', 'range_rover_sport', 'move', 'glk',\n",
       "       'm_reihe', 'rangerover', 'q5', 'materia', 'delta', 'terios',\n",
       "       '300c', 's_type', 'kalina', 'elefantino', 'i3', 'samara', 'amarok',\n",
       "       'kappa', '911', 'serie_3', 'crossfire', 'boxster', 'phaeton'],\n",
       "      dtype=object)"
      ]
     },
     "execution_count": 22,
     "metadata": {},
     "output_type": "execute_result"
    }
   ],
   "source": [
    "#Revisamos valores unicos\n",
    "data['model'].unique()"
   ]
  },
  {
   "cell_type": "markdown",
   "metadata": {},
   "source": [
    "Revisamos si existen valores nulos, y de haberlos, seran reemplazados con la etiqueta \"other\" y finalmente transformamos a una varirable categorica."
   ]
  },
  {
   "cell_type": "code",
   "execution_count": 23,
   "metadata": {},
   "outputs": [
    {
     "data": {
      "text/html": [
       "<span style=\"font-size: 20px;\">Datos Ausentes: 12159</span>"
      ],
      "text/plain": [
       "<IPython.core.display.HTML object>"
      ]
     },
     "metadata": {},
     "output_type": "display_data"
    },
    {
     "data": {
      "text/html": [
       "<span style=\"font-size: 20px;\">Datos Ausentes despues: 0</span>"
      ],
      "text/plain": [
       "<IPython.core.display.HTML object>"
      ]
     },
     "metadata": {},
     "output_type": "display_data"
    }
   ],
   "source": [
    "#Evaluamos si hay datos nulos\n",
    "print_mejorado(f\"Datos Ausentes: {data['model'].isnull().sum()}\",20)\n",
    "#Reemplazamos por other\n",
    "data['model'] = data['model'].fillna('other')\n",
    "#Verificamos que ya no hay datos ausentes\n",
    "print_mejorado(f\"Datos Ausentes despues: {data['model'].isnull().sum()}\",20)\n",
    "#Transformamos a variable categorica\n",
    "data['model'] = data['model'].astype('category')"
   ]
  },
  {
   "cell_type": "markdown",
   "metadata": {},
   "source": [
    "#### Columna `mileage`"
   ]
  },
  {
   "cell_type": "code",
   "execution_count": 24,
   "metadata": {},
   "outputs": [
    {
     "data": {
      "image/png": "[encoded data removed]",
      "text/plain": [
       "<Figure size 1440x360 with 2 Axes>"
      ]
     },
     "metadata": {
      "needs_background": "light"
     },
     "output_type": "display_data"
    },
    {
     "data": {
      "text/html": [
       "<span style=\"font-size: 24px;\">Datos ausentes: 0</span>"
      ],
      "text/plain": [
       "<IPython.core.display.HTML object>"
      ]
     },
     "metadata": {},
     "output_type": "display_data"
    }
   ],
   "source": [
    "histo_des(data['mileage'])"
   ]
  },
  {
   "cell_type": "markdown",
   "metadata": {},
   "source": [
    "Los valores se encuentran dentro de los esperado."
   ]
  },
  {
   "cell_type": "markdown",
   "metadata": {},
   "source": [
    "#### Columna `registration_month`"
   ]
  },
  {
   "cell_type": "code",
   "execution_count": 25,
   "metadata": {},
   "outputs": [
    {
     "data": {
      "image/png": "[encoded data removed]",
      "text/plain": [
       "<Figure size 1440x360 with 2 Axes>"
      ]
     },
     "metadata": {
      "needs_background": "light"
     },
     "output_type": "display_data"
    },
    {
     "data": {
      "text/html": [
       "<span style=\"font-size: 24px;\">Datos ausentes: 0</span>"
      ],
      "text/plain": [
       "<IPython.core.display.HTML object>"
      ]
     },
     "metadata": {},
     "output_type": "display_data"
    }
   ],
   "source": [
    "histo_des(data['registration_month'])"
   ]
  },
  {
   "cell_type": "markdown",
   "metadata": {},
   "source": [
    "Los valores se encuentran dentro de los esperado (0-12)."
   ]
  },
  {
   "cell_type": "markdown",
   "metadata": {},
   "source": [
    "#### Columna `fuel_type`"
   ]
  },
  {
   "cell_type": "markdown",
   "metadata": {},
   "source": [
    "`fuel_type` es una **variable categorica**, hay 7 categorias diferentes y 20001 valores ausentes, los cuales seran etiquetados como \"other\" y luego transformaré la columna a tipo \"category\"."
   ]
  },
  {
   "cell_type": "code",
   "execution_count": 26,
   "metadata": {},
   "outputs": [
    {
     "data": {
      "image/png": "[encoded data removed]",
      "text/plain": [
       "<Figure size 1440x360 with 2 Axes>"
      ]
     },
     "metadata": {
      "needs_background": "light"
     },
     "output_type": "display_data"
    },
    {
     "data": {
      "text/html": [
       "<span style=\"font-size: 24px;\">Datos ausentes: 20004</span>"
      ],
      "text/plain": [
       "<IPython.core.display.HTML object>"
      ]
     },
     "metadata": {},
     "output_type": "display_data"
    }
   ],
   "source": [
    "histo_des(data['fuel_type'])"
   ]
  },
  {
   "cell_type": "code",
   "execution_count": 27,
   "metadata": {},
   "outputs": [
    {
     "data": {
      "image/png": "[encoded data removed]",
      "text/plain": [
       "<Figure size 1440x360 with 2 Axes>"
      ]
     },
     "metadata": {
      "needs_background": "light"
     },
     "output_type": "display_data"
    },
    {
     "data": {
      "text/html": [
       "<span style=\"font-size: 24px;\">Datos ausentes: 0</span>"
      ],
      "text/plain": [
       "<IPython.core.display.HTML object>"
      ]
     },
     "metadata": {},
     "output_type": "display_data"
    }
   ],
   "source": [
    "data['fuel_type'] = data['fuel_type'].fillna('other')\n",
    "#Transformamos a variable categorica\n",
    "data['fuel_type'] = data['fuel_type'].astype('category')\n",
    "#Revisamos que el cambio se haya efectuado\n",
    "histo_des(data['fuel_type'])"
   ]
  },
  {
   "cell_type": "markdown",
   "metadata": {},
   "source": [
    "#### Columna `brand`"
   ]
  },
  {
   "cell_type": "markdown",
   "metadata": {},
   "source": [
    "Al ser una **variable categorica** no numerica, revisamos los valores únicos y luego la transformamos a tipo \"category\"."
   ]
  },
  {
   "cell_type": "code",
   "execution_count": 28,
   "metadata": {},
   "outputs": [
    {
     "data": {
      "text/plain": [
       "array(['audi', 'jeep', 'volkswagen', 'skoda', 'bmw', 'peugeot', 'ford',\n",
       "       'mazda', 'nissan', 'renault', 'mercedes_benz', 'opel', 'seat',\n",
       "       'citroen', 'honda', 'fiat', 'mini', 'smart', 'hyundai',\n",
       "       'alfa_romeo', 'subaru', 'volvo', 'mitsubishi', 'kia', 'suzuki',\n",
       "       'lancia', 'toyota', 'chevrolet', 'dacia', 'sonstige_autos',\n",
       "       'daihatsu', 'chrysler', 'daewoo', 'rover', 'saab', 'trabant',\n",
       "       'porsche', 'jaguar', 'land_rover', 'lada'], dtype=object)"
      ]
     },
     "execution_count": 28,
     "metadata": {},
     "output_type": "execute_result"
    }
   ],
   "source": [
    "data['brand'].unique()"
   ]
  },
  {
   "cell_type": "markdown",
   "metadata": {},
   "source": [
    "Revisamos si existen valores nulos, y de haberlos, seran reemplazados con la etiqueta \"other\"."
   ]
  },
  {
   "cell_type": "code",
   "execution_count": 29,
   "metadata": {},
   "outputs": [
    {
     "data": {
      "text/html": [
       "<span style=\"font-size: 20px;\">Datos Ausentes: 0</span>"
      ],
      "text/plain": [
       "<IPython.core.display.HTML object>"
      ]
     },
     "metadata": {},
     "output_type": "display_data"
    },
    {
     "data": {
      "text/html": [
       "<span style=\"font-size: 20px;\">Datos Ausentes despues: 0</span>"
      ],
      "text/plain": [
       "<IPython.core.display.HTML object>"
      ]
     },
     "metadata": {},
     "output_type": "display_data"
    }
   ],
   "source": [
    "#Evaluamos si hay datos nulos\n",
    "print_mejorado(f\"Datos Ausentes: {data['brand'].isnull().sum()}\",20)\n",
    "#Reemplazamos por other\n",
    "data['brand'] = data['brand'].fillna('other')\n",
    "#Verificamos que ya no hay datos ausentes\n",
    "print_mejorado(f\"Datos Ausentes despues: {data['brand'].isnull().sum()}\",20)\n",
    "data['brand'] = data['brand'].astype('category')"
   ]
  },
  {
   "cell_type": "markdown",
   "metadata": {},
   "source": [
    "#### Columna `not_repaired`"
   ]
  },
  {
   "cell_type": "markdown",
   "metadata": {},
   "source": [
    "`not_repaired` es una **variable categorica**, hay 2 categorias diferentes y 46867 valores ausentes, los cuales seran etiquetados como \"unknown\" y luego transformaré la columna a tipo \"category\"."
   ]
  },
  {
   "cell_type": "code",
   "execution_count": 30,
   "metadata": {},
   "outputs": [
    {
     "data": {
      "image/png": "[encoded data removed]",
      "text/plain": [
       "<Figure size 1440x360 with 2 Axes>"
      ]
     },
     "metadata": {
      "needs_background": "light"
     },
     "output_type": "display_data"
    },
    {
     "data": {
      "text/html": [
       "<span style=\"font-size: 24px;\">Datos ausentes: 46873</span>"
      ],
      "text/plain": [
       "<IPython.core.display.HTML object>"
      ]
     },
     "metadata": {},
     "output_type": "display_data"
    }
   ],
   "source": [
    "histo_des(data['not_repaired'])"
   ]
  },
  {
   "cell_type": "code",
   "execution_count": 31,
   "metadata": {},
   "outputs": [
    {
     "data": {
      "image/png": "[encoded data removed]",
      "text/plain": [
       "<Figure size 1440x360 with 2 Axes>"
      ]
     },
     "metadata": {
      "needs_background": "light"
     },
     "output_type": "display_data"
    },
    {
     "data": {
      "text/html": [
       "<span style=\"font-size: 24px;\">Datos ausentes: 0</span>"
      ],
      "text/plain": [
       "<IPython.core.display.HTML object>"
      ]
     },
     "metadata": {},
     "output_type": "display_data"
    }
   ],
   "source": [
    "data['not_repaired'] = data['not_repaired'].fillna('unknown')\n",
    "#Transformamos a variable categorica\n",
    "data['not_repaired'] = data['not_repaired'].astype('category')\n",
    "#Revisamos que el cambio se haya efectuado\n",
    "histo_des(data['not_repaired'])"
   ]
  },
  {
   "cell_type": "markdown",
   "metadata": {},
   "source": [
    "#### Columna `date_created`"
   ]
  },
  {
   "cell_type": "code",
   "execution_count": 32,
   "metadata": {},
   "outputs": [
    {
     "data": {
      "text/plain": [
       "count                           291175\n",
       "mean     2016-03-20 19:31:52.552931840\n",
       "min                2015-03-20 00:00:00\n",
       "25%                2016-03-13 00:00:00\n",
       "50%                2016-03-21 00:00:00\n",
       "75%                2016-03-29 00:00:00\n",
       "max                2016-04-07 00:00:00\n",
       "Name: date_created, dtype: object"
      ]
     },
     "execution_count": 32,
     "metadata": {},
     "output_type": "execute_result"
    }
   ],
   "source": [
    "data['date_created'].describe(datetime_is_numeric=True)"
   ]
  },
  {
   "cell_type": "markdown",
   "metadata": {},
   "source": [
    "Las fechas se encuentran dentro de valores esperados."
   ]
  },
  {
   "cell_type": "markdown",
   "metadata": {},
   "source": [
    "#### Columna `number_of_pictures`"
   ]
  },
  {
   "cell_type": "markdown",
   "metadata": {},
   "source": [
    "`number_of_pictures` es una **variable categorica**, hay solo una categoria y 0 valores ausentes. La transformaré a variable categorica."
   ]
  },
  {
   "cell_type": "code",
   "execution_count": 33,
   "metadata": {},
   "outputs": [
    {
     "data": {
      "image/png": "[encoded data removed]",
      "text/plain": [
       "<Figure size 1440x360 with 2 Axes>"
      ]
     },
     "metadata": {
      "needs_background": "light"
     },
     "output_type": "display_data"
    },
    {
     "data": {
      "text/html": [
       "<span style=\"font-size: 24px;\">Datos ausentes: 0</span>"
      ],
      "text/plain": [
       "<IPython.core.display.HTML object>"
      ]
     },
     "metadata": {},
     "output_type": "display_data"
    }
   ],
   "source": [
    "data['number_of_pictures'] = data['number_of_pictures'].astype('category')\n",
    "histo_des(data['number_of_pictures'])"
   ]
  },
  {
   "cell_type": "markdown",
   "metadata": {},
   "source": [
    "#### Columna `postal_code`"
   ]
  },
  {
   "cell_type": "code",
   "execution_count": 34,
   "metadata": {},
   "outputs": [
    {
     "data": {
      "image/png": "[encoded data removed]",
      "text/plain": [
       "<Figure size 1440x360 with 2 Axes>"
      ]
     },
     "metadata": {
      "needs_background": "light"
     },
     "output_type": "display_data"
    },
    {
     "data": {
      "text/html": [
       "<span style=\"font-size: 24px;\">Datos ausentes: 0</span>"
      ],
      "text/plain": [
       "<IPython.core.display.HTML object>"
      ]
     },
     "metadata": {},
     "output_type": "display_data"
    }
   ],
   "source": [
    "histo_des(data['postal_code'])"
   ]
  },
  {
   "cell_type": "markdown",
   "metadata": {},
   "source": [
    "La variable muestra valores esperados."
   ]
  },
  {
   "cell_type": "markdown",
   "metadata": {},
   "source": [
    "#### Columna `last_seen`"
   ]
  },
  {
   "cell_type": "code",
   "execution_count": 35,
   "metadata": {},
   "outputs": [
    {
     "data": {
      "text/plain": [
       "count                        291175\n",
       "mean     2016-03-30 01:44:03.682528\n",
       "min             2016-03-05 14:15:00\n",
       "25%             2016-03-23 08:18:00\n",
       "50%             2016-04-03 18:16:00\n",
       "75%             2016-04-06 10:16:00\n",
       "max             2016-04-07 14:58:00\n",
       "Name: last_seen, dtype: object"
      ]
     },
     "execution_count": 35,
     "metadata": {},
     "output_type": "execute_result"
    }
   ],
   "source": [
    "data['last_seen'].describe(datetime_is_numeric=True)"
   ]
  },
  {
   "cell_type": "markdown",
   "metadata": {},
   "source": [
    "La variable muestra fechas dentro de lo esperado."
   ]
  },
  {
   "cell_type": "markdown",
   "metadata": {},
   "source": [
    "#### Eliminamos duplicados"
   ]
  },
  {
   "cell_type": "code",
   "execution_count": 36,
   "metadata": {},
   "outputs": [
    {
     "data": {
      "text/html": [
       "<span style=\"font-size: 20px;\">Duplicados: 243</span>"
      ],
      "text/plain": [
       "<IPython.core.display.HTML object>"
      ]
     },
     "metadata": {},
     "output_type": "display_data"
    },
    {
     "data": {
      "text/html": [
       "<span style=\"font-size: 20px;\">Cantidad de duplicados luego de eliminarlos: 0</span>"
      ],
      "text/plain": [
       "<IPython.core.display.HTML object>"
      ]
     },
     "metadata": {},
     "output_type": "display_data"
    }
   ],
   "source": [
    "#Evaluamos duplicados\n",
    "print_mejorado(f\"Duplicados: {data.duplicated().sum()}\",20)\n",
    "#Eliminando duplicados (si los hay)\n",
    "data=data.drop_duplicates().reset_index(drop = True)\n",
    "#Evaluamos duplicados\n",
    "print_mejorado(f\"Cantidad de duplicados luego de eliminarlos: {data.duplicated().sum()}\",20)"
   ]
  },
  {
   "cell_type": "markdown",
   "metadata": {},
   "source": [
    "### Preparacion final de la data antes del entrenamiento"
   ]
  },
  {
   "cell_type": "markdown",
   "metadata": {},
   "source": [
    "Como nuestros modelos deben ser capaces de predecir el precio de un automovil en base a sus caracteristicas, vemos que hay algunas columnas que no aportan información relevante para la predicción, como es el caso de las fechas, mes de registro, código postal del usuario o número de fotografias. Por lo que procederé a eliminar estas columnas."
   ]
  },
  {
   "cell_type": "code",
   "execution_count": 37,
   "metadata": {},
   "outputs": [
    {
     "name": "stdout",
     "output_type": "stream",
     "text": [
      "<class 'pandas.core.frame.DataFrame'>\n",
      "RangeIndex: 290932 entries, 0 to 290931\n",
      "Data columns (total 10 columns):\n",
      " #   Column             Non-Null Count   Dtype   \n",
      "---  ------             --------------   -----   \n",
      " 0   price              290932 non-null  int64   \n",
      " 1   vehicle_type       290932 non-null  category\n",
      " 2   registration_year  290932 non-null  int64   \n",
      " 3   gearbox            290932 non-null  category\n",
      " 4   power              290932 non-null  int64   \n",
      " 5   model              290932 non-null  category\n",
      " 6   mileage            290932 non-null  int64   \n",
      " 7   fuel_type          290932 non-null  category\n",
      " 8   brand              290932 non-null  category\n",
      " 9   not_repaired       290932 non-null  category\n",
      "dtypes: category(6), int64(4)\n",
      "memory usage: 10.8 MB\n"
     ]
    }
   ],
   "source": [
    "data=data.drop(['date_crawled','registration_month','date_created','number_of_pictures','postal_code','last_seen'], axis=1)\n",
    "data.info()"
   ]
  },
  {
   "cell_type": "markdown",
   "metadata": {},
   "source": [
    "Finalmente, tenemos nuestra data lista para entrenar con 290932 filas de información.  \n",
    "Nuestra variable objetivo sera `price`.  \n",
    "Respecto a las caracteristicas, vemos que tenemos 6 variables categoricas, las cuales son: `vehicle_type`,`gearbox`,`model`,`fuel_type`,`brand`y`not_repaired`."
   ]
  },
  {
   "cell_type": "markdown",
   "metadata": {},
   "source": [
    "## Entrenamiento de modelos"
   ]
  },
  {
   "cell_type": "markdown",
   "metadata": {},
   "source": [
    "### Entrenamiento de modelos clásicos de regresión"
   ]
  },
  {
   "cell_type": "markdown",
   "metadata": {},
   "source": [
    "En esta primera parte, entrenaré tres modelos clásicos (Arbol de decisión, Bosques Aleatorios y Regresión Lineal) y los evaluaré usando la metrica de la Raiz del error cuadrático medio (RMSE). Para cada  modelo, se medirá el tiempo de entrenamiento."
   ]
  },
  {
   "cell_type": "code",
   "execution_count": 38,
   "metadata": {},
   "outputs": [],
   "source": [
    "model_tree = DecisionTreeRegressor()\n",
    "model_forest = RandomForestRegressor()\n",
    "model_linear = LinearRegression()"
   ]
  },
  {
   "cell_type": "markdown",
   "metadata": {},
   "source": [
    "Para esto, convertiré la data de entrenamiento usando la codificación One-Shot para un mejor manejo de nuestras variables categoricas."
   ]
  },
  {
   "cell_type": "code",
   "execution_count": 39,
   "metadata": {},
   "outputs": [
    {
     "data": {
      "text/html": [
       "<div>\n",
       "<style scoped>\n",
       "    .dataframe tbody tr th:only-of-type {\n",
       "        vertical-align: middle;\n",
       "    }\n",
       "\n",
       "    .dataframe tbody tr th {\n",
       "        vertical-align: top;\n",
       "    }\n",
       "\n",
       "    .dataframe thead th {\n",
       "        text-align: right;\n",
       "    }\n",
       "</style>\n",
       "<table border=\"1\" class=\"dataframe\">\n",
       "  <thead>\n",
       "    <tr style=\"text-align: right;\">\n",
       "      <th></th>\n",
       "      <th>price</th>\n",
       "      <th>registration_year</th>\n",
       "      <th>power</th>\n",
       "      <th>mileage</th>\n",
       "      <th>vehicle_type_convertible</th>\n",
       "      <th>vehicle_type_coupe</th>\n",
       "      <th>vehicle_type_other</th>\n",
       "      <th>vehicle_type_sedan</th>\n",
       "      <th>vehicle_type_small</th>\n",
       "      <th>vehicle_type_suv</th>\n",
       "      <th>vehicle_type_wagon</th>\n",
       "      <th>vehicle_type_nan</th>\n",
       "      <th>gearbox_manual</th>\n",
       "      <th>gearbox_unknown</th>\n",
       "      <th>gearbox_nan</th>\n",
       "      <th>model_145</th>\n",
       "      <th>model_147</th>\n",
       "      <th>model_156</th>\n",
       "      <th>model_159</th>\n",
       "      <th>model_1_reihe</th>\n",
       "      <th>model_1er</th>\n",
       "      <th>model_200</th>\n",
       "      <th>model_2_reihe</th>\n",
       "      <th>model_300c</th>\n",
       "      <th>model_3_reihe</th>\n",
       "      <th>model_3er</th>\n",
       "      <th>model_4_reihe</th>\n",
       "      <th>model_500</th>\n",
       "      <th>model_5_reihe</th>\n",
       "      <th>model_5er</th>\n",
       "      <th>model_601</th>\n",
       "      <th>model_6_reihe</th>\n",
       "      <th>model_6er</th>\n",
       "      <th>model_7er</th>\n",
       "      <th>model_80</th>\n",
       "      <th>model_850</th>\n",
       "      <th>model_90</th>\n",
       "      <th>model_900</th>\n",
       "      <th>model_9000</th>\n",
       "      <th>model_911</th>\n",
       "      <th>model_a1</th>\n",
       "      <th>model_a2</th>\n",
       "      <th>model_a3</th>\n",
       "      <th>model_a4</th>\n",
       "      <th>model_a5</th>\n",
       "      <th>model_a6</th>\n",
       "      <th>model_a8</th>\n",
       "      <th>model_a_klasse</th>\n",
       "      <th>model_accord</th>\n",
       "      <th>model_agila</th>\n",
       "      <th>model_alhambra</th>\n",
       "      <th>model_almera</th>\n",
       "      <th>model_altea</th>\n",
       "      <th>model_amarok</th>\n",
       "      <th>model_antara</th>\n",
       "      <th>model_arosa</th>\n",
       "      <th>model_astra</th>\n",
       "      <th>model_auris</th>\n",
       "      <th>model_avensis</th>\n",
       "      <th>model_aveo</th>\n",
       "      <th>model_aygo</th>\n",
       "      <th>model_b_klasse</th>\n",
       "      <th>model_b_max</th>\n",
       "      <th>model_beetle</th>\n",
       "      <th>model_berlingo</th>\n",
       "      <th>model_bora</th>\n",
       "      <th>model_boxster</th>\n",
       "      <th>model_bravo</th>\n",
       "      <th>model_c1</th>\n",
       "      <th>model_c2</th>\n",
       "      <th>model_c3</th>\n",
       "      <th>model_c4</th>\n",
       "      <th>model_c5</th>\n",
       "      <th>model_c_klasse</th>\n",
       "      <th>model_c_max</th>\n",
       "      <th>model_c_reihe</th>\n",
       "      <th>model_caddy</th>\n",
       "      <th>model_calibra</th>\n",
       "      <th>model_captiva</th>\n",
       "      <th>model_carisma</th>\n",
       "      <th>model_carnival</th>\n",
       "      <th>model_cc</th>\n",
       "      <th>model_ceed</th>\n",
       "      <th>model_charade</th>\n",
       "      <th>model_cherokee</th>\n",
       "      <th>model_citigo</th>\n",
       "      <th>model_civic</th>\n",
       "      <th>model_cl</th>\n",
       "      <th>model_clio</th>\n",
       "      <th>model_clk</th>\n",
       "      <th>model_clubman</th>\n",
       "      <th>model_colt</th>\n",
       "      <th>model_combo</th>\n",
       "      <th>model_cooper</th>\n",
       "      <th>model_cordoba</th>\n",
       "      <th>model_corolla</th>\n",
       "      <th>model_corsa</th>\n",
       "      <th>model_cr_reihe</th>\n",
       "      <th>model_croma</th>\n",
       "      <th>model_crossfire</th>\n",
       "      <th>model_cuore</th>\n",
       "      <th>model_cx_reihe</th>\n",
       "      <th>model_defender</th>\n",
       "      <th>model_delta</th>\n",
       "      <th>model_discovery</th>\n",
       "      <th>model_doblo</th>\n",
       "      <th>model_ducato</th>\n",
       "      <th>model_duster</th>\n",
       "      <th>model_e_klasse</th>\n",
       "      <th>model_elefantino</th>\n",
       "      <th>model_eos</th>\n",
       "      <th>model_escort</th>\n",
       "      <th>model_espace</th>\n",
       "      <th>model_exeo</th>\n",
       "      <th>model_fabia</th>\n",
       "      <th>model_fiesta</th>\n",
       "      <th>model_focus</th>\n",
       "      <th>model_forester</th>\n",
       "      <th>model_forfour</th>\n",
       "      <th>model_fortwo</th>\n",
       "      <th>model_fox</th>\n",
       "      <th>model_freelander</th>\n",
       "      <th>model_fusion</th>\n",
       "      <th>model_g_klasse</th>\n",
       "      <th>model_galant</th>\n",
       "      <th>model_galaxy</th>\n",
       "      <th>model_getz</th>\n",
       "      <th>model_glk</th>\n",
       "      <th>model_golf</th>\n",
       "      <th>model_grand</th>\n",
       "      <th>model_i3</th>\n",
       "      <th>model_i_reihe</th>\n",
       "      <th>model_ibiza</th>\n",
       "      <th>model_impreza</th>\n",
       "      <th>model_insignia</th>\n",
       "      <th>model_jazz</th>\n",
       "      <th>model_jetta</th>\n",
       "      <th>model_jimny</th>\n",
       "      <th>model_juke</th>\n",
       "      <th>model_justy</th>\n",
       "      <th>model_ka</th>\n",
       "      <th>model_kadett</th>\n",
       "      <th>model_kaefer</th>\n",
       "      <th>model_kalina</th>\n",
       "      <th>model_kalos</th>\n",
       "      <th>model_kangoo</th>\n",
       "      <th>model_kappa</th>\n",
       "      <th>model_kuga</th>\n",
       "      <th>model_laguna</th>\n",
       "      <th>model_lancer</th>\n",
       "      <th>model_lanos</th>\n",
       "      <th>model_legacy</th>\n",
       "      <th>model_leon</th>\n",
       "      <th>model_lodgy</th>\n",
       "      <th>model_logan</th>\n",
       "      <th>model_lupo</th>\n",
       "      <th>model_lybra</th>\n",
       "      <th>model_m_klasse</th>\n",
       "      <th>model_m_reihe</th>\n",
       "      <th>model_materia</th>\n",
       "      <th>model_matiz</th>\n",
       "      <th>model_megane</th>\n",
       "      <th>model_meriva</th>\n",
       "      <th>model_micra</th>\n",
       "      <th>model_mii</th>\n",
       "      <th>model_modus</th>\n",
       "      <th>model_mondeo</th>\n",
       "      <th>model_move</th>\n",
       "      <th>model_musa</th>\n",
       "      <th>model_mustang</th>\n",
       "      <th>model_mx_reihe</th>\n",
       "      <th>model_navara</th>\n",
       "      <th>model_niva</th>\n",
       "      <th>model_note</th>\n",
       "      <th>model_nubira</th>\n",
       "      <th>model_octavia</th>\n",
       "      <th>model_omega</th>\n",
       "      <th>model_one</th>\n",
       "      <th>model_other</th>\n",
       "      <th>model_outlander</th>\n",
       "      <th>model_pajero</th>\n",
       "      <th>model_panda</th>\n",
       "      <th>model_passat</th>\n",
       "      <th>model_phaeton</th>\n",
       "      <th>model_picanto</th>\n",
       "      <th>model_polo</th>\n",
       "      <th>model_primera</th>\n",
       "      <th>model_ptcruiser</th>\n",
       "      <th>model_punto</th>\n",
       "      <th>model_q3</th>\n",
       "      <th>model_q5</th>\n",
       "      <th>model_qashqai</th>\n",
       "      <th>model_r19</th>\n",
       "      <th>model_range_rover</th>\n",
       "      <th>model_range_rover_sport</th>\n",
       "      <th>model_rangerover</th>\n",
       "      <th>model_rav</th>\n",
       "      <th>model_rio</th>\n",
       "      <th>model_roadster</th>\n",
       "      <th>model_roomster</th>\n",
       "      <th>model_rx_reihe</th>\n",
       "      <th>model_s60</th>\n",
       "      <th>model_s_klasse</th>\n",
       "      <th>model_s_max</th>\n",
       "      <th>model_s_type</th>\n",
       "      <th>model_samara</th>\n",
       "      <th>model_sandero</th>\n",
       "      <th>model_santa</th>\n",
       "      <th>model_scenic</th>\n",
       "      <th>model_scirocco</th>\n",
       "      <th>model_seicento</th>\n",
       "      <th>model_serie_2</th>\n",
       "      <th>model_serie_3</th>\n",
       "      <th>model_sharan</th>\n",
       "      <th>model_signum</th>\n",
       "      <th>model_sirion</th>\n",
       "      <th>model_sl</th>\n",
       "      <th>model_slk</th>\n",
       "      <th>model_sorento</th>\n",
       "      <th>model_spark</th>\n",
       "      <th>model_spider</th>\n",
       "      <th>model_sportage</th>\n",
       "      <th>model_sprinter</th>\n",
       "      <th>model_stilo</th>\n",
       "      <th>model_superb</th>\n",
       "      <th>model_swift</th>\n",
       "      <th>model_terios</th>\n",
       "      <th>model_tigra</th>\n",
       "      <th>model_tiguan</th>\n",
       "      <th>model_toledo</th>\n",
       "      <th>model_touareg</th>\n",
       "      <th>model_touran</th>\n",
       "      <th>model_transit</th>\n",
       "      <th>model_transporter</th>\n",
       "      <th>model_tt</th>\n",
       "      <th>model_tucson</th>\n",
       "      <th>model_twingo</th>\n",
       "      <th>model_up</th>\n",
       "      <th>model_v40</th>\n",
       "      <th>model_v50</th>\n",
       "      <th>model_v60</th>\n",
       "      <th>model_v70</th>\n",
       "      <th>model_v_klasse</th>\n",
       "      <th>model_vectra</th>\n",
       "      <th>model_verso</th>\n",
       "      <th>model_viano</th>\n",
       "      <th>model_vito</th>\n",
       "      <th>model_vivaro</th>\n",
       "      <th>model_voyager</th>\n",
       "      <th>model_wrangler</th>\n",
       "      <th>model_x_reihe</th>\n",
       "      <th>model_x_trail</th>\n",
       "      <th>model_x_type</th>\n",
       "      <th>model_xc_reihe</th>\n",
       "      <th>model_yaris</th>\n",
       "      <th>model_yeti</th>\n",
       "      <th>model_ypsilon</th>\n",
       "      <th>model_z_reihe</th>\n",
       "      <th>model_zafira</th>\n",
       "      <th>model_nan</th>\n",
       "      <th>fuel_type_electric</th>\n",
       "      <th>fuel_type_gasoline</th>\n",
       "      <th>fuel_type_hybrid</th>\n",
       "      <th>fuel_type_lpg</th>\n",
       "      <th>fuel_type_other</th>\n",
       "      <th>fuel_type_petrol</th>\n",
       "      <th>fuel_type_nan</th>\n",
       "      <th>brand_audi</th>\n",
       "      <th>brand_bmw</th>\n",
       "      <th>brand_chevrolet</th>\n",
       "      <th>brand_chrysler</th>\n",
       "      <th>brand_citroen</th>\n",
       "      <th>brand_dacia</th>\n",
       "      <th>brand_daewoo</th>\n",
       "      <th>brand_daihatsu</th>\n",
       "      <th>brand_fiat</th>\n",
       "      <th>brand_ford</th>\n",
       "      <th>brand_honda</th>\n",
       "      <th>brand_hyundai</th>\n",
       "      <th>brand_jaguar</th>\n",
       "      <th>brand_jeep</th>\n",
       "      <th>brand_kia</th>\n",
       "      <th>brand_lada</th>\n",
       "      <th>brand_lancia</th>\n",
       "      <th>brand_land_rover</th>\n",
       "      <th>brand_mazda</th>\n",
       "      <th>brand_mercedes_benz</th>\n",
       "      <th>brand_mini</th>\n",
       "      <th>brand_mitsubishi</th>\n",
       "      <th>brand_nissan</th>\n",
       "      <th>brand_opel</th>\n",
       "      <th>brand_peugeot</th>\n",
       "      <th>brand_porsche</th>\n",
       "      <th>brand_renault</th>\n",
       "      <th>brand_rover</th>\n",
       "      <th>brand_saab</th>\n",
       "      <th>brand_seat</th>\n",
       "      <th>brand_skoda</th>\n",
       "      <th>brand_smart</th>\n",
       "      <th>brand_sonstige_autos</th>\n",
       "      <th>brand_subaru</th>\n",
       "      <th>brand_suzuki</th>\n",
       "      <th>brand_toyota</th>\n",
       "      <th>brand_trabant</th>\n",
       "      <th>brand_volkswagen</th>\n",
       "      <th>brand_volvo</th>\n",
       "      <th>brand_nan</th>\n",
       "      <th>not_repaired_unknown</th>\n",
       "      <th>not_repaired_yes</th>\n",
       "      <th>not_repaired_nan</th>\n",
       "    </tr>\n",
       "  </thead>\n",
       "  <tbody>\n",
       "    <tr>\n",
       "      <th>0</th>\n",
       "      <td>18300</td>\n",
       "      <td>2011</td>\n",
       "      <td>190</td>\n",
       "      <td>125000</td>\n",
       "      <td>0</td>\n",
       "      <td>1</td>\n",
       "      <td>0</td>\n",
       "      <td>0</td>\n",
       "      <td>0</td>\n",
       "      <td>0</td>\n",
       "      <td>0</td>\n",
       "      <td>0</td>\n",
       "      <td>1</td>\n",
       "      <td>0</td>\n",
       "      <td>0</td>\n",
       "      <td>0</td>\n",
       "      <td>0</td>\n",
       "      <td>0</td>\n",
       "      <td>0</td>\n",
       "      <td>0</td>\n",
       "      <td>0</td>\n",
       "      <td>0</td>\n",
       "      <td>0</td>\n",
       "      <td>0</td>\n",
       "      <td>0</td>\n",
       "      <td>0</td>\n",
       "      <td>0</td>\n",
       "      <td>0</td>\n",
       "      <td>0</td>\n",
       "      <td>0</td>\n",
       "      <td>0</td>\n",
       "      <td>0</td>\n",
       "      <td>0</td>\n",
       "      <td>0</td>\n",
       "      <td>0</td>\n",
       "      <td>0</td>\n",
       "      <td>0</td>\n",
       "      <td>0</td>\n",
       "      <td>0</td>\n",
       "      <td>0</td>\n",
       "      <td>0</td>\n",
       "      <td>0</td>\n",
       "      <td>0</td>\n",
       "      <td>0</td>\n",
       "      <td>0</td>\n",
       "      <td>0</td>\n",
       "      <td>0</td>\n",
       "      <td>0</td>\n",
       "      <td>0</td>\n",
       "      <td>0</td>\n",
       "      <td>0</td>\n",
       "      <td>0</td>\n",
       "      <td>0</td>\n",
       "      <td>0</td>\n",
       "      <td>0</td>\n",
       "      <td>0</td>\n",
       "      <td>0</td>\n",
       "      <td>0</td>\n",
       "      <td>0</td>\n",
       "      <td>0</td>\n",
       "      <td>0</td>\n",
       "      <td>0</td>\n",
       "      <td>0</td>\n",
       "      <td>0</td>\n",
       "      <td>0</td>\n",
       "      <td>0</td>\n",
       "      <td>0</td>\n",
       "      <td>0</td>\n",
       "      <td>0</td>\n",
       "      <td>0</td>\n",
       "      <td>0</td>\n",
       "      <td>0</td>\n",
       "      <td>0</td>\n",
       "      <td>0</td>\n",
       "      <td>0</td>\n",
       "      <td>0</td>\n",
       "      <td>0</td>\n",
       "      <td>0</td>\n",
       "      <td>0</td>\n",
       "      <td>0</td>\n",
       "      <td>0</td>\n",
       "      <td>0</td>\n",
       "      <td>0</td>\n",
       "      <td>0</td>\n",
       "      <td>0</td>\n",
       "      <td>0</td>\n",
       "      <td>0</td>\n",
       "      <td>0</td>\n",
       "      <td>0</td>\n",
       "      <td>0</td>\n",
       "      <td>0</td>\n",
       "      <td>0</td>\n",
       "      <td>0</td>\n",
       "      <td>0</td>\n",
       "      <td>0</td>\n",
       "      <td>0</td>\n",
       "      <td>0</td>\n",
       "      <td>0</td>\n",
       "      <td>0</td>\n",
       "      <td>0</td>\n",
       "      <td>0</td>\n",
       "      <td>0</td>\n",
       "      <td>0</td>\n",
       "      <td>0</td>\n",
       "      <td>0</td>\n",
       "      <td>0</td>\n",
       "      <td>0</td>\n",
       "      <td>0</td>\n",
       "      <td>0</td>\n",
       "      <td>0</td>\n",
       "      <td>0</td>\n",
       "      <td>0</td>\n",
       "      <td>0</td>\n",
       "      <td>0</td>\n",
       "      <td>0</td>\n",
       "      <td>0</td>\n",
       "      <td>0</td>\n",
       "      <td>0</td>\n",
       "      <td>0</td>\n",
       "      <td>0</td>\n",
       "      <td>0</td>\n",
       "      <td>0</td>\n",
       "      <td>0</td>\n",
       "      <td>0</td>\n",
       "      <td>0</td>\n",
       "      <td>0</td>\n",
       "      <td>0</td>\n",
       "      <td>0</td>\n",
       "      <td>0</td>\n",
       "      <td>0</td>\n",
       "      <td>0</td>\n",
       "      <td>0</td>\n",
       "      <td>0</td>\n",
       "      <td>0</td>\n",
       "      <td>0</td>\n",
       "      <td>0</td>\n",
       "      <td>0</td>\n",
       "      <td>0</td>\n",
       "      <td>0</td>\n",
       "      <td>0</td>\n",
       "      <td>0</td>\n",
       "      <td>0</td>\n",
       "      <td>0</td>\n",
       "      <td>0</td>\n",
       "      <td>0</td>\n",
       "      <td>0</td>\n",
       "      <td>0</td>\n",
       "      <td>0</td>\n",
       "      <td>0</td>\n",
       "      <td>0</td>\n",
       "      <td>0</td>\n",
       "      <td>0</td>\n",
       "      <td>0</td>\n",
       "      <td>0</td>\n",
       "      <td>0</td>\n",
       "      <td>0</td>\n",
       "      <td>0</td>\n",
       "      <td>0</td>\n",
       "      <td>0</td>\n",
       "      <td>0</td>\n",
       "      <td>0</td>\n",
       "      <td>0</td>\n",
       "      <td>0</td>\n",
       "      <td>0</td>\n",
       "      <td>0</td>\n",
       "      <td>0</td>\n",
       "      <td>0</td>\n",
       "      <td>0</td>\n",
       "      <td>0</td>\n",
       "      <td>0</td>\n",
       "      <td>0</td>\n",
       "      <td>0</td>\n",
       "      <td>0</td>\n",
       "      <td>0</td>\n",
       "      <td>0</td>\n",
       "      <td>0</td>\n",
       "      <td>0</td>\n",
       "      <td>0</td>\n",
       "      <td>1</td>\n",
       "      <td>0</td>\n",
       "      <td>0</td>\n",
       "      <td>0</td>\n",
       "      <td>0</td>\n",
       "      <td>0</td>\n",
       "      <td>0</td>\n",
       "      <td>0</td>\n",
       "      <td>0</td>\n",
       "      <td>0</td>\n",
       "      <td>0</td>\n",
       "      <td>0</td>\n",
       "      <td>0</td>\n",
       "      <td>0</td>\n",
       "      <td>0</td>\n",
       "      <td>0</td>\n",
       "      <td>0</td>\n",
       "      <td>0</td>\n",
       "      <td>0</td>\n",
       "      <td>0</td>\n",
       "      <td>0</td>\n",
       "      <td>0</td>\n",
       "      <td>0</td>\n",
       "      <td>0</td>\n",
       "      <td>0</td>\n",
       "      <td>0</td>\n",
       "      <td>0</td>\n",
       "      <td>0</td>\n",
       "      <td>0</td>\n",
       "      <td>0</td>\n",
       "      <td>0</td>\n",
       "      <td>0</td>\n",
       "      <td>0</td>\n",
       "      <td>0</td>\n",
       "      <td>0</td>\n",
       "      <td>0</td>\n",
       "      <td>0</td>\n",
       "      <td>0</td>\n",
       "      <td>0</td>\n",
       "      <td>0</td>\n",
       "      <td>0</td>\n",
       "      <td>0</td>\n",
       "      <td>0</td>\n",
       "      <td>0</td>\n",
       "      <td>0</td>\n",
       "      <td>0</td>\n",
       "      <td>0</td>\n",
       "      <td>0</td>\n",
       "      <td>0</td>\n",
       "      <td>0</td>\n",
       "      <td>0</td>\n",
       "      <td>0</td>\n",
       "      <td>0</td>\n",
       "      <td>0</td>\n",
       "      <td>0</td>\n",
       "      <td>0</td>\n",
       "      <td>0</td>\n",
       "      <td>0</td>\n",
       "      <td>0</td>\n",
       "      <td>0</td>\n",
       "      <td>0</td>\n",
       "      <td>0</td>\n",
       "      <td>0</td>\n",
       "      <td>0</td>\n",
       "      <td>0</td>\n",
       "      <td>0</td>\n",
       "      <td>0</td>\n",
       "      <td>0</td>\n",
       "      <td>0</td>\n",
       "      <td>0</td>\n",
       "      <td>0</td>\n",
       "      <td>0</td>\n",
       "      <td>0</td>\n",
       "      <td>0</td>\n",
       "      <td>0</td>\n",
       "      <td>0</td>\n",
       "      <td>0</td>\n",
       "      <td>0</td>\n",
       "      <td>0</td>\n",
       "      <td>0</td>\n",
       "      <td>0</td>\n",
       "      <td>0</td>\n",
       "      <td>0</td>\n",
       "      <td>1</td>\n",
       "      <td>0</td>\n",
       "      <td>0</td>\n",
       "      <td>0</td>\n",
       "      <td>0</td>\n",
       "      <td>0</td>\n",
       "      <td>1</td>\n",
       "      <td>0</td>\n",
       "      <td>0</td>\n",
       "      <td>0</td>\n",
       "      <td>0</td>\n",
       "      <td>0</td>\n",
       "      <td>0</td>\n",
       "      <td>0</td>\n",
       "      <td>0</td>\n",
       "      <td>0</td>\n",
       "      <td>0</td>\n",
       "      <td>0</td>\n",
       "      <td>0</td>\n",
       "      <td>0</td>\n",
       "      <td>0</td>\n",
       "      <td>0</td>\n",
       "      <td>0</td>\n",
       "      <td>0</td>\n",
       "      <td>0</td>\n",
       "      <td>0</td>\n",
       "      <td>0</td>\n",
       "      <td>0</td>\n",
       "      <td>0</td>\n",
       "      <td>0</td>\n",
       "      <td>0</td>\n",
       "      <td>0</td>\n",
       "      <td>0</td>\n",
       "      <td>0</td>\n",
       "      <td>0</td>\n",
       "      <td>0</td>\n",
       "      <td>0</td>\n",
       "      <td>0</td>\n",
       "      <td>0</td>\n",
       "      <td>0</td>\n",
       "      <td>0</td>\n",
       "      <td>0</td>\n",
       "      <td>0</td>\n",
       "      <td>0</td>\n",
       "      <td>0</td>\n",
       "      <td>0</td>\n",
       "      <td>0</td>\n",
       "      <td>1</td>\n",
       "      <td>0</td>\n",
       "    </tr>\n",
       "    <tr>\n",
       "      <th>1</th>\n",
       "      <td>9800</td>\n",
       "      <td>2004</td>\n",
       "      <td>163</td>\n",
       "      <td>125000</td>\n",
       "      <td>0</td>\n",
       "      <td>0</td>\n",
       "      <td>0</td>\n",
       "      <td>0</td>\n",
       "      <td>0</td>\n",
       "      <td>1</td>\n",
       "      <td>0</td>\n",
       "      <td>0</td>\n",
       "      <td>0</td>\n",
       "      <td>0</td>\n",
       "      <td>0</td>\n",
       "      <td>0</td>\n",
       "      <td>0</td>\n",
       "      <td>0</td>\n",
       "      <td>0</td>\n",
       "      <td>0</td>\n",
       "      <td>0</td>\n",
       "      <td>0</td>\n",
       "      <td>0</td>\n",
       "      <td>0</td>\n",
       "      <td>0</td>\n",
       "      <td>0</td>\n",
       "      <td>0</td>\n",
       "      <td>0</td>\n",
       "      <td>0</td>\n",
       "      <td>0</td>\n",
       "      <td>0</td>\n",
       "      <td>0</td>\n",
       "      <td>0</td>\n",
       "      <td>0</td>\n",
       "      <td>0</td>\n",
       "      <td>0</td>\n",
       "      <td>0</td>\n",
       "      <td>0</td>\n",
       "      <td>0</td>\n",
       "      <td>0</td>\n",
       "      <td>0</td>\n",
       "      <td>0</td>\n",
       "      <td>0</td>\n",
       "      <td>0</td>\n",
       "      <td>0</td>\n",
       "      <td>0</td>\n",
       "      <td>0</td>\n",
       "      <td>0</td>\n",
       "      <td>0</td>\n",
       "      <td>0</td>\n",
       "      <td>0</td>\n",
       "      <td>0</td>\n",
       "      <td>0</td>\n",
       "      <td>0</td>\n",
       "      <td>0</td>\n",
       "      <td>0</td>\n",
       "      <td>0</td>\n",
       "      <td>0</td>\n",
       "      <td>0</td>\n",
       "      <td>0</td>\n",
       "      <td>0</td>\n",
       "      <td>0</td>\n",
       "      <td>0</td>\n",
       "      <td>0</td>\n",
       "      <td>0</td>\n",
       "      <td>0</td>\n",
       "      <td>0</td>\n",
       "      <td>0</td>\n",
       "      <td>0</td>\n",
       "      <td>0</td>\n",
       "      <td>0</td>\n",
       "      <td>0</td>\n",
       "      <td>0</td>\n",
       "      <td>0</td>\n",
       "      <td>0</td>\n",
       "      <td>0</td>\n",
       "      <td>0</td>\n",
       "      <td>0</td>\n",
       "      <td>0</td>\n",
       "      <td>0</td>\n",
       "      <td>0</td>\n",
       "      <td>0</td>\n",
       "      <td>0</td>\n",
       "      <td>0</td>\n",
       "      <td>0</td>\n",
       "      <td>0</td>\n",
       "      <td>0</td>\n",
       "      <td>0</td>\n",
       "      <td>0</td>\n",
       "      <td>0</td>\n",
       "      <td>0</td>\n",
       "      <td>0</td>\n",
       "      <td>0</td>\n",
       "      <td>0</td>\n",
       "      <td>0</td>\n",
       "      <td>0</td>\n",
       "      <td>0</td>\n",
       "      <td>0</td>\n",
       "      <td>0</td>\n",
       "      <td>0</td>\n",
       "      <td>0</td>\n",
       "      <td>0</td>\n",
       "      <td>0</td>\n",
       "      <td>0</td>\n",
       "      <td>0</td>\n",
       "      <td>0</td>\n",
       "      <td>0</td>\n",
       "      <td>0</td>\n",
       "      <td>0</td>\n",
       "      <td>0</td>\n",
       "      <td>0</td>\n",
       "      <td>0</td>\n",
       "      <td>0</td>\n",
       "      <td>0</td>\n",
       "      <td>0</td>\n",
       "      <td>0</td>\n",
       "      <td>0</td>\n",
       "      <td>0</td>\n",
       "      <td>0</td>\n",
       "      <td>0</td>\n",
       "      <td>0</td>\n",
       "      <td>0</td>\n",
       "      <td>0</td>\n",
       "      <td>0</td>\n",
       "      <td>0</td>\n",
       "      <td>0</td>\n",
       "      <td>0</td>\n",
       "      <td>0</td>\n",
       "      <td>0</td>\n",
       "      <td>1</td>\n",
       "      <td>0</td>\n",
       "      <td>0</td>\n",
       "      <td>0</td>\n",
       "      <td>0</td>\n",
       "      <td>0</td>\n",
       "      <td>0</td>\n",
       "      <td>0</td>\n",
       "      <td>0</td>\n",
       "      <td>0</td>\n",
       "      <td>0</td>\n",
       "      <td>0</td>\n",
       "      <td>0</td>\n",
       "      <td>0</td>\n",
       "      <td>0</td>\n",
       "      <td>0</td>\n",
       "      <td>0</td>\n",
       "      <td>0</td>\n",
       "      <td>0</td>\n",
       "      <td>0</td>\n",
       "      <td>0</td>\n",
       "      <td>0</td>\n",
       "      <td>0</td>\n",
       "      <td>0</td>\n",
       "      <td>0</td>\n",
       "      <td>0</td>\n",
       "      <td>0</td>\n",
       "      <td>0</td>\n",
       "      <td>0</td>\n",
       "      <td>0</td>\n",
       "      <td>0</td>\n",
       "      <td>0</td>\n",
       "      <td>0</td>\n",
       "      <td>0</td>\n",
       "      <td>0</td>\n",
       "      <td>0</td>\n",
       "      <td>0</td>\n",
       "      <td>0</td>\n",
       "      <td>0</td>\n",
       "      <td>0</td>\n",
       "      <td>0</td>\n",
       "      <td>0</td>\n",
       "      <td>0</td>\n",
       "      <td>0</td>\n",
       "      <td>0</td>\n",
       "      <td>0</td>\n",
       "      <td>0</td>\n",
       "      <td>0</td>\n",
       "      <td>0</td>\n",
       "      <td>0</td>\n",
       "      <td>0</td>\n",
       "      <td>0</td>\n",
       "      <td>0</td>\n",
       "      <td>0</td>\n",
       "      <td>0</td>\n",
       "      <td>0</td>\n",
       "      <td>0</td>\n",
       "      <td>0</td>\n",
       "      <td>0</td>\n",
       "      <td>0</td>\n",
       "      <td>0</td>\n",
       "      <td>0</td>\n",
       "      <td>0</td>\n",
       "      <td>0</td>\n",
       "      <td>0</td>\n",
       "      <td>0</td>\n",
       "      <td>0</td>\n",
       "      <td>0</td>\n",
       "      <td>0</td>\n",
       "      <td>0</td>\n",
       "      <td>0</td>\n",
       "      <td>0</td>\n",
       "      <td>0</td>\n",
       "      <td>0</td>\n",
       "      <td>0</td>\n",
       "      <td>0</td>\n",
       "      <td>0</td>\n",
       "      <td>0</td>\n",
       "      <td>0</td>\n",
       "      <td>0</td>\n",
       "      <td>0</td>\n",
       "      <td>0</td>\n",
       "      <td>0</td>\n",
       "      <td>0</td>\n",
       "      <td>0</td>\n",
       "      <td>0</td>\n",
       "      <td>0</td>\n",
       "      <td>0</td>\n",
       "      <td>0</td>\n",
       "      <td>0</td>\n",
       "      <td>0</td>\n",
       "      <td>0</td>\n",
       "      <td>0</td>\n",
       "      <td>0</td>\n",
       "      <td>0</td>\n",
       "      <td>0</td>\n",
       "      <td>0</td>\n",
       "      <td>0</td>\n",
       "      <td>0</td>\n",
       "      <td>0</td>\n",
       "      <td>0</td>\n",
       "      <td>0</td>\n",
       "      <td>0</td>\n",
       "      <td>0</td>\n",
       "      <td>0</td>\n",
       "      <td>0</td>\n",
       "      <td>0</td>\n",
       "      <td>0</td>\n",
       "      <td>0</td>\n",
       "      <td>0</td>\n",
       "      <td>0</td>\n",
       "      <td>0</td>\n",
       "      <td>0</td>\n",
       "      <td>0</td>\n",
       "      <td>0</td>\n",
       "      <td>0</td>\n",
       "      <td>0</td>\n",
       "      <td>0</td>\n",
       "      <td>0</td>\n",
       "      <td>0</td>\n",
       "      <td>0</td>\n",
       "      <td>0</td>\n",
       "      <td>0</td>\n",
       "      <td>0</td>\n",
       "      <td>0</td>\n",
       "      <td>0</td>\n",
       "      <td>0</td>\n",
       "      <td>0</td>\n",
       "      <td>0</td>\n",
       "      <td>0</td>\n",
       "      <td>0</td>\n",
       "      <td>0</td>\n",
       "      <td>1</td>\n",
       "      <td>0</td>\n",
       "      <td>0</td>\n",
       "      <td>0</td>\n",
       "      <td>0</td>\n",
       "      <td>0</td>\n",
       "      <td>0</td>\n",
       "      <td>0</td>\n",
       "      <td>0</td>\n",
       "      <td>0</td>\n",
       "      <td>0</td>\n",
       "      <td>0</td>\n",
       "      <td>0</td>\n",
       "      <td>0</td>\n",
       "      <td>0</td>\n",
       "      <td>0</td>\n",
       "      <td>0</td>\n",
       "      <td>0</td>\n",
       "      <td>0</td>\n",
       "      <td>1</td>\n",
       "      <td>0</td>\n",
       "      <td>0</td>\n",
       "      <td>0</td>\n",
       "      <td>0</td>\n",
       "      <td>0</td>\n",
       "      <td>0</td>\n",
       "      <td>0</td>\n",
       "      <td>0</td>\n",
       "      <td>0</td>\n",
       "      <td>0</td>\n",
       "      <td>0</td>\n",
       "      <td>0</td>\n",
       "      <td>0</td>\n",
       "      <td>0</td>\n",
       "      <td>0</td>\n",
       "      <td>0</td>\n",
       "      <td>0</td>\n",
       "      <td>0</td>\n",
       "      <td>0</td>\n",
       "      <td>0</td>\n",
       "      <td>0</td>\n",
       "      <td>0</td>\n",
       "      <td>0</td>\n",
       "      <td>0</td>\n",
       "      <td>0</td>\n",
       "      <td>0</td>\n",
       "      <td>1</td>\n",
       "      <td>0</td>\n",
       "      <td>0</td>\n",
       "    </tr>\n",
       "    <tr>\n",
       "      <th>2</th>\n",
       "      <td>1500</td>\n",
       "      <td>2001</td>\n",
       "      <td>75</td>\n",
       "      <td>150000</td>\n",
       "      <td>0</td>\n",
       "      <td>0</td>\n",
       "      <td>0</td>\n",
       "      <td>0</td>\n",
       "      <td>1</td>\n",
       "      <td>0</td>\n",
       "      <td>0</td>\n",
       "      <td>0</td>\n",
       "      <td>1</td>\n",
       "      <td>0</td>\n",
       "      <td>0</td>\n",
       "      <td>0</td>\n",
       "      <td>0</td>\n",
       "      <td>0</td>\n",
       "      <td>0</td>\n",
       "      <td>0</td>\n",
       "      <td>0</td>\n",
       "      <td>0</td>\n",
       "      <td>0</td>\n",
       "      <td>0</td>\n",
       "      <td>0</td>\n",
       "      <td>0</td>\n",
       "      <td>0</td>\n",
       "      <td>0</td>\n",
       "      <td>0</td>\n",
       "      <td>0</td>\n",
       "      <td>0</td>\n",
       "      <td>0</td>\n",
       "      <td>0</td>\n",
       "      <td>0</td>\n",
       "      <td>0</td>\n",
       "      <td>0</td>\n",
       "      <td>0</td>\n",
       "      <td>0</td>\n",
       "      <td>0</td>\n",
       "      <td>0</td>\n",
       "      <td>0</td>\n",
       "      <td>0</td>\n",
       "      <td>0</td>\n",
       "      <td>0</td>\n",
       "      <td>0</td>\n",
       "      <td>0</td>\n",
       "      <td>0</td>\n",
       "      <td>0</td>\n",
       "      <td>0</td>\n",
       "      <td>0</td>\n",
       "      <td>0</td>\n",
       "      <td>0</td>\n",
       "      <td>0</td>\n",
       "      <td>0</td>\n",
       "      <td>0</td>\n",
       "      <td>0</td>\n",
       "      <td>0</td>\n",
       "      <td>0</td>\n",
       "      <td>0</td>\n",
       "      <td>0</td>\n",
       "      <td>0</td>\n",
       "      <td>0</td>\n",
       "      <td>0</td>\n",
       "      <td>0</td>\n",
       "      <td>0</td>\n",
       "      <td>0</td>\n",
       "      <td>0</td>\n",
       "      <td>0</td>\n",
       "      <td>0</td>\n",
       "      <td>0</td>\n",
       "      <td>0</td>\n",
       "      <td>0</td>\n",
       "      <td>0</td>\n",
       "      <td>0</td>\n",
       "      <td>0</td>\n",
       "      <td>0</td>\n",
       "      <td>0</td>\n",
       "      <td>0</td>\n",
       "      <td>0</td>\n",
       "      <td>0</td>\n",
       "      <td>0</td>\n",
       "      <td>0</td>\n",
       "      <td>0</td>\n",
       "      <td>0</td>\n",
       "      <td>0</td>\n",
       "      <td>0</td>\n",
       "      <td>0</td>\n",
       "      <td>0</td>\n",
       "      <td>0</td>\n",
       "      <td>0</td>\n",
       "      <td>0</td>\n",
       "      <td>0</td>\n",
       "      <td>0</td>\n",
       "      <td>0</td>\n",
       "      <td>0</td>\n",
       "      <td>0</td>\n",
       "      <td>0</td>\n",
       "      <td>0</td>\n",
       "      <td>0</td>\n",
       "      <td>0</td>\n",
       "      <td>0</td>\n",
       "      <td>0</td>\n",
       "      <td>0</td>\n",
       "      <td>0</td>\n",
       "      <td>0</td>\n",
       "      <td>0</td>\n",
       "      <td>0</td>\n",
       "      <td>0</td>\n",
       "      <td>0</td>\n",
       "      <td>0</td>\n",
       "      <td>0</td>\n",
       "      <td>0</td>\n",
       "      <td>0</td>\n",
       "      <td>0</td>\n",
       "      <td>0</td>\n",
       "      <td>0</td>\n",
       "      <td>0</td>\n",
       "      <td>0</td>\n",
       "      <td>0</td>\n",
       "      <td>0</td>\n",
       "      <td>0</td>\n",
       "      <td>0</td>\n",
       "      <td>0</td>\n",
       "      <td>0</td>\n",
       "      <td>0</td>\n",
       "      <td>0</td>\n",
       "      <td>0</td>\n",
       "      <td>0</td>\n",
       "      <td>1</td>\n",
       "      <td>0</td>\n",
       "      <td>0</td>\n",
       "      <td>0</td>\n",
       "      <td>0</td>\n",
       "      <td>0</td>\n",
       "      <td>0</td>\n",
       "      <td>0</td>\n",
       "      <td>0</td>\n",
       "      <td>0</td>\n",
       "      <td>0</td>\n",
       "      <td>0</td>\n",
       "      <td>0</td>\n",
       "      <td>0</td>\n",
       "      <td>0</td>\n",
       "      <td>0</td>\n",
       "      <td>0</td>\n",
       "      <td>0</td>\n",
       "      <td>0</td>\n",
       "      <td>0</td>\n",
       "      <td>0</td>\n",
       "      <td>0</td>\n",
       "      <td>0</td>\n",
       "      <td>0</td>\n",
       "      <td>0</td>\n",
       "      <td>0</td>\n",
       "      <td>0</td>\n",
       "      <td>0</td>\n",
       "      <td>0</td>\n",
       "      <td>0</td>\n",
       "      <td>0</td>\n",
       "      <td>0</td>\n",
       "      <td>0</td>\n",
       "      <td>0</td>\n",
       "      <td>0</td>\n",
       "      <td>0</td>\n",
       "      <td>0</td>\n",
       "      <td>0</td>\n",
       "      <td>0</td>\n",
       "      <td>0</td>\n",
       "      <td>0</td>\n",
       "      <td>0</td>\n",
       "      <td>0</td>\n",
       "      <td>0</td>\n",
       "      <td>0</td>\n",
       "      <td>0</td>\n",
       "      <td>0</td>\n",
       "      <td>0</td>\n",
       "      <td>0</td>\n",
       "      <td>0</td>\n",
       "      <td>0</td>\n",
       "      <td>0</td>\n",
       "      <td>0</td>\n",
       "      <td>0</td>\n",
       "      <td>0</td>\n",
       "      <td>0</td>\n",
       "      <td>0</td>\n",
       "      <td>0</td>\n",
       "      <td>0</td>\n",
       "      <td>0</td>\n",
       "      <td>0</td>\n",
       "      <td>0</td>\n",
       "      <td>0</td>\n",
       "      <td>0</td>\n",
       "      <td>0</td>\n",
       "      <td>0</td>\n",
       "      <td>0</td>\n",
       "      <td>0</td>\n",
       "      <td>0</td>\n",
       "      <td>0</td>\n",
       "      <td>0</td>\n",
       "      <td>0</td>\n",
       "      <td>0</td>\n",
       "      <td>0</td>\n",
       "      <td>0</td>\n",
       "      <td>0</td>\n",
       "      <td>0</td>\n",
       "      <td>0</td>\n",
       "      <td>0</td>\n",
       "      <td>0</td>\n",
       "      <td>0</td>\n",
       "      <td>0</td>\n",
       "      <td>0</td>\n",
       "      <td>0</td>\n",
       "      <td>0</td>\n",
       "      <td>0</td>\n",
       "      <td>0</td>\n",
       "      <td>0</td>\n",
       "      <td>0</td>\n",
       "      <td>0</td>\n",
       "      <td>0</td>\n",
       "      <td>0</td>\n",
       "      <td>0</td>\n",
       "      <td>0</td>\n",
       "      <td>0</td>\n",
       "      <td>0</td>\n",
       "      <td>0</td>\n",
       "      <td>0</td>\n",
       "      <td>0</td>\n",
       "      <td>0</td>\n",
       "      <td>0</td>\n",
       "      <td>0</td>\n",
       "      <td>0</td>\n",
       "      <td>0</td>\n",
       "      <td>0</td>\n",
       "      <td>0</td>\n",
       "      <td>0</td>\n",
       "      <td>0</td>\n",
       "      <td>0</td>\n",
       "      <td>0</td>\n",
       "      <td>0</td>\n",
       "      <td>0</td>\n",
       "      <td>0</td>\n",
       "      <td>0</td>\n",
       "      <td>0</td>\n",
       "      <td>0</td>\n",
       "      <td>0</td>\n",
       "      <td>0</td>\n",
       "      <td>0</td>\n",
       "      <td>0</td>\n",
       "      <td>0</td>\n",
       "      <td>0</td>\n",
       "      <td>0</td>\n",
       "      <td>0</td>\n",
       "      <td>0</td>\n",
       "      <td>0</td>\n",
       "      <td>0</td>\n",
       "      <td>0</td>\n",
       "      <td>0</td>\n",
       "      <td>0</td>\n",
       "      <td>0</td>\n",
       "      <td>0</td>\n",
       "      <td>0</td>\n",
       "      <td>0</td>\n",
       "      <td>0</td>\n",
       "      <td>0</td>\n",
       "      <td>0</td>\n",
       "      <td>1</td>\n",
       "      <td>0</td>\n",
       "      <td>0</td>\n",
       "      <td>0</td>\n",
       "      <td>0</td>\n",
       "      <td>0</td>\n",
       "      <td>0</td>\n",
       "      <td>0</td>\n",
       "      <td>0</td>\n",
       "      <td>0</td>\n",
       "      <td>0</td>\n",
       "      <td>0</td>\n",
       "      <td>0</td>\n",
       "      <td>0</td>\n",
       "      <td>0</td>\n",
       "      <td>0</td>\n",
       "      <td>0</td>\n",
       "      <td>0</td>\n",
       "      <td>0</td>\n",
       "      <td>0</td>\n",
       "      <td>0</td>\n",
       "      <td>0</td>\n",
       "      <td>0</td>\n",
       "      <td>0</td>\n",
       "      <td>0</td>\n",
       "      <td>0</td>\n",
       "      <td>0</td>\n",
       "      <td>0</td>\n",
       "      <td>0</td>\n",
       "      <td>0</td>\n",
       "      <td>0</td>\n",
       "      <td>0</td>\n",
       "      <td>0</td>\n",
       "      <td>0</td>\n",
       "      <td>0</td>\n",
       "      <td>0</td>\n",
       "      <td>0</td>\n",
       "      <td>0</td>\n",
       "      <td>0</td>\n",
       "      <td>1</td>\n",
       "      <td>0</td>\n",
       "      <td>0</td>\n",
       "      <td>0</td>\n",
       "      <td>0</td>\n",
       "      <td>0</td>\n",
       "    </tr>\n",
       "    <tr>\n",
       "      <th>3</th>\n",
       "      <td>3600</td>\n",
       "      <td>2008</td>\n",
       "      <td>69</td>\n",
       "      <td>90000</td>\n",
       "      <td>0</td>\n",
       "      <td>0</td>\n",
       "      <td>0</td>\n",
       "      <td>0</td>\n",
       "      <td>1</td>\n",
       "      <td>0</td>\n",
       "      <td>0</td>\n",
       "      <td>0</td>\n",
       "      <td>1</td>\n",
       "      <td>0</td>\n",
       "      <td>0</td>\n",
       "      <td>0</td>\n",
       "      <td>0</td>\n",
       "      <td>0</td>\n",
       "      <td>0</td>\n",
       "      <td>0</td>\n",
       "      <td>0</td>\n",
       "      <td>0</td>\n",
       "      <td>0</td>\n",
       "      <td>0</td>\n",
       "      <td>0</td>\n",
       "      <td>0</td>\n",
       "      <td>0</td>\n",
       "      <td>0</td>\n",
       "      <td>0</td>\n",
       "      <td>0</td>\n",
       "      <td>0</td>\n",
       "      <td>0</td>\n",
       "      <td>0</td>\n",
       "      <td>0</td>\n",
       "      <td>0</td>\n",
       "      <td>0</td>\n",
       "      <td>0</td>\n",
       "      <td>0</td>\n",
       "      <td>0</td>\n",
       "      <td>0</td>\n",
       "      <td>0</td>\n",
       "      <td>0</td>\n",
       "      <td>0</td>\n",
       "      <td>0</td>\n",
       "      <td>0</td>\n",
       "      <td>0</td>\n",
       "      <td>0</td>\n",
       "      <td>0</td>\n",
       "      <td>0</td>\n",
       "      <td>0</td>\n",
       "      <td>0</td>\n",
       "      <td>0</td>\n",
       "      <td>0</td>\n",
       "      <td>0</td>\n",
       "      <td>0</td>\n",
       "      <td>0</td>\n",
       "      <td>0</td>\n",
       "      <td>0</td>\n",
       "      <td>0</td>\n",
       "      <td>0</td>\n",
       "      <td>0</td>\n",
       "      <td>0</td>\n",
       "      <td>0</td>\n",
       "      <td>0</td>\n",
       "      <td>0</td>\n",
       "      <td>0</td>\n",
       "      <td>0</td>\n",
       "      <td>0</td>\n",
       "      <td>0</td>\n",
       "      <td>0</td>\n",
       "      <td>0</td>\n",
       "      <td>0</td>\n",
       "      <td>0</td>\n",
       "      <td>0</td>\n",
       "      <td>0</td>\n",
       "      <td>0</td>\n",
       "      <td>0</td>\n",
       "      <td>0</td>\n",
       "      <td>0</td>\n",
       "      <td>0</td>\n",
       "      <td>0</td>\n",
       "      <td>0</td>\n",
       "      <td>0</td>\n",
       "      <td>0</td>\n",
       "      <td>0</td>\n",
       "      <td>0</td>\n",
       "      <td>0</td>\n",
       "      <td>0</td>\n",
       "      <td>0</td>\n",
       "      <td>0</td>\n",
       "      <td>0</td>\n",
       "      <td>0</td>\n",
       "      <td>0</td>\n",
       "      <td>0</td>\n",
       "      <td>0</td>\n",
       "      <td>0</td>\n",
       "      <td>0</td>\n",
       "      <td>0</td>\n",
       "      <td>0</td>\n",
       "      <td>0</td>\n",
       "      <td>0</td>\n",
       "      <td>0</td>\n",
       "      <td>0</td>\n",
       "      <td>0</td>\n",
       "      <td>0</td>\n",
       "      <td>0</td>\n",
       "      <td>0</td>\n",
       "      <td>0</td>\n",
       "      <td>0</td>\n",
       "      <td>0</td>\n",
       "      <td>0</td>\n",
       "      <td>0</td>\n",
       "      <td>0</td>\n",
       "      <td>0</td>\n",
       "      <td>1</td>\n",
       "      <td>0</td>\n",
       "      <td>0</td>\n",
       "      <td>0</td>\n",
       "      <td>0</td>\n",
       "      <td>0</td>\n",
       "      <td>0</td>\n",
       "      <td>0</td>\n",
       "      <td>0</td>\n",
       "      <td>0</td>\n",
       "      <td>0</td>\n",
       "      <td>0</td>\n",
       "      <td>0</td>\n",
       "      <td>0</td>\n",
       "      <td>0</td>\n",
       "      <td>0</td>\n",
       "      <td>0</td>\n",
       "      <td>0</td>\n",
       "      <td>0</td>\n",
       "      <td>0</td>\n",
       "      <td>0</td>\n",
       "      <td>0</td>\n",
       "      <td>0</td>\n",
       "      <td>0</td>\n",
       "      <td>0</td>\n",
       "      <td>0</td>\n",
       "      <td>0</td>\n",
       "      <td>0</td>\n",
       "      <td>0</td>\n",
       "      <td>0</td>\n",
       "      <td>0</td>\n",
       "      <td>0</td>\n",
       "      <td>0</td>\n",
       "      <td>0</td>\n",
       "      <td>0</td>\n",
       "      <td>0</td>\n",
       "      <td>0</td>\n",
       "      <td>0</td>\n",
       "      <td>0</td>\n",
       "      <td>0</td>\n",
       "      <td>0</td>\n",
       "      <td>0</td>\n",
       "      <td>0</td>\n",
       "      <td>0</td>\n",
       "      <td>0</td>\n",
       "      <td>0</td>\n",
       "      <td>0</td>\n",
       "      <td>0</td>\n",
       "      <td>0</td>\n",
       "      <td>0</td>\n",
       "      <td>0</td>\n",
       "      <td>0</td>\n",
       "      <td>0</td>\n",
       "      <td>0</td>\n",
       "      <td>0</td>\n",
       "      <td>0</td>\n",
       "      <td>0</td>\n",
       "      <td>0</td>\n",
       "      <td>0</td>\n",
       "      <td>0</td>\n",
       "      <td>0</td>\n",
       "      <td>0</td>\n",
       "      <td>0</td>\n",
       "      <td>0</td>\n",
       "      <td>0</td>\n",
       "      <td>0</td>\n",
       "      <td>0</td>\n",
       "      <td>0</td>\n",
       "      <td>0</td>\n",
       "      <td>0</td>\n",
       "      <td>0</td>\n",
       "      <td>0</td>\n",
       "      <td>0</td>\n",
       "      <td>0</td>\n",
       "      <td>0</td>\n",
       "      <td>0</td>\n",
       "      <td>0</td>\n",
       "      <td>0</td>\n",
       "      <td>0</td>\n",
       "      <td>0</td>\n",
       "      <td>0</td>\n",
       "      <td>0</td>\n",
       "      <td>0</td>\n",
       "      <td>0</td>\n",
       "      <td>0</td>\n",
       "      <td>0</td>\n",
       "      <td>0</td>\n",
       "      <td>0</td>\n",
       "      <td>0</td>\n",
       "      <td>0</td>\n",
       "      <td>0</td>\n",
       "      <td>0</td>\n",
       "      <td>0</td>\n",
       "      <td>0</td>\n",
       "      <td>0</td>\n",
       "      <td>0</td>\n",
       "      <td>0</td>\n",
       "      <td>0</td>\n",
       "      <td>0</td>\n",
       "      <td>0</td>\n",
       "      <td>0</td>\n",
       "      <td>0</td>\n",
       "      <td>0</td>\n",
       "      <td>0</td>\n",
       "      <td>0</td>\n",
       "      <td>0</td>\n",
       "      <td>0</td>\n",
       "      <td>0</td>\n",
       "      <td>0</td>\n",
       "      <td>0</td>\n",
       "      <td>0</td>\n",
       "      <td>0</td>\n",
       "      <td>0</td>\n",
       "      <td>0</td>\n",
       "      <td>0</td>\n",
       "      <td>0</td>\n",
       "      <td>0</td>\n",
       "      <td>0</td>\n",
       "      <td>0</td>\n",
       "      <td>0</td>\n",
       "      <td>0</td>\n",
       "      <td>0</td>\n",
       "      <td>0</td>\n",
       "      <td>0</td>\n",
       "      <td>0</td>\n",
       "      <td>0</td>\n",
       "      <td>0</td>\n",
       "      <td>0</td>\n",
       "      <td>0</td>\n",
       "      <td>0</td>\n",
       "      <td>0</td>\n",
       "      <td>0</td>\n",
       "      <td>0</td>\n",
       "      <td>0</td>\n",
       "      <td>0</td>\n",
       "      <td>0</td>\n",
       "      <td>0</td>\n",
       "      <td>0</td>\n",
       "      <td>0</td>\n",
       "      <td>0</td>\n",
       "      <td>0</td>\n",
       "      <td>0</td>\n",
       "      <td>0</td>\n",
       "      <td>0</td>\n",
       "      <td>0</td>\n",
       "      <td>0</td>\n",
       "      <td>0</td>\n",
       "      <td>1</td>\n",
       "      <td>0</td>\n",
       "      <td>0</td>\n",
       "      <td>0</td>\n",
       "      <td>0</td>\n",
       "      <td>0</td>\n",
       "      <td>0</td>\n",
       "      <td>0</td>\n",
       "      <td>0</td>\n",
       "      <td>0</td>\n",
       "      <td>0</td>\n",
       "      <td>0</td>\n",
       "      <td>0</td>\n",
       "      <td>0</td>\n",
       "      <td>0</td>\n",
       "      <td>0</td>\n",
       "      <td>0</td>\n",
       "      <td>0</td>\n",
       "      <td>0</td>\n",
       "      <td>0</td>\n",
       "      <td>0</td>\n",
       "      <td>0</td>\n",
       "      <td>0</td>\n",
       "      <td>0</td>\n",
       "      <td>0</td>\n",
       "      <td>0</td>\n",
       "      <td>0</td>\n",
       "      <td>0</td>\n",
       "      <td>0</td>\n",
       "      <td>0</td>\n",
       "      <td>0</td>\n",
       "      <td>0</td>\n",
       "      <td>0</td>\n",
       "      <td>0</td>\n",
       "      <td>0</td>\n",
       "      <td>0</td>\n",
       "      <td>1</td>\n",
       "      <td>0</td>\n",
       "      <td>0</td>\n",
       "      <td>0</td>\n",
       "      <td>0</td>\n",
       "      <td>0</td>\n",
       "      <td>0</td>\n",
       "      <td>0</td>\n",
       "      <td>0</td>\n",
       "      <td>0</td>\n",
       "      <td>0</td>\n",
       "      <td>0</td>\n",
       "      <td>0</td>\n",
       "    </tr>\n",
       "    <tr>\n",
       "      <th>4</th>\n",
       "      <td>650</td>\n",
       "      <td>1995</td>\n",
       "      <td>102</td>\n",
       "      <td>150000</td>\n",
       "      <td>0</td>\n",
       "      <td>0</td>\n",
       "      <td>0</td>\n",
       "      <td>1</td>\n",
       "      <td>0</td>\n",
       "      <td>0</td>\n",
       "      <td>0</td>\n",
       "      <td>0</td>\n",
       "      <td>1</td>\n",
       "      <td>0</td>\n",
       "      <td>0</td>\n",
       "      <td>0</td>\n",
       "      <td>0</td>\n",
       "      <td>0</td>\n",
       "      <td>0</td>\n",
       "      <td>0</td>\n",
       "      <td>0</td>\n",
       "      <td>0</td>\n",
       "      <td>0</td>\n",
       "      <td>0</td>\n",
       "      <td>0</td>\n",
       "      <td>1</td>\n",
       "      <td>0</td>\n",
       "      <td>0</td>\n",
       "      <td>0</td>\n",
       "      <td>0</td>\n",
       "      <td>0</td>\n",
       "      <td>0</td>\n",
       "      <td>0</td>\n",
       "      <td>0</td>\n",
       "      <td>0</td>\n",
       "      <td>0</td>\n",
       "      <td>0</td>\n",
       "      <td>0</td>\n",
       "      <td>0</td>\n",
       "      <td>0</td>\n",
       "      <td>0</td>\n",
       "      <td>0</td>\n",
       "      <td>0</td>\n",
       "      <td>0</td>\n",
       "      <td>0</td>\n",
       "      <td>0</td>\n",
       "      <td>0</td>\n",
       "      <td>0</td>\n",
       "      <td>0</td>\n",
       "      <td>0</td>\n",
       "      <td>0</td>\n",
       "      <td>0</td>\n",
       "      <td>0</td>\n",
       "      <td>0</td>\n",
       "      <td>0</td>\n",
       "      <td>0</td>\n",
       "      <td>0</td>\n",
       "      <td>0</td>\n",
       "      <td>0</td>\n",
       "      <td>0</td>\n",
       "      <td>0</td>\n",
       "      <td>0</td>\n",
       "      <td>0</td>\n",
       "      <td>0</td>\n",
       "      <td>0</td>\n",
       "      <td>0</td>\n",
       "      <td>0</td>\n",
       "      <td>0</td>\n",
       "      <td>0</td>\n",
       "      <td>0</td>\n",
       "      <td>0</td>\n",
       "      <td>0</td>\n",
       "      <td>0</td>\n",
       "      <td>0</td>\n",
       "      <td>0</td>\n",
       "      <td>0</td>\n",
       "      <td>0</td>\n",
       "      <td>0</td>\n",
       "      <td>0</td>\n",
       "      <td>0</td>\n",
       "      <td>0</td>\n",
       "      <td>0</td>\n",
       "      <td>0</td>\n",
       "      <td>0</td>\n",
       "      <td>0</td>\n",
       "      <td>0</td>\n",
       "      <td>0</td>\n",
       "      <td>0</td>\n",
       "      <td>0</td>\n",
       "      <td>0</td>\n",
       "      <td>0</td>\n",
       "      <td>0</td>\n",
       "      <td>0</td>\n",
       "      <td>0</td>\n",
       "      <td>0</td>\n",
       "      <td>0</td>\n",
       "      <td>0</td>\n",
       "      <td>0</td>\n",
       "      <td>0</td>\n",
       "      <td>0</td>\n",
       "      <td>0</td>\n",
       "      <td>0</td>\n",
       "      <td>0</td>\n",
       "      <td>0</td>\n",
       "      <td>0</td>\n",
       "      <td>0</td>\n",
       "      <td>0</td>\n",
       "      <td>0</td>\n",
       "      <td>0</td>\n",
       "      <td>0</td>\n",
       "      <td>0</td>\n",
       "      <td>0</td>\n",
       "      <td>0</td>\n",
       "      <td>0</td>\n",
       "      <td>0</td>\n",
       "      <td>0</td>\n",
       "      <td>0</td>\n",
       "      <td>0</td>\n",
       "      <td>0</td>\n",
       "      <td>0</td>\n",
       "      <td>0</td>\n",
       "      <td>0</td>\n",
       "      <td>0</td>\n",
       "      <td>0</td>\n",
       "      <td>0</td>\n",
       "      <td>0</td>\n",
       "      <td>0</td>\n",
       "      <td>0</td>\n",
       "      <td>0</td>\n",
       "      <td>0</td>\n",
       "      <td>0</td>\n",
       "      <td>0</td>\n",
       "      <td>0</td>\n",
       "      <td>0</td>\n",
       "      <td>0</td>\n",
       "      <td>0</td>\n",
       "      <td>0</td>\n",
       "      <td>0</td>\n",
       "      <td>0</td>\n",
       "      <td>0</td>\n",
       "      <td>0</td>\n",
       "      <td>0</td>\n",
       "      <td>0</td>\n",
       "      <td>0</td>\n",
       "      <td>0</td>\n",
       "      <td>0</td>\n",
       "      <td>0</td>\n",
       "      <td>0</td>\n",
       "      <td>0</td>\n",
       "      <td>0</td>\n",
       "      <td>0</td>\n",
       "      <td>0</td>\n",
       "      <td>0</td>\n",
       "      <td>0</td>\n",
       "      <td>0</td>\n",
       "      <td>0</td>\n",
       "      <td>0</td>\n",
       "      <td>0</td>\n",
       "      <td>0</td>\n",
       "      <td>0</td>\n",
       "      <td>0</td>\n",
       "      <td>0</td>\n",
       "      <td>0</td>\n",
       "      <td>0</td>\n",
       "      <td>0</td>\n",
       "      <td>0</td>\n",
       "      <td>0</td>\n",
       "      <td>0</td>\n",
       "      <td>0</td>\n",
       "      <td>0</td>\n",
       "      <td>0</td>\n",
       "      <td>0</td>\n",
       "      <td>0</td>\n",
       "      <td>0</td>\n",
       "      <td>0</td>\n",
       "      <td>0</td>\n",
       "      <td>0</td>\n",
       "      <td>0</td>\n",
       "      <td>0</td>\n",
       "      <td>0</td>\n",
       "      <td>0</td>\n",
       "      <td>0</td>\n",
       "      <td>0</td>\n",
       "      <td>0</td>\n",
       "      <td>0</td>\n",
       "      <td>0</td>\n",
       "      <td>0</td>\n",
       "      <td>0</td>\n",
       "      <td>0</td>\n",
       "      <td>0</td>\n",
       "      <td>0</td>\n",
       "      <td>0</td>\n",
       "      <td>0</td>\n",
       "      <td>0</td>\n",
       "      <td>0</td>\n",
       "      <td>0</td>\n",
       "      <td>0</td>\n",
       "      <td>0</td>\n",
       "      <td>0</td>\n",
       "      <td>0</td>\n",
       "      <td>0</td>\n",
       "      <td>0</td>\n",
       "      <td>0</td>\n",
       "      <td>0</td>\n",
       "      <td>0</td>\n",
       "      <td>0</td>\n",
       "      <td>0</td>\n",
       "      <td>0</td>\n",
       "      <td>0</td>\n",
       "      <td>0</td>\n",
       "      <td>0</td>\n",
       "      <td>0</td>\n",
       "      <td>0</td>\n",
       "      <td>0</td>\n",
       "      <td>0</td>\n",
       "      <td>0</td>\n",
       "      <td>0</td>\n",
       "      <td>0</td>\n",
       "      <td>0</td>\n",
       "      <td>0</td>\n",
       "      <td>0</td>\n",
       "      <td>0</td>\n",
       "      <td>0</td>\n",
       "      <td>0</td>\n",
       "      <td>0</td>\n",
       "      <td>0</td>\n",
       "      <td>0</td>\n",
       "      <td>0</td>\n",
       "      <td>0</td>\n",
       "      <td>0</td>\n",
       "      <td>0</td>\n",
       "      <td>0</td>\n",
       "      <td>0</td>\n",
       "      <td>0</td>\n",
       "      <td>0</td>\n",
       "      <td>0</td>\n",
       "      <td>0</td>\n",
       "      <td>0</td>\n",
       "      <td>0</td>\n",
       "      <td>0</td>\n",
       "      <td>0</td>\n",
       "      <td>0</td>\n",
       "      <td>0</td>\n",
       "      <td>0</td>\n",
       "      <td>0</td>\n",
       "      <td>0</td>\n",
       "      <td>0</td>\n",
       "      <td>0</td>\n",
       "      <td>0</td>\n",
       "      <td>0</td>\n",
       "      <td>0</td>\n",
       "      <td>0</td>\n",
       "      <td>0</td>\n",
       "      <td>0</td>\n",
       "      <td>0</td>\n",
       "      <td>0</td>\n",
       "      <td>0</td>\n",
       "      <td>0</td>\n",
       "      <td>0</td>\n",
       "      <td>0</td>\n",
       "      <td>0</td>\n",
       "      <td>0</td>\n",
       "      <td>0</td>\n",
       "      <td>0</td>\n",
       "      <td>0</td>\n",
       "      <td>1</td>\n",
       "      <td>0</td>\n",
       "      <td>0</td>\n",
       "      <td>1</td>\n",
       "      <td>0</td>\n",
       "      <td>0</td>\n",
       "      <td>0</td>\n",
       "      <td>0</td>\n",
       "      <td>0</td>\n",
       "      <td>0</td>\n",
       "      <td>0</td>\n",
       "      <td>0</td>\n",
       "      <td>0</td>\n",
       "      <td>0</td>\n",
       "      <td>0</td>\n",
       "      <td>0</td>\n",
       "      <td>0</td>\n",
       "      <td>0</td>\n",
       "      <td>0</td>\n",
       "      <td>0</td>\n",
       "      <td>0</td>\n",
       "      <td>0</td>\n",
       "      <td>0</td>\n",
       "      <td>0</td>\n",
       "      <td>0</td>\n",
       "      <td>0</td>\n",
       "      <td>0</td>\n",
       "      <td>0</td>\n",
       "      <td>0</td>\n",
       "      <td>0</td>\n",
       "      <td>0</td>\n",
       "      <td>0</td>\n",
       "      <td>0</td>\n",
       "      <td>0</td>\n",
       "      <td>0</td>\n",
       "      <td>0</td>\n",
       "      <td>0</td>\n",
       "      <td>0</td>\n",
       "      <td>0</td>\n",
       "      <td>0</td>\n",
       "      <td>0</td>\n",
       "      <td>0</td>\n",
       "      <td>0</td>\n",
       "      <td>1</td>\n",
       "      <td>0</td>\n",
       "    </tr>\n",
       "  </tbody>\n",
       "</table>\n",
       "</div>"
      ],
      "text/plain": [
       "   price  registration_year  power  mileage  vehicle_type_convertible  \\\n",
       "0  18300               2011    190   125000                         0   \n",
       "1   9800               2004    163   125000                         0   \n",
       "2   1500               2001     75   150000                         0   \n",
       "3   3600               2008     69    90000                         0   \n",
       "4    650               1995    102   150000                         0   \n",
       "\n",
       "   vehicle_type_coupe  vehicle_type_other  vehicle_type_sedan  \\\n",
       "0                   1                   0                   0   \n",
       "1                   0                   0                   0   \n",
       "2                   0                   0                   0   \n",
       "3                   0                   0                   0   \n",
       "4                   0                   0                   1   \n",
       "\n",
       "   vehicle_type_small  vehicle_type_suv  vehicle_type_wagon  vehicle_type_nan  \\\n",
       "0                   0                 0                   0                 0   \n",
       "1                   0                 1                   0                 0   \n",
       "2                   1                 0                   0                 0   \n",
       "3                   1                 0                   0                 0   \n",
       "4                   0                 0                   0                 0   \n",
       "\n",
       "   gearbox_manual  gearbox_unknown  gearbox_nan  model_145  model_147  \\\n",
       "0               1                0            0          0          0   \n",
       "1               0                0            0          0          0   \n",
       "2               1                0            0          0          0   \n",
       "3               1                0            0          0          0   \n",
       "4               1                0            0          0          0   \n",
       "\n",
       "   model_156  model_159  model_1_reihe  model_1er  model_200  model_2_reihe  \\\n",
       "0          0          0              0          0          0              0   \n",
       "1          0          0              0          0          0              0   \n",
       "2          0          0              0          0          0              0   \n",
       "3          0          0              0          0          0              0   \n",
       "4          0          0              0          0          0              0   \n",
       "\n",
       "   model_300c  model_3_reihe  model_3er  model_4_reihe  model_500  \\\n",
       "0           0              0          0              0          0   \n",
       "1           0              0          0              0          0   \n",
       "2           0              0          0              0          0   \n",
       "3           0              0          0              0          0   \n",
       "4           0              0          1              0          0   \n",
       "\n",
       "   model_5_reihe  model_5er  model_601  model_6_reihe  model_6er  model_7er  \\\n",
       "0              0          0          0              0          0          0   \n",
       "1              0          0          0              0          0          0   \n",
       "2              0          0          0              0          0          0   \n",
       "3              0          0          0              0          0          0   \n",
       "4              0          0          0              0          0          0   \n",
       "\n",
       "   model_80  model_850  model_90  model_900  model_9000  model_911  model_a1  \\\n",
       "0         0          0         0          0           0          0         0   \n",
       "1         0          0         0          0           0          0         0   \n",
       "2         0          0         0          0           0          0         0   \n",
       "3         0          0         0          0           0          0         0   \n",
       "4         0          0         0          0           0          0         0   \n",
       "\n",
       "   model_a2  model_a3  model_a4  model_a5  model_a6  model_a8  model_a_klasse  \\\n",
       "0         0         0         0         0         0         0               0   \n",
       "1         0         0         0         0         0         0               0   \n",
       "2         0         0         0         0         0         0               0   \n",
       "3         0         0         0         0         0         0               0   \n",
       "4         0         0         0         0         0         0               0   \n",
       "\n",
       "   model_accord  model_agila  model_alhambra  model_almera  model_altea  \\\n",
       "0             0            0               0             0            0   \n",
       "1             0            0               0             0            0   \n",
       "2             0            0               0             0            0   \n",
       "3             0            0               0             0            0   \n",
       "4             0            0               0             0            0   \n",
       "\n",
       "   model_amarok  model_antara  model_arosa  model_astra  model_auris  \\\n",
       "0             0             0            0            0            0   \n",
       "1             0             0            0            0            0   \n",
       "2             0             0            0            0            0   \n",
       "3             0             0            0            0            0   \n",
       "4             0             0            0            0            0   \n",
       "\n",
       "   model_avensis  model_aveo  model_aygo  model_b_klasse  model_b_max  \\\n",
       "0              0           0           0               0            0   \n",
       "1              0           0           0               0            0   \n",
       "2              0           0           0               0            0   \n",
       "3              0           0           0               0            0   \n",
       "4              0           0           0               0            0   \n",
       "\n",
       "   model_beetle  model_berlingo  model_bora  model_boxster  model_bravo  \\\n",
       "0             0               0           0              0            0   \n",
       "1             0               0           0              0            0   \n",
       "2             0               0           0              0            0   \n",
       "3             0               0           0              0            0   \n",
       "4             0               0           0              0            0   \n",
       "\n",
       "   model_c1  model_c2  model_c3  model_c4  model_c5  model_c_klasse  \\\n",
       "0         0         0         0         0         0               0   \n",
       "1         0         0         0         0         0               0   \n",
       "2         0         0         0         0         0               0   \n",
       "3         0         0         0         0         0               0   \n",
       "4         0         0         0         0         0               0   \n",
       "\n",
       "   model_c_max  model_c_reihe  model_caddy  model_calibra  model_captiva  \\\n",
       "0            0              0            0              0              0   \n",
       "1            0              0            0              0              0   \n",
       "2            0              0            0              0              0   \n",
       "3            0              0            0              0              0   \n",
       "4            0              0            0              0              0   \n",
       "\n",
       "   model_carisma  model_carnival  model_cc  model_ceed  model_charade  \\\n",
       "0              0               0         0           0              0   \n",
       "1              0               0         0           0              0   \n",
       "2              0               0         0           0              0   \n",
       "3              0               0         0           0              0   \n",
       "4              0               0         0           0              0   \n",
       "\n",
       "   model_cherokee  model_citigo  model_civic  model_cl  model_clio  model_clk  \\\n",
       "0               0             0            0         0           0          0   \n",
       "1               0             0            0         0           0          0   \n",
       "2               0             0            0         0           0          0   \n",
       "3               0             0            0         0           0          0   \n",
       "4               0             0            0         0           0          0   \n",
       "\n",
       "   model_clubman  model_colt  model_combo  model_cooper  model_cordoba  \\\n",
       "0              0           0            0             0              0   \n",
       "1              0           0            0             0              0   \n",
       "2              0           0            0             0              0   \n",
       "3              0           0            0             0              0   \n",
       "4              0           0            0             0              0   \n",
       "\n",
       "   model_corolla  model_corsa  model_cr_reihe  model_croma  model_crossfire  \\\n",
       "0              0            0               0            0                0   \n",
       "1              0            0               0            0                0   \n",
       "2              0            0               0            0                0   \n",
       "3              0            0               0            0                0   \n",
       "4              0            0               0            0                0   \n",
       "\n",
       "   model_cuore  model_cx_reihe  model_defender  model_delta  model_discovery  \\\n",
       "0            0               0               0            0                0   \n",
       "1            0               0               0            0                0   \n",
       "2            0               0               0            0                0   \n",
       "3            0               0               0            0                0   \n",
       "4            0               0               0            0                0   \n",
       "\n",
       "   model_doblo  model_ducato  model_duster  model_e_klasse  model_elefantino  \\\n",
       "0            0             0             0               0                 0   \n",
       "1            0             0             0               0                 0   \n",
       "2            0             0             0               0                 0   \n",
       "3            0             0             0               0                 0   \n",
       "4            0             0             0               0                 0   \n",
       "\n",
       "   model_eos  model_escort  model_espace  model_exeo  model_fabia  \\\n",
       "0          0             0             0           0            0   \n",
       "1          0             0             0           0            0   \n",
       "2          0             0             0           0            0   \n",
       "3          0             0             0           0            1   \n",
       "4          0             0             0           0            0   \n",
       "\n",
       "   model_fiesta  model_focus  model_forester  model_forfour  model_fortwo  \\\n",
       "0             0            0               0              0             0   \n",
       "1             0            0               0              0             0   \n",
       "2             0            0               0              0             0   \n",
       "3             0            0               0              0             0   \n",
       "4             0            0               0              0             0   \n",
       "\n",
       "   model_fox  model_freelander  model_fusion  model_g_klasse  model_galant  \\\n",
       "0          0                 0             0               0             0   \n",
       "1          0                 0             0               0             0   \n",
       "2          0                 0             0               0             0   \n",
       "3          0                 0             0               0             0   \n",
       "4          0                 0             0               0             0   \n",
       "\n",
       "   model_galaxy  model_getz  model_glk  model_golf  model_grand  model_i3  \\\n",
       "0             0           0          0           0            0         0   \n",
       "1             0           0          0           0            1         0   \n",
       "2             0           0          0           1            0         0   \n",
       "3             0           0          0           0            0         0   \n",
       "4             0           0          0           0            0         0   \n",
       "\n",
       "   model_i_reihe  model_ibiza  model_impreza  model_insignia  model_jazz  \\\n",
       "0              0            0              0               0           0   \n",
       "1              0            0              0               0           0   \n",
       "2              0            0              0               0           0   \n",
       "3              0            0              0               0           0   \n",
       "4              0            0              0               0           0   \n",
       "\n",
       "   model_jetta  model_jimny  model_juke  model_justy  model_ka  model_kadett  \\\n",
       "0            0            0           0            0         0             0   \n",
       "1            0            0           0            0         0             0   \n",
       "2            0            0           0            0         0             0   \n",
       "3            0            0           0            0         0             0   \n",
       "4            0            0           0            0         0             0   \n",
       "\n",
       "   model_kaefer  model_kalina  model_kalos  model_kangoo  model_kappa  \\\n",
       "0             0             0            0             0            0   \n",
       "1             0             0            0             0            0   \n",
       "2             0             0            0             0            0   \n",
       "3             0             0            0             0            0   \n",
       "4             0             0            0             0            0   \n",
       "\n",
       "   model_kuga  model_laguna  model_lancer  model_lanos  model_legacy  \\\n",
       "0           0             0             0            0             0   \n",
       "1           0             0             0            0             0   \n",
       "2           0             0             0            0             0   \n",
       "3           0             0             0            0             0   \n",
       "4           0             0             0            0             0   \n",
       "\n",
       "   model_leon  model_lodgy  model_logan  model_lupo  model_lybra  \\\n",
       "0           0            0            0           0            0   \n",
       "1           0            0            0           0            0   \n",
       "2           0            0            0           0            0   \n",
       "3           0            0            0           0            0   \n",
       "4           0            0            0           0            0   \n",
       "\n",
       "   model_m_klasse  model_m_reihe  model_materia  model_matiz  model_megane  \\\n",
       "0               0              0              0            0             0   \n",
       "1               0              0              0            0             0   \n",
       "2               0              0              0            0             0   \n",
       "3               0              0              0            0             0   \n",
       "4               0              0              0            0             0   \n",
       "\n",
       "   model_meriva  model_micra  model_mii  model_modus  model_mondeo  \\\n",
       "0             0            0          0            0             0   \n",
       "1             0            0          0            0             0   \n",
       "2             0            0          0            0             0   \n",
       "3             0            0          0            0             0   \n",
       "4             0            0          0            0             0   \n",
       "\n",
       "   model_move  model_musa  model_mustang  model_mx_reihe  model_navara  \\\n",
       "0           0           0              0               0             0   \n",
       "1           0           0              0               0             0   \n",
       "2           0           0              0               0             0   \n",
       "3           0           0              0               0             0   \n",
       "4           0           0              0               0             0   \n",
       "\n",
       "   model_niva  model_note  model_nubira  model_octavia  model_omega  \\\n",
       "0           0           0             0              0            0   \n",
       "1           0           0             0              0            0   \n",
       "2           0           0             0              0            0   \n",
       "3           0           0             0              0            0   \n",
       "4           0           0             0              0            0   \n",
       "\n",
       "   model_one  model_other  model_outlander  model_pajero  model_panda  \\\n",
       "0          0            1                0             0            0   \n",
       "1          0            0                0             0            0   \n",
       "2          0            0                0             0            0   \n",
       "3          0            0                0             0            0   \n",
       "4          0            0                0             0            0   \n",
       "\n",
       "   model_passat  model_phaeton  model_picanto  model_polo  model_primera  \\\n",
       "0             0              0              0           0              0   \n",
       "1             0              0              0           0              0   \n",
       "2             0              0              0           0              0   \n",
       "3             0              0              0           0              0   \n",
       "4             0              0              0           0              0   \n",
       "\n",
       "   model_ptcruiser  model_punto  model_q3  model_q5  model_qashqai  model_r19  \\\n",
       "0                0            0         0         0              0          0   \n",
       "1                0            0         0         0              0          0   \n",
       "2                0            0         0         0              0          0   \n",
       "3                0            0         0         0              0          0   \n",
       "4                0            0         0         0              0          0   \n",
       "\n",
       "   model_range_rover  model_range_rover_sport  model_rangerover  model_rav  \\\n",
       "0                  0                        0                 0          0   \n",
       "1                  0                        0                 0          0   \n",
       "2                  0                        0                 0          0   \n",
       "3                  0                        0                 0          0   \n",
       "4                  0                        0                 0          0   \n",
       "\n",
       "   model_rio  model_roadster  model_roomster  model_rx_reihe  model_s60  \\\n",
       "0          0               0               0               0          0   \n",
       "1          0               0               0               0          0   \n",
       "2          0               0               0               0          0   \n",
       "3          0               0               0               0          0   \n",
       "4          0               0               0               0          0   \n",
       "\n",
       "   model_s_klasse  model_s_max  model_s_type  model_samara  model_sandero  \\\n",
       "0               0            0             0             0              0   \n",
       "1               0            0             0             0              0   \n",
       "2               0            0             0             0              0   \n",
       "3               0            0             0             0              0   \n",
       "4               0            0             0             0              0   \n",
       "\n",
       "   model_santa  model_scenic  model_scirocco  model_seicento  model_serie_2  \\\n",
       "0            0             0               0               0              0   \n",
       "1            0             0               0               0              0   \n",
       "2            0             0               0               0              0   \n",
       "3            0             0               0               0              0   \n",
       "4            0             0               0               0              0   \n",
       "\n",
       "   model_serie_3  model_sharan  model_signum  model_sirion  model_sl  \\\n",
       "0              0             0             0             0         0   \n",
       "1              0             0             0             0         0   \n",
       "2              0             0             0             0         0   \n",
       "3              0             0             0             0         0   \n",
       "4              0             0             0             0         0   \n",
       "\n",
       "   model_slk  model_sorento  model_spark  model_spider  model_sportage  \\\n",
       "0          0              0            0             0               0   \n",
       "1          0              0            0             0               0   \n",
       "2          0              0            0             0               0   \n",
       "3          0              0            0             0               0   \n",
       "4          0              0            0             0               0   \n",
       "\n",
       "   model_sprinter  model_stilo  model_superb  model_swift  model_terios  \\\n",
       "0               0            0             0            0             0   \n",
       "1               0            0             0            0             0   \n",
       "2               0            0             0            0             0   \n",
       "3               0            0             0            0             0   \n",
       "4               0            0             0            0             0   \n",
       "\n",
       "   model_tigra  model_tiguan  model_toledo  model_touareg  model_touran  \\\n",
       "0            0             0             0              0             0   \n",
       "1            0             0             0              0             0   \n",
       "2            0             0             0              0             0   \n",
       "3            0             0             0              0             0   \n",
       "4            0             0             0              0             0   \n",
       "\n",
       "   model_transit  model_transporter  model_tt  model_tucson  model_twingo  \\\n",
       "0              0                  0         0             0             0   \n",
       "1              0                  0         0             0             0   \n",
       "2              0                  0         0             0             0   \n",
       "3              0                  0         0             0             0   \n",
       "4              0                  0         0             0             0   \n",
       "\n",
       "   model_up  model_v40  model_v50  model_v60  model_v70  model_v_klasse  \\\n",
       "0         0          0          0          0          0               0   \n",
       "1         0          0          0          0          0               0   \n",
       "2         0          0          0          0          0               0   \n",
       "3         0          0          0          0          0               0   \n",
       "4         0          0          0          0          0               0   \n",
       "\n",
       "   model_vectra  model_verso  model_viano  model_vito  model_vivaro  \\\n",
       "0             0            0            0           0             0   \n",
       "1             0            0            0           0             0   \n",
       "2             0            0            0           0             0   \n",
       "3             0            0            0           0             0   \n",
       "4             0            0            0           0             0   \n",
       "\n",
       "   model_voyager  model_wrangler  model_x_reihe  model_x_trail  model_x_type  \\\n",
       "0              0               0              0              0             0   \n",
       "1              0               0              0              0             0   \n",
       "2              0               0              0              0             0   \n",
       "3              0               0              0              0             0   \n",
       "4              0               0              0              0             0   \n",
       "\n",
       "   model_xc_reihe  model_yaris  model_yeti  model_ypsilon  model_z_reihe  \\\n",
       "0               0            0           0              0              0   \n",
       "1               0            0           0              0              0   \n",
       "2               0            0           0              0              0   \n",
       "3               0            0           0              0              0   \n",
       "4               0            0           0              0              0   \n",
       "\n",
       "   model_zafira  model_nan  fuel_type_electric  fuel_type_gasoline  \\\n",
       "0             0          0                   0                   1   \n",
       "1             0          0                   0                   1   \n",
       "2             0          0                   0                   0   \n",
       "3             0          0                   0                   1   \n",
       "4             0          0                   0                   0   \n",
       "\n",
       "   fuel_type_hybrid  fuel_type_lpg  fuel_type_other  fuel_type_petrol  \\\n",
       "0                 0              0                0                 0   \n",
       "1                 0              0                0                 0   \n",
       "2                 0              0                0                 1   \n",
       "3                 0              0                0                 0   \n",
       "4                 0              0                0                 1   \n",
       "\n",
       "   fuel_type_nan  brand_audi  brand_bmw  brand_chevrolet  brand_chrysler  \\\n",
       "0              0           1          0                0               0   \n",
       "1              0           0          0                0               0   \n",
       "2              0           0          0                0               0   \n",
       "3              0           0          0                0               0   \n",
       "4              0           0          1                0               0   \n",
       "\n",
       "   brand_citroen  brand_dacia  brand_daewoo  brand_daihatsu  brand_fiat  \\\n",
       "0              0            0             0               0           0   \n",
       "1              0            0             0               0           0   \n",
       "2              0            0             0               0           0   \n",
       "3              0            0             0               0           0   \n",
       "4              0            0             0               0           0   \n",
       "\n",
       "   brand_ford  brand_honda  brand_hyundai  brand_jaguar  brand_jeep  \\\n",
       "0           0            0              0             0           0   \n",
       "1           0            0              0             0           1   \n",
       "2           0            0              0             0           0   \n",
       "3           0            0              0             0           0   \n",
       "4           0            0              0             0           0   \n",
       "\n",
       "   brand_kia  brand_lada  brand_lancia  brand_land_rover  brand_mazda  \\\n",
       "0          0           0             0                 0            0   \n",
       "1          0           0             0                 0            0   \n",
       "2          0           0             0                 0            0   \n",
       "3          0           0             0                 0            0   \n",
       "4          0           0             0                 0            0   \n",
       "\n",
       "   brand_mercedes_benz  brand_mini  brand_mitsubishi  brand_nissan  \\\n",
       "0                    0           0                 0             0   \n",
       "1                    0           0                 0             0   \n",
       "2                    0           0                 0             0   \n",
       "3                    0           0                 0             0   \n",
       "4                    0           0                 0             0   \n",
       "\n",
       "   brand_opel  brand_peugeot  brand_porsche  brand_renault  brand_rover  \\\n",
       "0           0              0              0              0            0   \n",
       "1           0              0              0              0            0   \n",
       "2           0              0              0              0            0   \n",
       "3           0              0              0              0            0   \n",
       "4           0              0              0              0            0   \n",
       "\n",
       "   brand_saab  brand_seat  brand_skoda  brand_smart  brand_sonstige_autos  \\\n",
       "0           0           0            0            0                     0   \n",
       "1           0           0            0            0                     0   \n",
       "2           0           0            0            0                     0   \n",
       "3           0           0            1            0                     0   \n",
       "4           0           0            0            0                     0   \n",
       "\n",
       "   brand_subaru  brand_suzuki  brand_toyota  brand_trabant  brand_volkswagen  \\\n",
       "0             0             0             0              0                 0   \n",
       "1             0             0             0              0                 0   \n",
       "2             0             0             0              0                 1   \n",
       "3             0             0             0              0                 0   \n",
       "4             0             0             0              0                 0   \n",
       "\n",
       "   brand_volvo  brand_nan  not_repaired_unknown  not_repaired_yes  \\\n",
       "0            0          0                     0                 1   \n",
       "1            0          0                     1                 0   \n",
       "2            0          0                     0                 0   \n",
       "3            0          0                     0                 0   \n",
       "4            0          0                     0                 1   \n",
       "\n",
       "   not_repaired_nan  \n",
       "0                 0  \n",
       "1                 0  \n",
       "2                 0  \n",
       "3                 0  \n",
       "4                 0  "
      ]
     },
     "execution_count": 39,
     "metadata": {},
     "output_type": "execute_result"
    }
   ],
   "source": [
    "data_ohe=pd.get_dummies(data, drop_first=True,dummy_na=True)\n",
    "data_ohe.head()"
   ]
  },
  {
   "cell_type": "code",
   "execution_count": 40,
   "metadata": {},
   "outputs": [
    {
     "data": {
      "text/plain": [
       "(290932, 310)"
      ]
     },
     "execution_count": 40,
     "metadata": {},
     "output_type": "execute_result"
    }
   ],
   "source": [
    "data_ohe.shape"
   ]
  },
  {
   "cell_type": "markdown",
   "metadata": {},
   "source": [
    "Con esto, vemos que nuestros DataFrame paso de tener 10 columnas, a 310 columnas (1 por cada tipo de vehiculo, modelo, marca, etc)"
   ]
  },
  {
   "cell_type": "markdown",
   "metadata": {},
   "source": [
    "Como utilizaré **GridSearchCV** para encontrar los mejores hiperparametros de cada modelo, no es necesario separar la data entre data de entrenamiento y data de validación (ya que este metodo lo hace de forma interna). Por lo tanto, solo es necesario separar entre la variable objetivo (target) y las caracteristicas (features). Ademas, como ya se dijo anteriormente, optimizaré el RMSE, por lo que el atributo scoring sera `neg_root_mean_squared_error` (RMSE negativo). Por último, para los tres modelos usaré un valores de validacion cruzada (cv) de 3."
   ]
  },
  {
   "cell_type": "code",
   "execution_count": 41,
   "metadata": {},
   "outputs": [],
   "source": [
    "#Definimos caracteristicas y objetivos\n",
    "features = data_ohe.drop(['price'], axis=1)\n",
    "target = data_ohe['price']"
   ]
  },
  {
   "cell_type": "markdown",
   "metadata": {},
   "source": [
    "#### Modelo de arbol de decisión"
   ]
  },
  {
   "cell_type": "code",
   "execution_count": 42,
   "metadata": {},
   "outputs": [
    {
     "data": {
      "text/html": [
       "<span style=\"font-size: 20px;\">Mejores hiperparámetros(tree): {'max_depth': 15}</span>"
      ],
      "text/plain": [
       "<IPython.core.display.HTML object>"
      ]
     },
     "metadata": {},
     "output_type": "display_data"
    },
    {
     "data": {
      "text/html": [
       "<span style=\"font-size: 20px;\">Mejor puntuación RMSE(tree): 1799.871</span>"
      ],
      "text/plain": [
       "<IPython.core.display.HTML object>"
      ]
     },
     "metadata": {},
     "output_type": "display_data"
    },
    {
     "data": {
      "text/html": [
       "<span style=\"font-size: 20px;\">Tiempo de ejecución(tree): 47.6 segundos</span>"
      ],
      "text/plain": [
       "<IPython.core.display.HTML object>"
      ]
     },
     "metadata": {},
     "output_type": "display_data"
    }
   ],
   "source": [
    "start_time = time.time()\n",
    "\n",
    "#Hiperparametros a probar\n",
    "param_grid_tree = {'max_depth': [1, 5, 10, 15]}\n",
    "#Buscamos los mejores hiperparametros para DecisionTreeRegressor con 3 grupos de validacion (cv=3)\n",
    "grid_search = GridSearchCV(model_tree, param_grid_tree,scoring='neg_root_mean_squared_error', cv=3)\n",
    "grid_search.fit(features, target)\n",
    "best_params_tree = grid_search.best_params_\n",
    "best_score_tree = grid_search.best_score_\n",
    "\n",
    "end_time = time.time()\n",
    "execution_time_tree = end_time - start_time\n",
    "\n",
    "print_mejorado(f\"Mejores hiperparámetros(tree): {best_params_tree}\",20)\n",
    "print_mejorado(f\"Mejor puntuación RMSE(tree): {abs(best_score_tree):.3f}\", 20)\n",
    "print_mejorado(f\"Tiempo de ejecución(tree): {execution_time_tree:.1f} segundos\", 20)"
   ]
  },
  {
   "cell_type": "markdown",
   "metadata": {},
   "source": [
    "#### Modelo de bosques aleatorios"
   ]
  },
  {
   "cell_type": "code",
   "execution_count": 43,
   "metadata": {},
   "outputs": [
    {
     "data": {
      "text/html": [
       "<span style=\"font-size: 20px;\">Mejores hiperparámetros(forest): {'max_depth': 10, 'n_estimators': 10}</span>"
      ],
      "text/plain": [
       "<IPython.core.display.HTML object>"
      ]
     },
     "metadata": {},
     "output_type": "display_data"
    },
    {
     "data": {
      "text/html": [
       "<span style=\"font-size: 20px;\">Mejor puntuación RMSE(forest): 1836.196</span>"
      ],
      "text/plain": [
       "<IPython.core.display.HTML object>"
      ]
     },
     "metadata": {},
     "output_type": "display_data"
    },
    {
     "data": {
      "text/html": [
       "<span style=\"font-size: 20px;\">Tiempo de ejecución(forest): 218.3 segundos</span>"
      ],
      "text/plain": [
       "<IPython.core.display.HTML object>"
      ]
     },
     "metadata": {},
     "output_type": "display_data"
    }
   ],
   "source": [
    "start_time = time.time()\n",
    "\n",
    "#Hiperparametros a probar\n",
    "param_grid_forest = {'n_estimators': [5, 10], 'max_depth': [5, 10]}\n",
    "\n",
    "#Buscamos los mejores hiperparametros para RandomForestRegressor con 3 grupos de validacion (cv=3)\n",
    "grid_search = GridSearchCV(model_forest, param_grid_forest,scoring='neg_root_mean_squared_error', cv=3)\n",
    "grid_search.fit(features, target)\n",
    "best_params_forest = grid_search.best_params_\n",
    "best_score_forest = grid_search.best_score_\n",
    "\n",
    "end_time = time.time()\n",
    "execution_time_forest = end_time - start_time\n",
    "\n",
    "print_mejorado(f\"Mejores hiperparámetros(forest): {best_params_forest}\",20)\n",
    "print_mejorado(f\"Mejor puntuación RMSE(forest): {abs(best_score_forest):.3f}\", 20)\n",
    "print_mejorado(f\"Tiempo de ejecución(forest): {execution_time_forest:.1f} segundos\", 20)"
   ]
  },
  {
   "cell_type": "markdown",
   "metadata": {},
   "source": [
    "#### Modelo de regresión lineal"
   ]
  },
  {
   "cell_type": "code",
   "execution_count": 44,
   "metadata": {},
   "outputs": [
    {
     "data": {
      "text/html": [
       "<span style=\"font-size: 20px;\">Mejores hiperparámetros(linear): {'fit_intercept': True, 'normalize': False}</span>"
      ],
      "text/plain": [
       "<IPython.core.display.HTML object>"
      ]
     },
     "metadata": {},
     "output_type": "display_data"
    },
    {
     "data": {
      "text/html": [
       "<span style=\"font-size: 20px;\">Mejor puntuación RMSE(linear): 2493.842</span>"
      ],
      "text/plain": [
       "<IPython.core.display.HTML object>"
      ]
     },
     "metadata": {},
     "output_type": "display_data"
    },
    {
     "data": {
      "text/html": [
       "<span style=\"font-size: 20px;\">Tiempo de ejecución(linear): 210.8 segundos</span>"
      ],
      "text/plain": [
       "<IPython.core.display.HTML object>"
      ]
     },
     "metadata": {},
     "output_type": "display_data"
    }
   ],
   "source": [
    "start_time = time.time()\n",
    "\n",
    "#Hiperparametros a probar\n",
    "param_grid_linear = {'fit_intercept': [True, False], 'normalize': [True, False]}\n",
    "\n",
    "#Buscamos los mejores hiperparametros para LinearRegression con 3 grupos de validacion (cv=3)\n",
    "grid_search = GridSearchCV(model_linear, param_grid_linear,scoring='neg_root_mean_squared_error', cv=3)\n",
    "grid_search.fit(features, target)\n",
    "best_params_linear = grid_search.best_params_\n",
    "best_score_linear = grid_search.best_score_\n",
    "\n",
    "end_time = time.time()\n",
    "execution_time_lineal = end_time - start_time\n",
    "\n",
    "print_mejorado(f\"Mejores hiperparámetros(linear): {best_params_linear}\",20)\n",
    "print_mejorado(f\"Mejor puntuación RMSE(linear): {abs(best_score_linear):.3f}\", 20)\n",
    "print_mejorado(f\"Tiempo de ejecución(linear): {execution_time_lineal:.1f} segundos\", 20)"
   ]
  },
  {
   "cell_type": "markdown",
   "metadata": {},
   "source": [
    "### Entrenamiento de modelos de potenciación del gradiente"
   ]
  },
  {
   "cell_type": "markdown",
   "metadata": {},
   "source": [
    "A continuación entrenaré 3 modelos de potenciación del gradiente (CatBoost,LightGBM yXGBoost). Para todos los casos usaré **GridSearchCV** para encontrar los mejores hiperparametros y evaluaré los tiempos de entrenamiento para cada uno. Al igual que en el punto anterior como utilizaré **GridSearchCV** no es necesario separar la data entre data de entrenamiento y data de validación, ademas usaré un valor de validacion cruzada (cv) de 3."
   ]
  },
  {
   "cell_type": "markdown",
   "metadata": {},
   "source": [
    "#### Modelo de regresión CatBoost (CatBoostRegressor)"
   ]
  },
  {
   "cell_type": "markdown",
   "metadata": {},
   "source": [
    "Para este modelo no es necesario que la data de entrenamiento este codificada con \"One-Shoot\", sin embargo, es necesario especificar cuales son las columnas categoricas, por lo que crearé una lista con los nombres de estas columnas y se las pasaré como parametro a nuestro modelo. Ademas, optimizaré el RMSE, por lo que el atributo scoring sera `neg_root_mean_squared_error` (RMSE negativo). Finalmente, probaré 5 hiperparametros diferentes, en este caso **learning_rate**, todos con una cantidad de interaciones fija de 200."
   ]
  },
  {
   "cell_type": "code",
   "execution_count": 45,
   "metadata": {},
   "outputs": [],
   "source": [
    "#Definimos caracteristicas y objetivos\n",
    "features = data.drop(['price'], axis=1)\n",
    "target = data['price']"
   ]
  },
  {
   "cell_type": "code",
   "execution_count": 46,
   "metadata": {},
   "outputs": [
    {
     "name": "stdout",
     "output_type": "stream",
     "text": [
      "Fitting 3 folds for each of 5 candidates, totalling 15 fits\n",
      "0:\tlearn: 3454.6812123\ttotal: 542ms\tremaining: 1m 47s\n",
      "50:\tlearn: 1650.5460500\ttotal: 19.9s\tremaining: 58.2s\n",
      "100:\tlearn: 1590.0606906\ttotal: 38.8s\tremaining: 38s\n",
      "150:\tlearn: 1557.9690572\ttotal: 58.4s\tremaining: 19s\n",
      "199:\tlearn: 1533.6118925\ttotal: 1m 17s\tremaining: 0us\n",
      "[CV] END ..................................learning_rate=0.3; total time= 1.3min\n",
      "0:\tlearn: 3462.4212657\ttotal: 480ms\tremaining: 1m 35s\n",
      "50:\tlearn: 1649.2755916\ttotal: 19.5s\tremaining: 56.9s\n",
      "100:\tlearn: 1589.9868330\ttotal: 38.7s\tremaining: 37.9s\n",
      "150:\tlearn: 1557.2626734\ttotal: 57.6s\tremaining: 18.7s\n",
      "199:\tlearn: 1533.5429007\ttotal: 1m 16s\tremaining: 0us\n",
      "[CV] END ..................................learning_rate=0.3; total time= 1.3min\n",
      "0:\tlearn: 3469.1450910\ttotal: 480ms\tremaining: 1m 35s\n",
      "50:\tlearn: 1658.3676759\ttotal: 20s\tremaining: 58.5s\n",
      "100:\tlearn: 1596.9615338\ttotal: 38.9s\tremaining: 38.1s\n",
      "150:\tlearn: 1563.7719963\ttotal: 59.1s\tremaining: 19.2s\n",
      "199:\tlearn: 1542.4209941\ttotal: 1m 19s\tremaining: 0us\n",
      "[CV] END ..................................learning_rate=0.3; total time= 1.3min\n",
      "0:\tlearn: 3222.7182446\ttotal: 481ms\tremaining: 1m 35s\n",
      "50:\tlearn: 1636.7251706\ttotal: 19.7s\tremaining: 57.6s\n",
      "100:\tlearn: 1573.6135981\ttotal: 40.1s\tremaining: 39.3s\n",
      "150:\tlearn: 1540.7077570\ttotal: 59.9s\tremaining: 19.5s\n",
      "199:\tlearn: 1518.4045573\ttotal: 1m 20s\tremaining: 0us\n",
      "[CV] END ..................................learning_rate=0.4; total time= 1.4min\n",
      "0:\tlearn: 3233.0406945\ttotal: 486ms\tremaining: 1m 36s\n",
      "50:\tlearn: 1623.1031030\ttotal: 20.3s\tremaining: 59.2s\n",
      "100:\tlearn: 1567.5469792\ttotal: 39.1s\tremaining: 38.3s\n",
      "150:\tlearn: 1534.1765979\ttotal: 58.4s\tremaining: 18.9s\n",
      "199:\tlearn: 1510.8756445\ttotal: 1m 17s\tremaining: 0us\n",
      "[CV] END ..................................learning_rate=0.4; total time= 1.3min\n",
      "0:\tlearn: 3238.2888973\ttotal: 523ms\tremaining: 1m 44s\n",
      "50:\tlearn: 1640.8009450\ttotal: 20.7s\tremaining: 1m\n",
      "100:\tlearn: 1583.4917450\ttotal: 40.6s\tremaining: 39.8s\n",
      "150:\tlearn: 1553.6262307\ttotal: 1m 1s\tremaining: 19.8s\n",
      "199:\tlearn: 1528.5395371\ttotal: 1m 20s\tremaining: 0us\n",
      "[CV] END ..................................learning_rate=0.4; total time= 1.4min\n",
      "0:\tlearn: 3012.4536533\ttotal: 485ms\tremaining: 1m 36s\n",
      "50:\tlearn: 1633.0633586\ttotal: 19.8s\tremaining: 57.8s\n",
      "100:\tlearn: 1568.7744194\ttotal: 39.9s\tremaining: 39.1s\n",
      "150:\tlearn: 1531.9404896\ttotal: 1m\tremaining: 19.7s\n",
      "199:\tlearn: 1506.7171883\ttotal: 1m 19s\tremaining: 0us\n",
      "[CV] END ..................................learning_rate=0.5; total time= 1.4min\n",
      "0:\tlearn: 3025.3662317\ttotal: 485ms\tremaining: 1m 36s\n",
      "50:\tlearn: 1626.4009614\ttotal: 20.4s\tremaining: 59.7s\n",
      "100:\tlearn: 1560.7456444\ttotal: 39.7s\tremaining: 38.9s\n",
      "150:\tlearn: 1526.9563909\ttotal: 59.6s\tremaining: 19.3s\n",
      "199:\tlearn: 1501.5761877\ttotal: 1m 19s\tremaining: 0us\n",
      "[CV] END ..................................learning_rate=0.5; total time= 1.3min\n",
      "0:\tlearn: 3029.2086038\ttotal: 484ms\tremaining: 1m 36s\n",
      "50:\tlearn: 1627.0951914\ttotal: 19.8s\tremaining: 57.9s\n",
      "100:\tlearn: 1567.7717063\ttotal: 39s\tremaining: 38.2s\n",
      "150:\tlearn: 1535.8428604\ttotal: 58.4s\tremaining: 19s\n",
      "199:\tlearn: 1510.3955053\ttotal: 1m 17s\tremaining: 0us\n",
      "[CV] END ..................................learning_rate=0.5; total time= 1.3min\n",
      "0:\tlearn: 2828.7301710\ttotal: 492ms\tremaining: 1m 37s\n",
      "50:\tlearn: 1619.6316044\ttotal: 20s\tremaining: 58.4s\n",
      "100:\tlearn: 1561.2315858\ttotal: 39.4s\tremaining: 38.7s\n",
      "150:\tlearn: 1524.7079509\ttotal: 58.9s\tremaining: 19.1s\n",
      "199:\tlearn: 1501.5585795\ttotal: 1m 17s\tremaining: 0us\n",
      "[CV] END ..................................learning_rate=0.6; total time= 1.3min\n",
      "0:\tlearn: 2844.1566147\ttotal: 483ms\tremaining: 1m 36s\n",
      "50:\tlearn: 1619.1070869\ttotal: 19.8s\tremaining: 57.8s\n",
      "100:\tlearn: 1556.0913143\ttotal: 38.3s\tremaining: 37.6s\n",
      "150:\tlearn: 1518.3286883\ttotal: 58.1s\tremaining: 18.9s\n",
      "199:\tlearn: 1494.8051786\ttotal: 1m 17s\tremaining: 0us\n",
      "[CV] END ..................................learning_rate=0.6; total time= 1.3min\n",
      "0:\tlearn: 2846.7062944\ttotal: 483ms\tremaining: 1m 36s\n",
      "50:\tlearn: 1628.0158648\ttotal: 19.9s\tremaining: 58.3s\n",
      "100:\tlearn: 1566.6145229\ttotal: 39.6s\tremaining: 38.8s\n",
      "150:\tlearn: 1529.4046216\ttotal: 59.6s\tremaining: 19.3s\n",
      "199:\tlearn: 1504.9958637\ttotal: 1m 18s\tremaining: 0us\n",
      "[CV] END ..................................learning_rate=0.6; total time= 1.3min\n",
      "0:\tlearn: 2677.0180872\ttotal: 471ms\tremaining: 1m 33s\n",
      "50:\tlearn: 1617.5282749\ttotal: 20.4s\tremaining: 59.5s\n",
      "100:\tlearn: 1548.8004238\ttotal: 39.6s\tremaining: 38.9s\n",
      "150:\tlearn: 1520.2099151\ttotal: 59.4s\tremaining: 19.3s\n",
      "199:\tlearn: 1494.9051116\ttotal: 1m 18s\tremaining: 0us\n",
      "[CV] END ..................................learning_rate=0.7; total time= 1.3min\n",
      "0:\tlearn: 2694.7562075\ttotal: 484ms\tremaining: 1m 36s\n",
      "50:\tlearn: 1610.2967075\ttotal: 20.4s\tremaining: 59.6s\n",
      "100:\tlearn: 1550.5715862\ttotal: 39.6s\tremaining: 38.8s\n",
      "150:\tlearn: 1514.1563499\ttotal: 59.3s\tremaining: 19.2s\n",
      "199:\tlearn: 1488.3158574\ttotal: 1m 18s\tremaining: 0us\n",
      "[CV] END ..................................learning_rate=0.7; total time= 1.3min\n",
      "0:\tlearn: 2696.1846597\ttotal: 486ms\tremaining: 1m 36s\n",
      "50:\tlearn: 1626.7976673\ttotal: 19.9s\tremaining: 58.1s\n",
      "100:\tlearn: 1560.3809843\ttotal: 39.4s\tremaining: 38.6s\n",
      "150:\tlearn: 1525.4304649\ttotal: 58.8s\tremaining: 19.1s\n",
      "199:\tlearn: 1502.3106912\ttotal: 1m 17s\tremaining: 0us\n",
      "[CV] END ..................................learning_rate=0.7; total time= 1.3min\n",
      "0:\tlearn: 3019.1037414\ttotal: 666ms\tremaining: 2m 12s\n",
      "50:\tlearn: 1625.3275275\ttotal: 30.7s\tremaining: 1m 29s\n",
      "100:\tlearn: 1569.6007892\ttotal: 1m\tremaining: 59.3s\n",
      "150:\tlearn: 1540.2650391\ttotal: 1m 30s\tremaining: 29.5s\n",
      "199:\tlearn: 1518.4131550\ttotal: 2m\tremaining: 0us\n"
     ]
    },
    {
     "data": {
      "text/html": [
       "<span style=\"font-size: 20px;\">Mejores hiperparámetros(Cat): {'learning_rate': 0.5}</span>"
      ],
      "text/plain": [
       "<IPython.core.display.HTML object>"
      ]
     },
     "metadata": {},
     "output_type": "display_data"
    },
    {
     "data": {
      "text/html": [
       "<span style=\"font-size: 20px;\">Mejor puntuación RMSE(Cat): 1577.177</span>"
      ],
      "text/plain": [
       "<IPython.core.display.HTML object>"
      ]
     },
     "metadata": {},
     "output_type": "display_data"
    },
    {
     "data": {
      "text/html": [
       "<span style=\"font-size: 20px;\">Tiempo de ejecución(Cat): 1318.9 segundos</span>"
      ],
      "text/plain": [
       "<IPython.core.display.HTML object>"
      ]
     },
     "metadata": {},
     "output_type": "display_data"
    }
   ],
   "source": [
    "start_time = time.time()\n",
    "\n",
    "categoric_features = ['vehicle_type','gearbox','model','fuel_type','brand','not_repaired']\n",
    "\n",
    "model_cat = CatBoostRegressor(loss_function=\"RMSE\", iterations=200, random_seed=12345)\n",
    "\n",
    "param_grid_cat = {'learning_rate': [0.3, 0.4, 0.5, 0.6, 0.7]}\n",
    "\n",
    "#Buscamos los mejores hiperparametros para CatBoostRegressor con 3 grupos de validacion (cv=3)\n",
    "grid_search = GridSearchCV(model_cat, param_grid_cat,scoring='neg_root_mean_squared_error', cv=3,verbose=2)\n",
    "\n",
    "grid_search.fit(features, target, cat_features=categoric_features,verbose=50)\n",
    "best_params_cat = grid_search.best_params_\n",
    "best_score_cat = grid_search.best_score_\n",
    "\n",
    "end_time = time.time()\n",
    "execution_time_cat = end_time - start_time\n",
    "\n",
    "print_mejorado(f\"Mejores hiperparámetros(Cat): {best_params_cat}\",20)\n",
    "print_mejorado(f\"Mejor puntuación RMSE(Cat): {abs(best_score_cat):.3f}\", 20)\n",
    "print_mejorado(f\"Tiempo de ejecución(Cat): {execution_time_cat:.1f} segundos\", 20)"
   ]
  },
  {
   "cell_type": "markdown",
   "metadata": {},
   "source": [
    "#### Modelo de regresión LightGBM (LGBMRegressor)"
   ]
  },
  {
   "cell_type": "markdown",
   "metadata": {},
   "source": [
    "Para este modelo tampoco es necesario que la data de entrenamiento este codificada con \"One-Shoot\". Ademas, optimizaré el RMSE, por lo que el atributo scoring sera `neg_root_mean_squared_error` (RMSE negativo). Finalmente, probaré 4 combinaciones hiperparametros diferentes, en este caso **n_estimators**(100,200) y **learning_rate**(0.05,0.1)."
   ]
  },
  {
   "cell_type": "code",
   "execution_count": 47,
   "metadata": {},
   "outputs": [],
   "source": [
    "#Definimos caracteristicas y objetivos\n",
    "features = data.drop(['price'], axis=1)\n",
    "target = data['price']"
   ]
  },
  {
   "cell_type": "code",
   "execution_count": 48,
   "metadata": {},
   "outputs": [
    {
     "name": "stdout",
     "output_type": "stream",
     "text": [
      "Fitting 3 folds for each of 4 candidates, totalling 12 fits\n",
      "[CV] END ...............learning_rate=0.25, n_estimators=100; total time=   3.8s\n",
      "[CV] END ...............learning_rate=0.25, n_estimators=100; total time=   3.6s\n",
      "[CV] END ...............learning_rate=0.25, n_estimators=100; total time=   4.7s\n",
      "[CV] END ...............learning_rate=0.25, n_estimators=200; total time=   6.3s\n",
      "[CV] END ...............learning_rate=0.25, n_estimators=200; total time=   6.1s\n",
      "[CV] END ...............learning_rate=0.25, n_estimators=200; total time=   5.9s\n",
      "[CV] END ................learning_rate=0.5, n_estimators=100; total time=   3.6s\n",
      "[CV] END ................learning_rate=0.5, n_estimators=100; total time=   3.1s\n",
      "[CV] END ................learning_rate=0.5, n_estimators=100; total time=   3.5s\n",
      "[CV] END ................learning_rate=0.5, n_estimators=200; total time=   5.5s\n",
      "[CV] END ................learning_rate=0.5, n_estimators=200; total time=   5.6s\n",
      "[CV] END ................learning_rate=0.5, n_estimators=200; total time=   6.1s\n"
     ]
    },
    {
     "data": {
      "text/html": [
       "<span style=\"font-size: 20px;\">Mejores hiperparámetros(LGB): {'learning_rate': 0.25, 'n_estimators': 200}</span>"
      ],
      "text/plain": [
       "<IPython.core.display.HTML object>"
      ]
     },
     "metadata": {},
     "output_type": "display_data"
    },
    {
     "data": {
      "text/html": [
       "<span style=\"font-size: 20px;\">Mejor puntuación RMSE(LGB): 1527.426</span>"
      ],
      "text/plain": [
       "<IPython.core.display.HTML object>"
      ]
     },
     "metadata": {},
     "output_type": "display_data"
    },
    {
     "data": {
      "text/html": [
       "<span style=\"font-size: 20px;\">Tiempo de ejecución(LGB): 64.6 segundos</span>"
      ],
      "text/plain": [
       "<IPython.core.display.HTML object>"
      ]
     },
     "metadata": {},
     "output_type": "display_data"
    }
   ],
   "source": [
    "start_time = time.time()\n",
    "\n",
    "model_lgb = lgb.LGBMRegressor(boosting_type='gbdt', objective='regression', num_leaves=31)\n",
    "param_grid_lgb = {'n_estimators': [100, 200], 'learning_rate': [0.25, 0.5]}\n",
    "\n",
    "#Buscamos los mejores hiperparametros para LGBMRegressor con 3 grupos de validacion (cv=3)\n",
    "grid_search = GridSearchCV(model_lgb, param_grid_lgb,scoring='neg_root_mean_squared_error', cv=3,verbose=2)\n",
    "\n",
    "grid_search.fit(features, target)\n",
    "best_params_lgb = grid_search.best_params_\n",
    "best_score_lgb = grid_search.best_score_\n",
    "\n",
    "end_time = time.time()\n",
    "execution_time_lgb = end_time - start_time\n",
    "\n",
    "print_mejorado(f\"Mejores hiperparámetros(LGB): {best_params_lgb}\",20)\n",
    "print_mejorado(f\"Mejor puntuación RMSE(LGB): {abs(best_score_lgb):.3f}\", 20)\n",
    "print_mejorado(f\"Tiempo de ejecución(LGB): {execution_time_lgb:.1f} segundos\", 20)"
   ]
  },
  {
   "cell_type": "markdown",
   "metadata": {},
   "source": [
    "#### Modelo de regresión XGBoost (XGBRFRegressor)"
   ]
  },
  {
   "cell_type": "markdown",
   "metadata": {},
   "source": [
    "Para este modelo es necesario que la data de entrenamiento este codificada con \"One-Shoot\". Ademas, optimizaré el RMSE, por lo que el atributo scoring sera `neg_root_mean_squared_error` (RMSE negativo). \n",
    "Finalmente, probaré 2 hiperparametros diferentes, en este caso **learning_rate**(0.25,0.5)."
   ]
  },
  {
   "cell_type": "code",
   "execution_count": 49,
   "metadata": {},
   "outputs": [],
   "source": [
    "#Definimos caracteristicas y objetivos\n",
    "features = data_ohe.drop(['price'], axis=1)\n",
    "target = data_ohe['price']"
   ]
  },
  {
   "cell_type": "code",
   "execution_count": 50,
   "metadata": {},
   "outputs": [
    {
     "name": "stdout",
     "output_type": "stream",
     "text": [
      "Fitting 3 folds for each of 2 candidates, totalling 6 fits\n",
      "[CV] END .................................learning_rate=0.25; total time= 5.2min\n",
      "[CV] END .................................learning_rate=0.25; total time= 5.2min\n",
      "[CV] END .................................learning_rate=0.25; total time= 5.1min\n",
      "[CV] END ..................................learning_rate=0.5; total time= 5.0min\n",
      "[CV] END ..................................learning_rate=0.5; total time= 5.0min\n",
      "[CV] END ..................................learning_rate=0.5; total time= 5.1min\n"
     ]
    },
    {
     "data": {
      "text/html": [
       "<span style=\"font-size: 20px;\">Mejores hiperparámetros(XGB): {'learning_rate': 0.5}</span>"
      ],
      "text/plain": [
       "<IPython.core.display.HTML object>"
      ]
     },
     "metadata": {},
     "output_type": "display_data"
    },
    {
     "data": {
      "text/html": [
       "<span style=\"font-size: 20px;\">Mejor puntuación RMSE(XGB): 3556.234</span>"
      ],
      "text/plain": [
       "<IPython.core.display.HTML object>"
      ]
     },
     "metadata": {},
     "output_type": "display_data"
    },
    {
     "data": {
      "text/html": [
       "<span style=\"font-size: 20px;\">Tiempo de ejecución(XGB): 2302.2 segundos</span>"
      ],
      "text/plain": [
       "<IPython.core.display.HTML object>"
      ]
     },
     "metadata": {},
     "output_type": "display_data"
    }
   ],
   "source": [
    "start_time = time.time()\n",
    "\n",
    "model_xgb =xgb.XGBRFRegressor(eval_metric=mean_squared_error)\n",
    "\n",
    "param_grid_xgb = {'learning_rate': [0.25, 0.5]}\n",
    "\n",
    "#Buscamos los mejores hiperparametros para XGBRFRegressor con 3 grupos de validacion (cv=3)\n",
    "grid_search = GridSearchCV(model_xgb, param_grid_xgb,scoring='neg_root_mean_squared_error', cv=3,verbose=2)\n",
    "\n",
    "grid_search.fit(features, target)\n",
    "best_params_xgb = grid_search.best_params_\n",
    "best_score_xgb = grid_search.best_score_\n",
    "\n",
    "end_time = time.time()\n",
    "execution_time_xgb = end_time - start_time\n",
    "\n",
    "print_mejorado(f\"Mejores hiperparámetros(XGB): {best_params_xgb}\",20)\n",
    "print_mejorado(f\"Mejor puntuación RMSE(XGB): {abs(best_score_xgb):.3f}\", 20)\n",
    "print_mejorado(f\"Tiempo de ejecución(XGB): {execution_time_xgb:.1f} segundos\", 20)"
   ]
  },
  {
   "cell_type": "markdown",
   "metadata": {},
   "source": [
    "## Análisis y comparación de los modelos"
   ]
  },
  {
   "cell_type": "markdown",
   "metadata": {},
   "source": [
    "Una vez obtenidos los mejores hiperparametros para cada modelo, tanto clasicos como de potenciación del gradiente. Procederé a realizar una analisis de desempeño, tiempo de entrenamiento y tiempo de predicción para cada uno de ellos."
   ]
  },
  {
   "cell_type": "markdown",
   "metadata": {},
   "source": [
    "### Modelos clásicos de regresión"
   ]
  },
  {
   "cell_type": "markdown",
   "metadata": {},
   "source": [
    "Recordamos los mejor hiperparametros obtenidos para cada modelo."
   ]
  },
  {
   "cell_type": "code",
   "execution_count": 51,
   "metadata": {},
   "outputs": [
    {
     "data": {
      "text/html": [
       "<span style=\"font-size: 20px;\">Hiperparametros tree: {'max_depth': 15}</span>"
      ],
      "text/plain": [
       "<IPython.core.display.HTML object>"
      ]
     },
     "metadata": {},
     "output_type": "display_data"
    },
    {
     "data": {
      "text/html": [
       "<span style=\"font-size: 20px;\">Hiperparametros tree: {'max_depth': 10, 'n_estimators': 10}</span>"
      ],
      "text/plain": [
       "<IPython.core.display.HTML object>"
      ]
     },
     "metadata": {},
     "output_type": "display_data"
    },
    {
     "data": {
      "text/html": [
       "<span style=\"font-size: 20px;\">Hiperparametros tree: {'fit_intercept': True, 'normalize': False}</span>"
      ],
      "text/plain": [
       "<IPython.core.display.HTML object>"
      ]
     },
     "metadata": {},
     "output_type": "display_data"
    }
   ],
   "source": [
    "print_mejorado(f\"Hiperparametros tree: {best_params_tree}\",20)\n",
    "print_mejorado(f\"Hiperparametros tree: {best_params_forest}\",20)\n",
    "print_mejorado(f\"Hiperparametros tree: {best_params_linear}\",20)"
   ]
  },
  {
   "cell_type": "markdown",
   "metadata": {},
   "source": [
    "Inicializamos los modelos con sus mejores hiperparametros."
   ]
  },
  {
   "cell_type": "code",
   "execution_count": 52,
   "metadata": {},
   "outputs": [],
   "source": [
    "model_tree = DecisionTreeRegressor(max_depth=15)\n",
    "model_forest = RandomForestRegressor(max_depth=10,n_estimators=10)\n",
    "model_linear = LinearRegression(fit_intercept=True, normalize=False)"
   ]
  },
  {
   "cell_type": "markdown",
   "metadata": {},
   "source": [
    "#### Modelo de arbol de decisión"
   ]
  },
  {
   "cell_type": "code",
   "execution_count": 53,
   "metadata": {},
   "outputs": [
    {
     "data": {
      "text/html": [
       "<span style=\"font-size: 30px;\">Modelo Arbol de Decisión</span>"
      ],
      "text/plain": [
       "<IPython.core.display.HTML object>"
      ]
     },
     "metadata": {},
     "output_type": "display_data"
    },
    {
     "data": {
      "text/html": [
       "<span style=\"font-size: 20px;\">Tiempo de entrenamiento: 5.7</span>"
      ],
      "text/plain": [
       "<IPython.core.display.HTML object>"
      ]
     },
     "metadata": {},
     "output_type": "display_data"
    },
    {
     "data": {
      "text/html": [
       "<span style=\"font-size: 20px;\">Tiempo de predicción: 0.1</span>"
      ],
      "text/plain": [
       "<IPython.core.display.HTML object>"
      ]
     },
     "metadata": {},
     "output_type": "display_data"
    },
    {
     "data": {
      "text/html": [
       "<span style=\"font-size: 20px;\">Desempeño (RMSE): 1787.7</span>"
      ],
      "text/plain": [
       "<IPython.core.display.HTML object>"
      ]
     },
     "metadata": {},
     "output_type": "display_data"
    }
   ],
   "source": [
    "features_train, features_valid, target_train, target_valid = train_test_split(\n",
    "    data_ohe.drop('price', axis=1), data_ohe['price'], test_size=0.25, random_state=12345\n",
    ")\n",
    "\n",
    "start_time = time.time()\n",
    "model_tree.fit(features_train,target_train)\n",
    "end_time = time.time()\n",
    "train_time_tree = end_time - start_time\n",
    "\n",
    "start_time = time.time()\n",
    "predict_valid=model_tree.predict(features_valid)\n",
    "end_time = time.time()\n",
    "predict_time_tree = end_time - start_time\n",
    "\n",
    "rmse_tree =mean_squared_error(target_valid,predict_valid,squared=False)\n",
    "\n",
    "print_mejorado(f\"Modelo Arbol de Decisión\",30)\n",
    "print_mejorado(f\"Tiempo de entrenamiento: {train_time_tree:.1f}\",20)\n",
    "print_mejorado(f\"Tiempo de predicción: {predict_time_tree:.1f}\",20)\n",
    "print_mejorado(f\"Desempeño (RMSE): {rmse_tree:.1f}\",20)"
   ]
  },
  {
   "cell_type": "markdown",
   "metadata": {},
   "source": [
    "#### Modelo de bosques aleatorios"
   ]
  },
  {
   "cell_type": "code",
   "execution_count": 54,
   "metadata": {},
   "outputs": [
    {
     "data": {
      "text/html": [
       "<span style=\"font-size: 30px;\">Modelo Bosque Aleatorio</span>"
      ],
      "text/plain": [
       "<IPython.core.display.HTML object>"
      ]
     },
     "metadata": {},
     "output_type": "display_data"
    },
    {
     "data": {
      "text/html": [
       "<span style=\"font-size: 20px;\">Tiempo de entrenamiento: 27.7</span>"
      ],
      "text/plain": [
       "<IPython.core.display.HTML object>"
      ]
     },
     "metadata": {},
     "output_type": "display_data"
    },
    {
     "data": {
      "text/html": [
       "<span style=\"font-size: 20px;\">Tiempo de predicción: 0.2</span>"
      ],
      "text/plain": [
       "<IPython.core.display.HTML object>"
      ]
     },
     "metadata": {},
     "output_type": "display_data"
    },
    {
     "data": {
      "text/html": [
       "<span style=\"font-size: 20px;\">Desempeño (RMSE): 1830.9</span>"
      ],
      "text/plain": [
       "<IPython.core.display.HTML object>"
      ]
     },
     "metadata": {},
     "output_type": "display_data"
    }
   ],
   "source": [
    "features_train, features_valid, target_train, target_valid = train_test_split(\n",
    "    data_ohe.drop('price', axis=1), data_ohe['price'], test_size=0.25, random_state=12345\n",
    ")\n",
    "\n",
    "start_time = time.time()\n",
    "model_forest.fit(features_train,target_train)\n",
    "end_time = time.time()\n",
    "train_time_forest = end_time - start_time\n",
    "\n",
    "\n",
    "start_time = time.time()\n",
    "predict_valid=model_forest.predict(features_valid)\n",
    "end_time = time.time()\n",
    "predict_time_forest = end_time - start_time\n",
    "\n",
    "rmse_forest =mean_squared_error(target_valid,predict_valid,squared=False)\n",
    "\n",
    "print_mejorado(f\"Modelo Bosque Aleatorio\",30)\n",
    "print_mejorado(f\"Tiempo de entrenamiento: {train_time_forest:.1f}\",20)\n",
    "print_mejorado(f\"Tiempo de predicción: {predict_time_forest:.1f}\",20)\n",
    "print_mejorado(f\"Desempeño (RMSE): {rmse_forest:.1f}\",20)"
   ]
  },
  {
   "cell_type": "markdown",
   "metadata": {},
   "source": [
    "#### Modelo de regresión lineal"
   ]
  },
  {
   "cell_type": "code",
   "execution_count": 55,
   "metadata": {},
   "outputs": [
    {
     "data": {
      "text/html": [
       "<span style=\"font-size: 30px;\">Modelo Regresión Lineal</span>"
      ],
      "text/plain": [
       "<IPython.core.display.HTML object>"
      ]
     },
     "metadata": {},
     "output_type": "display_data"
    },
    {
     "data": {
      "text/html": [
       "<span style=\"font-size: 20px;\">Tiempo de entrenamiento: 17.4</span>"
      ],
      "text/plain": [
       "<IPython.core.display.HTML object>"
      ]
     },
     "metadata": {},
     "output_type": "display_data"
    },
    {
     "data": {
      "text/html": [
       "<span style=\"font-size: 20px;\">Tiempo de predicción: 0.2</span>"
      ],
      "text/plain": [
       "<IPython.core.display.HTML object>"
      ]
     },
     "metadata": {},
     "output_type": "display_data"
    },
    {
     "data": {
      "text/html": [
       "<span style=\"font-size: 20px;\">Desempeño (RMSE): 2498.7</span>"
      ],
      "text/plain": [
       "<IPython.core.display.HTML object>"
      ]
     },
     "metadata": {},
     "output_type": "display_data"
    }
   ],
   "source": [
    "features_train, features_valid, target_train, target_valid = train_test_split(\n",
    "    data_ohe.drop('price', axis=1), data_ohe['price'], test_size=0.25, random_state=12345\n",
    ")\n",
    "\n",
    "start_time = time.time()\n",
    "model_linear.fit(features_train,target_train)\n",
    "end_time = time.time()\n",
    "train_time_linear = end_time - start_time\n",
    "\n",
    "\n",
    "start_time = time.time()\n",
    "predict_valid=model_linear.predict(features_valid)\n",
    "end_time = time.time()\n",
    "predict_time_linear = end_time - start_time\n",
    "\n",
    "rmse_linear =mean_squared_error(target_valid,predict_valid,squared=False)\n",
    "\n",
    "print_mejorado(f\"Modelo Regresión Lineal\",30)\n",
    "print_mejorado(f\"Tiempo de entrenamiento: {train_time_linear:.1f}\",20)\n",
    "print_mejorado(f\"Tiempo de predicción: {predict_time_linear:.1f}\",20)\n",
    "print_mejorado(f\"Desempeño (RMSE): {rmse_linear:.1f}\",20)"
   ]
  },
  {
   "cell_type": "markdown",
   "metadata": {},
   "source": [
    "### Modelos de potenciación del grandiente"
   ]
  },
  {
   "cell_type": "markdown",
   "metadata": {},
   "source": [
    "Recordamos los mejor hiperparametros obtenidos para cada modelo."
   ]
  },
  {
   "cell_type": "code",
   "execution_count": 56,
   "metadata": {},
   "outputs": [
    {
     "data": {
      "text/html": [
       "<span style=\"font-size: 20px;\">Hiperparametros CatBoost: {'learning_rate': 0.5}</span>"
      ],
      "text/plain": [
       "<IPython.core.display.HTML object>"
      ]
     },
     "metadata": {},
     "output_type": "display_data"
    },
    {
     "data": {
      "text/html": [
       "<span style=\"font-size: 20px;\">Hiperparametros LightGBM: {'learning_rate': 0.25, 'n_estimators': 200}</span>"
      ],
      "text/plain": [
       "<IPython.core.display.HTML object>"
      ]
     },
     "metadata": {},
     "output_type": "display_data"
    },
    {
     "data": {
      "text/html": [
       "<span style=\"font-size: 20px;\">Hiperparametros XGBoost: {'learning_rate': 0.5}</span>"
      ],
      "text/plain": [
       "<IPython.core.display.HTML object>"
      ]
     },
     "metadata": {},
     "output_type": "display_data"
    }
   ],
   "source": [
    "print_mejorado(f\"Hiperparametros CatBoost: {best_params_cat}\",20)\n",
    "print_mejorado(f\"Hiperparametros LightGBM: {best_params_lgb}\",20)\n",
    "print_mejorado(f\"Hiperparametros XGBoost: {best_params_xgb}\",20)"
   ]
  },
  {
   "cell_type": "markdown",
   "metadata": {},
   "source": [
    "Inicializamos los modelos con sus mejores hiperparametros."
   ]
  },
  {
   "cell_type": "code",
   "execution_count": 57,
   "metadata": {},
   "outputs": [],
   "source": [
    "model_cat = CatBoostRegressor(loss_function=\"RMSE\", iterations=200, random_seed=12345, learning_rate=0.5)\n",
    "model_lgb = lgb.LGBMRegressor(boosting_type='gbdt', objective='regression', num_leaves=31,learning_rate= 0.25, n_estimators=200)\n",
    "model_xgb = xgb.XGBRFRegressor(learning_rate=0.5, eval_metric=mean_squared_error)"
   ]
  },
  {
   "cell_type": "markdown",
   "metadata": {},
   "source": [
    "#### Modelo CatBoost"
   ]
  },
  {
   "cell_type": "code",
   "execution_count": 58,
   "metadata": {},
   "outputs": [
    {
     "name": "stdout",
     "output_type": "stream",
     "text": [
      "0:\tlearn: 3025.2404972\ttotal: 554ms\tremaining: 1m 50s\n",
      "50:\tlearn: 1625.7912855\ttotal: 23.2s\tremaining: 1m 7s\n",
      "100:\tlearn: 1570.1383419\ttotal: 45.6s\tremaining: 44.7s\n",
      "150:\tlearn: 1536.9881501\ttotal: 1m 7s\tremaining: 22s\n",
      "199:\tlearn: 1511.6332746\ttotal: 1m 29s\tremaining: 0us\n"
     ]
    },
    {
     "data": {
      "text/html": [
       "<span style=\"font-size: 30px;\">Modelo CatBoost</span>"
      ],
      "text/plain": [
       "<IPython.core.display.HTML object>"
      ]
     },
     "metadata": {},
     "output_type": "display_data"
    },
    {
     "data": {
      "text/html": [
       "<span style=\"font-size: 20px;\">Tiempo de entrenamiento: 90.4</span>"
      ],
      "text/plain": [
       "<IPython.core.display.HTML object>"
      ]
     },
     "metadata": {},
     "output_type": "display_data"
    },
    {
     "data": {
      "text/html": [
       "<span style=\"font-size: 20px;\">Tiempo de predicción: 0.3</span>"
      ],
      "text/plain": [
       "<IPython.core.display.HTML object>"
      ]
     },
     "metadata": {},
     "output_type": "display_data"
    },
    {
     "data": {
      "text/html": [
       "<span style=\"font-size: 20px;\">Desempeño (RMSE): 1570.6</span>"
      ],
      "text/plain": [
       "<IPython.core.display.HTML object>"
      ]
     },
     "metadata": {},
     "output_type": "display_data"
    }
   ],
   "source": [
    "features_train, features_valid, target_train, target_valid = train_test_split(\n",
    "    data.drop('price', axis=1), data['price'], test_size=0.25, random_state=12345\n",
    ")\n",
    "\n",
    "categoric_features = ['vehicle_type','gearbox','model','fuel_type','brand','not_repaired']\n",
    "\n",
    "start_time = time.time()\n",
    "model_cat.fit(features_train,target_train,cat_features=categoric_features,verbose=50)\n",
    "end_time = time.time()\n",
    "train_time_cat = end_time - start_time\n",
    "\n",
    "start_time = time.time()\n",
    "predict_valid=model_cat.predict(features_valid)\n",
    "end_time = time.time()\n",
    "predict_time_cat = end_time - start_time\n",
    "\n",
    "rmse_cat =mean_squared_error(target_valid,predict_valid,squared=False)\n",
    "\n",
    "print_mejorado(f\"Modelo CatBoost\",30)\n",
    "print_mejorado(f\"Tiempo de entrenamiento: {train_time_cat:.1f}\",20)\n",
    "print_mejorado(f\"Tiempo de predicción: {predict_time_cat:.1f}\",20)\n",
    "print_mejorado(f\"Desempeño (RMSE): {rmse_cat:.1f}\",20)"
   ]
  },
  {
   "cell_type": "markdown",
   "metadata": {},
   "source": [
    "#### Modelo LightGBM"
   ]
  },
  {
   "cell_type": "code",
   "execution_count": 59,
   "metadata": {},
   "outputs": [
    {
     "data": {
      "text/html": [
       "<span style=\"font-size: 30px;\">Modelo LightGBM</span>"
      ],
      "text/plain": [
       "<IPython.core.display.HTML object>"
      ]
     },
     "metadata": {},
     "output_type": "display_data"
    },
    {
     "data": {
      "text/html": [
       "<span style=\"font-size: 20px;\">Tiempo de entrenamiento: 5.3</span>"
      ],
      "text/plain": [
       "<IPython.core.display.HTML object>"
      ]
     },
     "metadata": {},
     "output_type": "display_data"
    },
    {
     "data": {
      "text/html": [
       "<span style=\"font-size: 20px;\">Tiempo de predicción: 1.1</span>"
      ],
      "text/plain": [
       "<IPython.core.display.HTML object>"
      ]
     },
     "metadata": {},
     "output_type": "display_data"
    },
    {
     "data": {
      "text/html": [
       "<span style=\"font-size: 20px;\">Desempeño (RMSE): 1521.0</span>"
      ],
      "text/plain": [
       "<IPython.core.display.HTML object>"
      ]
     },
     "metadata": {},
     "output_type": "display_data"
    }
   ],
   "source": [
    "features_train, features_valid, target_train, target_valid = train_test_split(\n",
    "    data.drop('price', axis=1), data['price'], test_size=0.25, random_state=12345\n",
    ")\n",
    "\n",
    "start_time = time.time()\n",
    "model_lgb.fit(features_train,target_train)\n",
    "end_time = time.time()\n",
    "train_time_lgb = end_time - start_time\n",
    "\n",
    "\n",
    "start_time = time.time()\n",
    "predict_valid=model_lgb.predict(features_valid)\n",
    "end_time = time.time()\n",
    "predict_time_lgb = end_time - start_time\n",
    "\n",
    "rmse_lgb =mean_squared_error(target_valid,predict_valid,squared=False)\n",
    "\n",
    "print_mejorado(f\"Modelo LightGBM\",30)\n",
    "print_mejorado(f\"Tiempo de entrenamiento: {train_time_lgb:.1f}\",20)\n",
    "print_mejorado(f\"Tiempo de predicción: {predict_time_lgb:.1f}\",20)\n",
    "print_mejorado(f\"Desempeño (RMSE): {rmse_lgb:.1f}\",20)"
   ]
  },
  {
   "cell_type": "markdown",
   "metadata": {},
   "source": [
    "#### Modelo XGBoost"
   ]
  },
  {
   "cell_type": "code",
   "execution_count": 60,
   "metadata": {},
   "outputs": [
    {
     "data": {
      "text/html": [
       "<span style=\"font-size: 30px;\">Modelo XGBoost</span>"
      ],
      "text/plain": [
       "<IPython.core.display.HTML object>"
      ]
     },
     "metadata": {},
     "output_type": "display_data"
    },
    {
     "data": {
      "text/html": [
       "<span style=\"font-size: 20px;\">Tiempo de entrenamiento: 339.1</span>"
      ],
      "text/plain": [
       "<IPython.core.display.HTML object>"
      ]
     },
     "metadata": {},
     "output_type": "display_data"
    },
    {
     "data": {
      "text/html": [
       "<span style=\"font-size: 20px;\">Tiempo de predicción: 1.2</span>"
      ],
      "text/plain": [
       "<IPython.core.display.HTML object>"
      ]
     },
     "metadata": {},
     "output_type": "display_data"
    },
    {
     "data": {
      "text/html": [
       "<span style=\"font-size: 20px;\">Desempeño (RMSE): 3560.3</span>"
      ],
      "text/plain": [
       "<IPython.core.display.HTML object>"
      ]
     },
     "metadata": {},
     "output_type": "display_data"
    }
   ],
   "source": [
    "features_train, features_valid, target_train, target_valid = train_test_split(\n",
    "    data_ohe.drop('price', axis=1), data_ohe['price'], test_size=0.25, random_state=12345\n",
    ")\n",
    "\n",
    "start_time = time.time()\n",
    "model_xgb.fit(features_train,target_train)\n",
    "end_time = time.time()\n",
    "train_time_xgb = end_time - start_time\n",
    "\n",
    "\n",
    "start_time = time.time()\n",
    "predict_valid=model_xgb.predict(features_valid)\n",
    "end_time = time.time()\n",
    "predict_time_xgb = end_time - start_time\n",
    "\n",
    "rmse_xgb =mean_squared_error(target_valid,predict_valid,squared=False)\n",
    "\n",
    "print_mejorado(f\"Modelo XGBoost\",30)\n",
    "print_mejorado(f\"Tiempo de entrenamiento: {train_time_xgb:.1f}\",20)\n",
    "print_mejorado(f\"Tiempo de predicción: {predict_time_xgb:.1f}\",20)\n",
    "print_mejorado(f\"Desempeño (RMSE): {rmse_xgb:.1f}\",20)"
   ]
  },
  {
   "cell_type": "markdown",
   "metadata": {},
   "source": [
    "### Comparación final de todos los modelos"
   ]
  },
  {
   "cell_type": "code",
   "execution_count": 61,
   "metadata": {},
   "outputs": [
    {
     "data": {
      "text/html": [
       "<div>\n",
       "<style scoped>\n",
       "    .dataframe tbody tr th:only-of-type {\n",
       "        vertical-align: middle;\n",
       "    }\n",
       "\n",
       "    .dataframe tbody tr th {\n",
       "        vertical-align: top;\n",
       "    }\n",
       "\n",
       "    .dataframe thead th {\n",
       "        text-align: right;\n",
       "    }\n",
       "</style>\n",
       "<table border=\"1\" class=\"dataframe\">\n",
       "  <thead>\n",
       "    <tr style=\"text-align: right;\">\n",
       "      <th></th>\n",
       "      <th>Modelo</th>\n",
       "      <th>Tiempo de entrenamiento</th>\n",
       "      <th>Tiempo de predicción</th>\n",
       "      <th>Desempeño (RMSE)</th>\n",
       "    </tr>\n",
       "  </thead>\n",
       "  <tbody>\n",
       "    <tr>\n",
       "      <th>0</th>\n",
       "      <td>Arbol de decisión</td>\n",
       "      <td>5.7</td>\n",
       "      <td>0.1</td>\n",
       "      <td>1787.7</td>\n",
       "    </tr>\n",
       "    <tr>\n",
       "      <th>1</th>\n",
       "      <td>Bosque Aleatorio</td>\n",
       "      <td>27.7</td>\n",
       "      <td>0.2</td>\n",
       "      <td>1830.9</td>\n",
       "    </tr>\n",
       "    <tr>\n",
       "      <th>2</th>\n",
       "      <td>Regresión Lineal</td>\n",
       "      <td>17.4</td>\n",
       "      <td>0.2</td>\n",
       "      <td>2498.7</td>\n",
       "    </tr>\n",
       "    <tr>\n",
       "      <th>3</th>\n",
       "      <td>CatBoost</td>\n",
       "      <td>90.4</td>\n",
       "      <td>0.3</td>\n",
       "      <td>1570.6</td>\n",
       "    </tr>\n",
       "    <tr>\n",
       "      <th>4</th>\n",
       "      <td>LightGBM</td>\n",
       "      <td>5.3</td>\n",
       "      <td>1.1</td>\n",
       "      <td>1521.0</td>\n",
       "    </tr>\n",
       "    <tr>\n",
       "      <th>5</th>\n",
       "      <td>XGBoost</td>\n",
       "      <td>339.1</td>\n",
       "      <td>1.2</td>\n",
       "      <td>3560.3</td>\n",
       "    </tr>\n",
       "  </tbody>\n",
       "</table>\n",
       "</div>"
      ],
      "text/plain": [
       "              Modelo  Tiempo de entrenamiento  Tiempo de predicción  \\\n",
       "0  Arbol de decisión                      5.7                   0.1   \n",
       "1   Bosque Aleatorio                     27.7                   0.2   \n",
       "2   Regresión Lineal                     17.4                   0.2   \n",
       "3           CatBoost                     90.4                   0.3   \n",
       "4           LightGBM                      5.3                   1.1   \n",
       "5            XGBoost                    339.1                   1.2   \n",
       "\n",
       "   Desempeño (RMSE)  \n",
       "0            1787.7  \n",
       "1            1830.9  \n",
       "2            2498.7  \n",
       "3            1570.6  \n",
       "4            1521.0  \n",
       "5            3560.3  "
      ]
     },
     "execution_count": 61,
     "metadata": {},
     "output_type": "execute_result"
    }
   ],
   "source": [
    "resumen = {\n",
    "    'Modelo': ['Arbol de decisión', 'Bosque Aleatorio', 'Regresión Lineal', 'CatBoost','LightGBM','XGBoost'],\n",
    "    'Tiempo de entrenamiento': [train_time_tree,train_time_forest,train_time_linear,train_time_cat,train_time_lgb,train_time_xgb],\n",
    "    'Tiempo de predicción': [predict_time_tree,predict_time_forest,predict_time_linear,predict_time_cat,predict_time_lgb,predict_time_xgb],\n",
    "    'Desempeño (RMSE)':[rmse_tree,rmse_forest,rmse_linear,rmse_cat,rmse_lgb,rmse_xgb]\n",
    "}\n",
    "#Utilizo round para aproximar a un solo digito\n",
    "resumen = pd.DataFrame(resumen).round(1)\n",
    "resumen"
   ]
  },
  {
   "cell_type": "markdown",
   "metadata": {},
   "source": [
    "## Conclusión"
   ]
  },
  {
   "cell_type": "markdown",
   "metadata": {},
   "source": [
    "En base a la tabla del punto anterior podemos ver que, en general, los modelos clásicos de regresión (Arbol de decisión, Bosque Aleatorio y regresión lineal) tiene un desempeño menor que los modelos CatBoost y LightGBM, en particular el modelo de regresión lineal. Por otro lado, los modelos de potenciación del gradiente CatBoost y LightGBM mostraron un desempeño superior e incluso en el caso de LightGBM, un tiempo de entrenamiento bastante bajo, mientras que XGBoost en general de todos los modelos fue el que mostro el peor desempeño y necesito un tiempo de entrenamiento elevado. Con respecto a los tiempo de predicción, los 6 modelos predicen bastante rápido y este valor tiende a ser despreciable si lo comparamos con los tiempos de entrenamiento.\n",
    "\n",
    "En conclusión, el modelo que mas se ajusta a los requerimientos de la empresa es LightGBM con los hiperparametros ```boosting_type='gbdt', objective='regression', num_leaves=31,learning_rate= 0.5, n_estimators=200```, tanto por su alta precisión, como por el poco tiempo que requiere para ser entrenado."
   ]
  },
  {
   "cell_type": "markdown",
   "metadata": {},
   "source": [
    "# Enlaces de interes\n",
    "\n",
    "https://www.themachinelearners.com/xgboost-python/  \n",
    "\n",
    "https://xgboost.readthedocs.io/en/latest/python/python_api.html#xgboost.XGBRFRegressor\n",
    "\n",
    "https://lightgbm.readthedocs.io/en/stable/Python-Intro.html\n",
    "\n",
    "https://catboost.ai/en/docs/concepts/python-reference_catboostregressor\n"
   ]
  }
 ],
 "metadata": {
  "kernelspec": {
   "display_name": "Python 3 (ipykernel)",
   "language": "python",
   "name": "python3"
  },
  "language_info": {
   "codemirror_mode": {
    "name": "ipython",
    "version": 3
   },
   "file_extension": ".py",
   "mimetype": "text/x-python",
   "name": "python",
   "nbconvert_exporter": "python",
   "pygments_lexer": "ipython3",
   "version": "3.9.5"
  },
  "toc": {
   "base_numbering": 1,
   "nav_menu": {},
   "number_sections": true,
   "sideBar": true,
   "skip_h1_title": true,
   "title_cell": "Tabla de contenidos",
   "title_sidebar": "Contents",
   "toc_cell": true,
   "toc_position": {},
   "toc_section_display": true,
   "toc_window_display": false
  }
 },
 "nbformat": 4,
 "nbformat_minor": 2
}
